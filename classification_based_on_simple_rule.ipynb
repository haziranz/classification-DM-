{
  "nbformat": 4,
  "nbformat_minor": 0,
  "metadata": {
    "kernelspec": {
      "display_name": "Python 3",
      "language": "python",
      "name": "python3"
    },
    "language_info": {
      "name": "python",
      "version": "3.6.6",
      "mimetype": "text/x-python",
      "codemirror_mode": {
        "name": "ipython",
        "version": 3
      },
      "pygments_lexer": "ipython3",
      "nbconvert_exporter": "python",
      "file_extension": ".py"
    },
    "colab": {
      "name": "classification-based-on-simple-rule.ipynb",
      "provenance": [],
      "toc_visible": true,
      "include_colab_link": true
    }
  },
  "cells": [
    {
      "cell_type": "markdown",
      "metadata": {
        "id": "view-in-github",
        "colab_type": "text"
      },
      "source": [
        "<a href=\"https://colab.research.google.com/github/haziranz/classification-DM-/blob/main/classification_based_on_simple_rule.ipynb\" target=\"_parent\"><img src=\"https://colab.research.google.com/assets/colab-badge.svg\" alt=\"Open In Colab\"/></a>"
      ]
    },
    {
      "cell_type": "markdown",
      "metadata": {
        "_uuid": "7e60a5c174360d9d44d00e25daab89d33853572c",
        "id": "GAFYyG6QTA-6"
      },
      "source": [
        "# Standard Routines <a class=\"anchor\" id=\"standard\"></a>"
      ]
    },
    {
      "cell_type": "markdown",
      "metadata": {
        "_uuid": "588a5dc9fb0d95e35ae8c04b8d682d094e361446",
        "id": "baqgPL7DTA--"
      },
      "source": [
        "For the sake of readability, we summarize all imports below."
      ]
    },
    {
      "cell_type": "code",
      "metadata": {
        "_uuid": "55101d30a42dfac8ccb35bb464d3b0233f312951",
        "trusted": true,
        "id": "XpUzFsgeTA_A",
        "outputId": "bf7ee148-a387-4491-e78c-f738fd814d06",
        "colab": {
          "base_uri": "https://localhost:8080/"
        }
      },
      "source": [
        "import pandas as pd\n",
        "import xgboost as xgb\n",
        "from sklearn import metrics\n",
        "from sklearn.preprocessing import LabelEncoder, StandardScaler\n",
        "from sklearn.base import TransformerMixin\n",
        "from sklearn.linear_model import LogisticRegression\n",
        "from sklearn.svm import SVC\n",
        "from sklearn.neighbors import KNeighborsClassifier\n",
        "from sklearn.ensemble import RandomForestClassifier\n",
        "from sklearn.tree import DecisionTreeClassifier, export_graphviz\n",
        "from sklearn.model_selection import StratifiedKFold, RepeatedStratifiedKFold, KFold, cross_val_score, GridSearchCV\n",
        "from sklearn.feature_selection import SelectKBest, f_classif\n",
        "import numpy as np\n",
        "import matplotlib.pyplot as plt\n",
        "import seaborn as sns\n",
        "import warnings\n",
        "from fancyimpute import KNN\n",
        "from fancyimpute import IterativeImputer\n",
        "pd.options.mode.chained_assignment = None\n",
        "import warnings\n",
        "warnings.filterwarnings('ignore')"
      ],
      "execution_count": null,
      "outputs": [
        {
          "output_type": "stream",
          "text": [
            "/usr/local/lib/python3.6/dist-packages/sklearn/externals/six.py:31: FutureWarning: The module is deprecated in version 0.21 and will be removed in version 0.23 since we've dropped support for Python 2.7. Please rely on the official version of six (https://pypi.org/project/six/).\n",
            "  \"(https://pypi.org/project/six/).\", FutureWarning)\n"
          ],
          "name": "stderr"
        }
      ]
    },
    {
      "cell_type": "markdown",
      "metadata": {
        "_uuid": "b52e1202c04df6a9a67f7b2f90dac88c1a90cbc6",
        "id": "pcu8_UhKTA_N"
      },
      "source": [
        "We start with loading the train and test sets and building the joint train+test set."
      ]
    },
    {
      "cell_type": "code",
      "metadata": {
        "_uuid": "6f2ff89fe43abc8dcac8ed0b2308adbeb69e8694",
        "trusted": true,
        "id": "dXtBdTf_TA_P"
      },
      "source": [
        "# Load data\n",
        "train = pd.read_csv('/content/train.csv', header=0)\n",
        "test = pd.read_csv('/content/test.csv', header=0)\n",
        "\n",
        "# Merge train and test sets\n",
        "test.insert(1,'Survived',np.nan)\n",
        "all = pd.concat([train, test])"
      ],
      "execution_count": null,
      "outputs": []
    },
    {
      "cell_type": "code",
      "metadata": {
        "_uuid": "ae250e96516cafb9b7eca7792e3f2cd4c0a4144e",
        "trusted": true,
        "id": "mmKdHqF4TA_Z"
      },
      "source": [
        "# Perform corrections\n",
        "corr_dict = {248: pd.Series([0,1], index=['SibSp', 'Parch'],),\n",
        "             313: pd.Series([1,0], index=['SibSp', 'Parch'],),\n",
        "             418: pd.Series([0,0], index=['SibSp', 'Parch'],),\n",
        "             756: pd.Series([0,1], index=['SibSp', 'Parch'],),\n",
        "             1041: pd.Series([1,0], index=['SibSp', 'Parch'],),\n",
        "             1130: pd.Series([0,0], index=['SibSp', 'Parch'],),\n",
        "             1170: pd.Series([2,0], index=['SibSp', 'Parch'],),\n",
        "             1254: pd.Series([1,0], index=['SibSp', 'Parch'],),\n",
        "             1274: pd.Series([1,0], index=['SibSp', 'Parch'],),\n",
        "             539: pd.Series([1,0], index=['SibSp', 'Parch'],)\n",
        "             }\n",
        "\n",
        "all[['SibSp','Parch']] = all.apply(lambda s: corr_dict[s['PassengerId']]\n",
        "    if s['PassengerId'] in [248,313,418,756,1041,1130,1170,1254,1274,539] else s[['SibSp','Parch']], axis = 1)"
      ],
      "execution_count": null,
      "outputs": []
    },
    {
      "cell_type": "markdown",
      "metadata": {
        "_uuid": "0013b7f2a96743c09fb9a888a538e8a8760d0a15",
        "id": "4p66xA1-TA_g"
      },
      "source": [
        "# Feature Engineering <a class=\"anchor\" id=\"feature\"></a>"
      ]
    },
    {
      "cell_type": "markdown",
      "metadata": {
        "_uuid": "0e3527bf833aae6b44887942fc33dd09f4cfeed6",
        "id": "vagzD7JDTA_h"
      },
      "source": [
        "For the models based on simple rules, only few features necessary. However, for the derivation of the models, a larger set of features is considered."
      ]
    },
    {
      "cell_type": "markdown",
      "metadata": {
        "_uuid": "0b8c7e223756a4a9451b2d4f7a7f6fac8c2daf5c",
        "id": "tLoYgosUTA_i"
      },
      "source": [
        "## Title, Family Size, Group Size, is Alone, has Cabin <a class=\"anchor\" id=\"feature-1\"></a>"
      ]
    },
    {
      "cell_type": "markdown",
      "metadata": {
        "_uuid": "cc40c1c77ccf81795195854c99322068e48eba58",
        "id": "UMbA_2GcTA_j"
      },
      "source": [
        " we create the 'Title' feature."
      ]
    },
    {
      "cell_type": "code",
      "metadata": {
        "_uuid": "3f384c015b73de79b9f6e37bcc501757b2f2614d",
        "trusted": true,
        "id": "4Wad8idGTA_k"
      },
      "source": [
        "# Add Title\n",
        "all['Title'] =  all.Name.str.extract(' ([A-Za-z]+)\\.', expand=False)"
      ],
      "execution_count": null,
      "outputs": []
    },
    {
      "cell_type": "code",
      "metadata": {
        "_uuid": "e5501ea2c17213a33f6bbea92553f9506e54a147",
        "trusted": true,
        "id": "PiOALNQOTA_r"
      },
      "source": [
        "# Replace rare titles\n",
        "all.loc[all['Title'].isin(['Ms','Mlle']), 'Title'] = 'Miss'\n",
        "all.loc[all['Title'].isin(['Mme','Lady','Dona','Countess']), 'Title'] = 'Mrs'\n",
        "all.loc[all['Title'].isin(['Col','Major','Sir','Rev','Capt','Don','Jonkheer']), 'Title'] = 'Mr'\n",
        "all.loc[(all['Title'] == 'Dr') & (all['Sex'] == 'male'),'Title'] = 'Mr'\n",
        "all.loc[(all['Title'] == 'Dr') & (all['Sex'] == 'female'),'Title'] = 'Mrs'"
      ],
      "execution_count": null,
      "outputs": []
    },
    {
      "cell_type": "markdown",
      "metadata": {
        "_uuid": "cddc0f1631c6fe614eee831c652457d4537160ff",
        "id": "__u6tKPxTA_w"
      },
      "source": [
        "We add the feature representing the size of the family. The 'isAlone' feature identifies whether the person is traveling alone."
      ]
    },
    {
      "cell_type": "code",
      "metadata": {
        "_uuid": "33db2a727a72665b77a9e45efebd7b56013ed1c9",
        "trusted": true,
        "id": "bD6tHfB-TA_x"
      },
      "source": [
        "# Add Family Size and is-Alone\n",
        "all['FamSize'] = all.apply(lambda s: 1+s['SibSp']+s['Parch'], axis = 1)\n",
        "all['isAlone'] = all.apply(lambda s: 1 if s['FamSize'] == 1 else 0, axis = 1)"
      ],
      "execution_count": null,
      "outputs": []
    },
    {
      "cell_type": "markdown",
      "metadata": {
        "_uuid": "5df4ecf9be68e300ea26c4bfda331ad9e110ad83",
        "id": "HuCneJhmTA_1"
      },
      "source": [
        "feature representing the number of people sharing the same ticket and extract information about the availability of the cabin information."
      ]
    },
    {
      "cell_type": "code",
      "metadata": {
        "_uuid": "3f0ccb7e0234482158fc5e9e2264cc99eb614691",
        "trusted": true,
        "id": "tej5rM92TA_2"
      },
      "source": [
        "# Add Group Size\n",
        "ticket_counts = all['Ticket'].value_counts()\n",
        "all['GrSize'] = all.apply(lambda s: ticket_counts.loc[s['Ticket']], axis=1)\n",
        "\n",
        "# Add has-Cabin\n",
        "all['Cabin'].fillna('U',inplace=True)\n",
        "all['hasCabin'] = all.apply(lambda s: 0 if s['Cabin'] == 'U' else 1,axis = 1)"
      ],
      "execution_count": null,
      "outputs": []
    },
    {
      "cell_type": "markdown",
      "metadata": {
        "_uuid": "ce58fd534d8c35e23883971a42727f81c270f0aa",
        "id": "spYdkFuCTA_7"
      },
      "source": [
        "## with Siblings, with Spouse, with Children, with Parents <a class=\"anchor\" id=\"feature-2\"></a>"
      ]
    },
    {
      "cell_type": "code",
      "metadata": {
        "_uuid": "8880b6db3134810238f59db75638145e915b5da9",
        "trusted": true,
        "id": "LQ3cHH6DTA_9"
      },
      "source": [
        "# Add Family Name\n",
        "all['Fname'] =  all.Name.str.extract('^(.+?),', expand=False)\n",
        "\n",
        "# Search for passengers with siblings\n",
        "Pas_wSib = []\n",
        "all_x_0 = all[(all['SibSp'] > 0) & (all['Parch'] == 0)]\n",
        "name_counts_SibSp = all_x_0['Fname'].value_counts()\n",
        "for label, value in name_counts_SibSp.items():\n",
        "    entries = all_x_0[all_x_0['Fname'] == label]\n",
        "    if (entries.shape[0] > 1 and (not (entries['Title'] == 'Mrs').any())) or \\\n",
        "       (entries.shape[0] == 1 and entries['Title'].values[0] == 'Mrs'):\n",
        "            Pas_wSib.extend(entries['PassengerId'].values.tolist())\n",
        "    else:\n",
        "        Pas_wSib.extend( \\\n",
        "            entries[(entries['Title'] == 'Miss')|(entries['GrSize'] == 1)]['PassengerId'].values.tolist())\n",
        "\n",
        "# Search for Mrs-es with parents\n",
        "Mrs_wPar = []\n",
        "all_x_y = all[all['Parch'] > 0]\n",
        "name_counts_Parch = all_x_y['Fname'].value_counts()\n",
        "for label, value in name_counts_Parch.items():\n",
        "    entries = all_x_y[all_x_y['Fname'] == label]\n",
        "    if entries.shape[0] == 1:\n",
        "        if entries['Title'].values[0] == 'Mrs' and entries['Age'].values[0] <= 30:\n",
        "            Mrs_wPar.extend(entries['PassengerId'].values.tolist())\n",
        "\n",
        "def get_features(row):\n",
        "\n",
        "    features = pd.Series(0, index = ['wSib','wSp','wCh','wPar'])\n",
        "\n",
        "    if row['PassengerId'] in Pas_wSib:\n",
        "        features['wSib'] = 1\n",
        "    else:\n",
        "        if (row['SibSp'] != 0) & (row['Parch'] == 0):\n",
        "            features['wSp'] = 1\n",
        "        else:\n",
        "            if  ( (row['Title']=='Mrs')&(not row['PassengerId'] in Mrs_wPar) )| \\\n",
        "                ( (row['Title']=='Mr')&(not row['PassengerId'] == 680)&\n",
        "                                        ( ((row['Pclass']==1)&(row['Age']>=30))|\n",
        "                                          ((row['Pclass']==2)&(row['Age']>=25))|\n",
        "                                          ((row['Pclass']==3)&(row['Age']>=20)) ) ):\n",
        "                features['wCh'] = 1\n",
        "            else:\n",
        "                features['wPar'] = 1\n",
        "\n",
        "    return features\n",
        "\n",
        "all[['wSib','wSp','wCh','wPar']] = all.apply(lambda s: get_features(s) if s['isAlone'] == 0 else [0,0,0,0], axis = 1)"
      ],
      "execution_count": null,
      "outputs": []
    },
    {
      "cell_type": "code",
      "metadata": {
        "_uuid": "813d2ad4bd535a6d2f7f625ff0ecef63fec7c4a0",
        "trusted": true,
        "id": "znGNLKTFTBAD"
      },
      "source": [
        "all = all.drop(['Fname','Name','Cabin','Ticket','Fare','SibSp','Parch'], axis = 1)"
      ],
      "execution_count": null,
      "outputs": []
    },
    {
      "cell_type": "markdown",
      "metadata": {
        "_uuid": "90ee4b9758c9897a428692159e866877d0045224",
        "id": "zKdElTRhTBAH"
      },
      "source": [
        "# Exploratory Data Analysis <a class=\"anchor\" id=\"EDA\"></a>"
      ]
    },
    {
      "cell_type": "markdown",
      "metadata": {
        "_uuid": "5a0f1d787a6378108f325bf808c5dc3bc63fd7ec",
        "id": "C6aUM8LyTBAK"
      },
      "source": [
        "## Class 1 <a class=\"anchor\" id=\"EDA-1\"></a>"
      ]
    },
    {
      "cell_type": "code",
      "metadata": {
        "_uuid": "9064568535fa07952493bfacc74e8bcb53d952be",
        "trusted": true,
        "id": "y6dYbg8LTBAM",
        "outputId": "ab73dc02-4115-4ebd-d8f7-0911dc2594c8",
        "colab": {
          "base_uri": "https://localhost:8080/",
          "height": 520
        }
      },
      "source": [
        "all[all['Pclass'] == 1].groupby(['Title','isAlone','wSib','wSp','wCh','wPar'])['Survived'].agg(['count','size','mean'])"
      ],
      "execution_count": null,
      "outputs": [
        {
          "output_type": "execute_result",
          "data": {
            "text/html": [
              "<div>\n",
              "<style scoped>\n",
              "    .dataframe tbody tr th:only-of-type {\n",
              "        vertical-align: middle;\n",
              "    }\n",
              "\n",
              "    .dataframe tbody tr th {\n",
              "        vertical-align: top;\n",
              "    }\n",
              "\n",
              "    .dataframe thead th {\n",
              "        text-align: right;\n",
              "    }\n",
              "</style>\n",
              "<table border=\"1\" class=\"dataframe\">\n",
              "  <thead>\n",
              "    <tr style=\"text-align: right;\">\n",
              "      <th></th>\n",
              "      <th></th>\n",
              "      <th></th>\n",
              "      <th></th>\n",
              "      <th></th>\n",
              "      <th></th>\n",
              "      <th>count</th>\n",
              "      <th>size</th>\n",
              "      <th>mean</th>\n",
              "    </tr>\n",
              "    <tr>\n",
              "      <th>Title</th>\n",
              "      <th>isAlone</th>\n",
              "      <th>wSib</th>\n",
              "      <th>wSp</th>\n",
              "      <th>wCh</th>\n",
              "      <th>wPar</th>\n",
              "      <th></th>\n",
              "      <th></th>\n",
              "      <th></th>\n",
              "    </tr>\n",
              "  </thead>\n",
              "  <tbody>\n",
              "    <tr>\n",
              "      <th>Master</th>\n",
              "      <th>0</th>\n",
              "      <th>0</th>\n",
              "      <th>0</th>\n",
              "      <th>0</th>\n",
              "      <th>1</th>\n",
              "      <td>3</td>\n",
              "      <td>5</td>\n",
              "      <td>1.000000</td>\n",
              "    </tr>\n",
              "    <tr>\n",
              "      <th rowspan=\"3\" valign=\"top\">Miss</th>\n",
              "      <th rowspan=\"2\" valign=\"top\">0</th>\n",
              "      <th>0</th>\n",
              "      <th>0</th>\n",
              "      <th>0</th>\n",
              "      <th>1</th>\n",
              "      <td>16</td>\n",
              "      <td>19</td>\n",
              "      <td>0.937500</td>\n",
              "    </tr>\n",
              "    <tr>\n",
              "      <th>1</th>\n",
              "      <th>0</th>\n",
              "      <th>0</th>\n",
              "      <th>0</th>\n",
              "      <td>5</td>\n",
              "      <td>5</td>\n",
              "      <td>1.000000</td>\n",
              "    </tr>\n",
              "    <tr>\n",
              "      <th>1</th>\n",
              "      <th>0</th>\n",
              "      <th>0</th>\n",
              "      <th>0</th>\n",
              "      <th>0</th>\n",
              "      <td>27</td>\n",
              "      <td>38</td>\n",
              "      <td>0.962963</td>\n",
              "    </tr>\n",
              "    <tr>\n",
              "      <th rowspan=\"5\" valign=\"top\">Mr</th>\n",
              "      <th rowspan=\"4\" valign=\"top\">0</th>\n",
              "      <th rowspan=\"3\" valign=\"top\">0</th>\n",
              "      <th rowspan=\"2\" valign=\"top\">0</th>\n",
              "      <th>0</th>\n",
              "      <th>1</th>\n",
              "      <td>7</td>\n",
              "      <td>8</td>\n",
              "      <td>0.428571</td>\n",
              "    </tr>\n",
              "    <tr>\n",
              "      <th>1</th>\n",
              "      <th>0</th>\n",
              "      <td>13</td>\n",
              "      <td>21</td>\n",
              "      <td>0.230769</td>\n",
              "    </tr>\n",
              "    <tr>\n",
              "      <th>1</th>\n",
              "      <th>0</th>\n",
              "      <th>0</th>\n",
              "      <td>24</td>\n",
              "      <td>36</td>\n",
              "      <td>0.458333</td>\n",
              "    </tr>\n",
              "    <tr>\n",
              "      <th>1</th>\n",
              "      <th>0</th>\n",
              "      <th>0</th>\n",
              "      <th>0</th>\n",
              "      <td>0</td>\n",
              "      <td>1</td>\n",
              "      <td>NaN</td>\n",
              "    </tr>\n",
              "    <tr>\n",
              "      <th>1</th>\n",
              "      <th>0</th>\n",
              "      <th>0</th>\n",
              "      <th>0</th>\n",
              "      <th>0</th>\n",
              "      <td>75</td>\n",
              "      <td>108</td>\n",
              "      <td>0.333333</td>\n",
              "    </tr>\n",
              "    <tr>\n",
              "      <th rowspan=\"5\" valign=\"top\">Mrs</th>\n",
              "      <th rowspan=\"4\" valign=\"top\">0</th>\n",
              "      <th rowspan=\"3\" valign=\"top\">0</th>\n",
              "      <th rowspan=\"2\" valign=\"top\">0</th>\n",
              "      <th>0</th>\n",
              "      <th>1</th>\n",
              "      <td>0</td>\n",
              "      <td>3</td>\n",
              "      <td>NaN</td>\n",
              "    </tr>\n",
              "    <tr>\n",
              "      <th>1</th>\n",
              "      <th>0</th>\n",
              "      <td>14</td>\n",
              "      <td>25</td>\n",
              "      <td>0.928571</td>\n",
              "    </tr>\n",
              "    <tr>\n",
              "      <th>1</th>\n",
              "      <th>0</th>\n",
              "      <th>0</th>\n",
              "      <td>21</td>\n",
              "      <td>33</td>\n",
              "      <td>1.000000</td>\n",
              "    </tr>\n",
              "    <tr>\n",
              "      <th>1</th>\n",
              "      <th>0</th>\n",
              "      <th>0</th>\n",
              "      <th>0</th>\n",
              "      <td>4</td>\n",
              "      <td>7</td>\n",
              "      <td>1.000000</td>\n",
              "    </tr>\n",
              "    <tr>\n",
              "      <th>1</th>\n",
              "      <th>0</th>\n",
              "      <th>0</th>\n",
              "      <th>0</th>\n",
              "      <th>0</th>\n",
              "      <td>7</td>\n",
              "      <td>14</td>\n",
              "      <td>1.000000</td>\n",
              "    </tr>\n",
              "  </tbody>\n",
              "</table>\n",
              "</div>"
            ],
            "text/plain": [
              "                                  count  size      mean\n",
              "Title  isAlone wSib wSp wCh wPar                       \n",
              "Master 0       0    0   0   1         3     5  1.000000\n",
              "Miss   0       0    0   0   1        16    19  0.937500\n",
              "               1    0   0   0         5     5  1.000000\n",
              "       1       0    0   0   0        27    38  0.962963\n",
              "Mr     0       0    0   0   1         7     8  0.428571\n",
              "                        1   0        13    21  0.230769\n",
              "                    1   0   0        24    36  0.458333\n",
              "               1    0   0   0         0     1       NaN\n",
              "       1       0    0   0   0        75   108  0.333333\n",
              "Mrs    0       0    0   0   1         0     3       NaN\n",
              "                        1   0        14    25  0.928571\n",
              "                    1   0   0        21    33  1.000000\n",
              "               1    0   0   0         4     7  1.000000\n",
              "       1       0    0   0   0         7    14  1.000000"
            ]
          },
          "metadata": {
            "tags": []
          },
          "execution_count": 16
        }
      ]
    },
    {
      "cell_type": "code",
      "metadata": {
        "_uuid": "69e4f546a9896e8693ecb8dcf260b583635c673a",
        "trusted": true,
        "id": "kN8RFR9LTBAS",
        "outputId": "ee5faf4c-60c0-4306-e65b-d6fb76d63c2c",
        "colab": {
          "base_uri": "https://localhost:8080/",
          "height": 363
        }
      },
      "source": [
        "all[(all['Pclass'] == 1)&(all['Title'] == 'Mr') ].groupby(['hasCabin','isAlone','wSib','wSp','wCh','wPar'])['Survived'].agg(['count','size','mean'])"
      ],
      "execution_count": null,
      "outputs": [
        {
          "output_type": "execute_result",
          "data": {
            "text/html": [
              "<div>\n",
              "<style scoped>\n",
              "    .dataframe tbody tr th:only-of-type {\n",
              "        vertical-align: middle;\n",
              "    }\n",
              "\n",
              "    .dataframe tbody tr th {\n",
              "        vertical-align: top;\n",
              "    }\n",
              "\n",
              "    .dataframe thead th {\n",
              "        text-align: right;\n",
              "    }\n",
              "</style>\n",
              "<table border=\"1\" class=\"dataframe\">\n",
              "  <thead>\n",
              "    <tr style=\"text-align: right;\">\n",
              "      <th></th>\n",
              "      <th></th>\n",
              "      <th></th>\n",
              "      <th></th>\n",
              "      <th></th>\n",
              "      <th></th>\n",
              "      <th>count</th>\n",
              "      <th>size</th>\n",
              "      <th>mean</th>\n",
              "    </tr>\n",
              "    <tr>\n",
              "      <th>hasCabin</th>\n",
              "      <th>isAlone</th>\n",
              "      <th>wSib</th>\n",
              "      <th>wSp</th>\n",
              "      <th>wCh</th>\n",
              "      <th>wPar</th>\n",
              "      <th></th>\n",
              "      <th></th>\n",
              "      <th></th>\n",
              "    </tr>\n",
              "  </thead>\n",
              "  <tbody>\n",
              "    <tr>\n",
              "      <th rowspan=\"4\" valign=\"top\">0</th>\n",
              "      <th rowspan=\"3\" valign=\"top\">0</th>\n",
              "      <th rowspan=\"3\" valign=\"top\">0</th>\n",
              "      <th rowspan=\"2\" valign=\"top\">0</th>\n",
              "      <th>0</th>\n",
              "      <th>1</th>\n",
              "      <td>0</td>\n",
              "      <td>1</td>\n",
              "      <td>NaN</td>\n",
              "    </tr>\n",
              "    <tr>\n",
              "      <th>1</th>\n",
              "      <th>0</th>\n",
              "      <td>1</td>\n",
              "      <td>2</td>\n",
              "      <td>0.000000</td>\n",
              "    </tr>\n",
              "    <tr>\n",
              "      <th>1</th>\n",
              "      <th>0</th>\n",
              "      <th>0</th>\n",
              "      <td>3</td>\n",
              "      <td>4</td>\n",
              "      <td>0.333333</td>\n",
              "    </tr>\n",
              "    <tr>\n",
              "      <th>1</th>\n",
              "      <th>0</th>\n",
              "      <th>0</th>\n",
              "      <th>0</th>\n",
              "      <th>0</th>\n",
              "      <td>23</td>\n",
              "      <td>37</td>\n",
              "      <td>0.217391</td>\n",
              "    </tr>\n",
              "    <tr>\n",
              "      <th rowspan=\"5\" valign=\"top\">1</th>\n",
              "      <th rowspan=\"4\" valign=\"top\">0</th>\n",
              "      <th rowspan=\"3\" valign=\"top\">0</th>\n",
              "      <th rowspan=\"2\" valign=\"top\">0</th>\n",
              "      <th>0</th>\n",
              "      <th>1</th>\n",
              "      <td>7</td>\n",
              "      <td>7</td>\n",
              "      <td>0.428571</td>\n",
              "    </tr>\n",
              "    <tr>\n",
              "      <th>1</th>\n",
              "      <th>0</th>\n",
              "      <td>12</td>\n",
              "      <td>19</td>\n",
              "      <td>0.250000</td>\n",
              "    </tr>\n",
              "    <tr>\n",
              "      <th>1</th>\n",
              "      <th>0</th>\n",
              "      <th>0</th>\n",
              "      <td>21</td>\n",
              "      <td>32</td>\n",
              "      <td>0.476190</td>\n",
              "    </tr>\n",
              "    <tr>\n",
              "      <th>1</th>\n",
              "      <th>0</th>\n",
              "      <th>0</th>\n",
              "      <th>0</th>\n",
              "      <td>0</td>\n",
              "      <td>1</td>\n",
              "      <td>NaN</td>\n",
              "    </tr>\n",
              "    <tr>\n",
              "      <th>1</th>\n",
              "      <th>0</th>\n",
              "      <th>0</th>\n",
              "      <th>0</th>\n",
              "      <th>0</th>\n",
              "      <td>52</td>\n",
              "      <td>71</td>\n",
              "      <td>0.384615</td>\n",
              "    </tr>\n",
              "  </tbody>\n",
              "</table>\n",
              "</div>"
            ],
            "text/plain": [
              "                                    count  size      mean\n",
              "hasCabin isAlone wSib wSp wCh wPar                       \n",
              "0        0       0    0   0   1         0     1       NaN\n",
              "                          1   0         1     2  0.000000\n",
              "                      1   0   0         3     4  0.333333\n",
              "         1       0    0   0   0        23    37  0.217391\n",
              "1        0       0    0   0   1         7     7  0.428571\n",
              "                          1   0        12    19  0.250000\n",
              "                      1   0   0        21    32  0.476190\n",
              "                 1    0   0   0         0     1       NaN\n",
              "         1       0    0   0   0        52    71  0.384615"
            ]
          },
          "metadata": {
            "tags": []
          },
          "execution_count": 17
        }
      ]
    },
    {
      "cell_type": "markdown",
      "metadata": {
        "_uuid": "e365717ee2d330eae24bab51efe9b740b69c9634",
        "id": "P69_HnHDTBAY"
      },
      "source": [
        "## Class 2 <a class=\"anchor\" id=\"EDA-2\"></a>"
      ]
    },
    {
      "cell_type": "code",
      "metadata": {
        "_uuid": "c9512d5a6f0723895931e1c81eebaeebda39e326",
        "trusted": true,
        "id": "vTEKU5aKTBAZ",
        "outputId": "cbc76a4f-1903-4ae3-9128-3142ea3b3eb3",
        "colab": {
          "base_uri": "https://localhost:8080/",
          "height": 489
        }
      },
      "source": [
        "all[all['Pclass'] == 2].groupby(['Title','isAlone','wSib','wSp','wCh','wPar'])['Survived'].agg(['count','size','mean'])"
      ],
      "execution_count": null,
      "outputs": [
        {
          "output_type": "execute_result",
          "data": {
            "text/html": [
              "<div>\n",
              "<style scoped>\n",
              "    .dataframe tbody tr th:only-of-type {\n",
              "        vertical-align: middle;\n",
              "    }\n",
              "\n",
              "    .dataframe tbody tr th {\n",
              "        vertical-align: top;\n",
              "    }\n",
              "\n",
              "    .dataframe thead th {\n",
              "        text-align: right;\n",
              "    }\n",
              "</style>\n",
              "<table border=\"1\" class=\"dataframe\">\n",
              "  <thead>\n",
              "    <tr style=\"text-align: right;\">\n",
              "      <th></th>\n",
              "      <th></th>\n",
              "      <th></th>\n",
              "      <th></th>\n",
              "      <th></th>\n",
              "      <th></th>\n",
              "      <th>count</th>\n",
              "      <th>size</th>\n",
              "      <th>mean</th>\n",
              "    </tr>\n",
              "    <tr>\n",
              "      <th>Title</th>\n",
              "      <th>isAlone</th>\n",
              "      <th>wSib</th>\n",
              "      <th>wSp</th>\n",
              "      <th>wCh</th>\n",
              "      <th>wPar</th>\n",
              "      <th></th>\n",
              "      <th></th>\n",
              "      <th></th>\n",
              "    </tr>\n",
              "  </thead>\n",
              "  <tbody>\n",
              "    <tr>\n",
              "      <th>Master</th>\n",
              "      <th>0</th>\n",
              "      <th>0</th>\n",
              "      <th>0</th>\n",
              "      <th>0</th>\n",
              "      <th>1</th>\n",
              "      <td>9</td>\n",
              "      <td>11</td>\n",
              "      <td>1.000000</td>\n",
              "    </tr>\n",
              "    <tr>\n",
              "      <th rowspan=\"3\" valign=\"top\">Miss</th>\n",
              "      <th rowspan=\"2\" valign=\"top\">0</th>\n",
              "      <th>0</th>\n",
              "      <th>0</th>\n",
              "      <th>0</th>\n",
              "      <th>1</th>\n",
              "      <td>12</td>\n",
              "      <td>20</td>\n",
              "      <td>1.000000</td>\n",
              "    </tr>\n",
              "    <tr>\n",
              "      <th>1</th>\n",
              "      <th>0</th>\n",
              "      <th>0</th>\n",
              "      <th>0</th>\n",
              "      <td>1</td>\n",
              "      <td>3</td>\n",
              "      <td>1.000000</td>\n",
              "    </tr>\n",
              "    <tr>\n",
              "      <th>1</th>\n",
              "      <th>0</th>\n",
              "      <th>0</th>\n",
              "      <th>0</th>\n",
              "      <th>0</th>\n",
              "      <td>22</td>\n",
              "      <td>28</td>\n",
              "      <td>0.909091</td>\n",
              "    </tr>\n",
              "    <tr>\n",
              "      <th rowspan=\"5\" valign=\"top\">Mr</th>\n",
              "      <th rowspan=\"4\" valign=\"top\">0</th>\n",
              "      <th rowspan=\"3\" valign=\"top\">0</th>\n",
              "      <th rowspan=\"2\" valign=\"top\">0</th>\n",
              "      <th>0</th>\n",
              "      <th>1</th>\n",
              "      <td>2</td>\n",
              "      <td>2</td>\n",
              "      <td>0.000000</td>\n",
              "    </tr>\n",
              "    <tr>\n",
              "      <th>1</th>\n",
              "      <th>0</th>\n",
              "      <td>8</td>\n",
              "      <td>12</td>\n",
              "      <td>0.000000</td>\n",
              "    </tr>\n",
              "    <tr>\n",
              "      <th>1</th>\n",
              "      <th>0</th>\n",
              "      <th>0</th>\n",
              "      <td>11</td>\n",
              "      <td>19</td>\n",
              "      <td>0.090909</td>\n",
              "    </tr>\n",
              "    <tr>\n",
              "      <th>1</th>\n",
              "      <th>0</th>\n",
              "      <th>0</th>\n",
              "      <th>0</th>\n",
              "      <td>6</td>\n",
              "      <td>11</td>\n",
              "      <td>0.000000</td>\n",
              "    </tr>\n",
              "    <tr>\n",
              "      <th>1</th>\n",
              "      <th>0</th>\n",
              "      <th>0</th>\n",
              "      <th>0</th>\n",
              "      <th>0</th>\n",
              "      <td>72</td>\n",
              "      <td>116</td>\n",
              "      <td>0.097222</td>\n",
              "    </tr>\n",
              "    <tr>\n",
              "      <th rowspan=\"4\" valign=\"top\">Mrs</th>\n",
              "      <th rowspan=\"3\" valign=\"top\">0</th>\n",
              "      <th rowspan=\"3\" valign=\"top\">0</th>\n",
              "      <th rowspan=\"2\" valign=\"top\">0</th>\n",
              "      <th>0</th>\n",
              "      <th>1</th>\n",
              "      <td>2</td>\n",
              "      <td>2</td>\n",
              "      <td>1.000000</td>\n",
              "    </tr>\n",
              "    <tr>\n",
              "      <th>1</th>\n",
              "      <th>0</th>\n",
              "      <td>15</td>\n",
              "      <td>20</td>\n",
              "      <td>1.000000</td>\n",
              "    </tr>\n",
              "    <tr>\n",
              "      <th>1</th>\n",
              "      <th>0</th>\n",
              "      <th>0</th>\n",
              "      <td>13</td>\n",
              "      <td>18</td>\n",
              "      <td>0.769231</td>\n",
              "    </tr>\n",
              "    <tr>\n",
              "      <th>1</th>\n",
              "      <th>0</th>\n",
              "      <th>0</th>\n",
              "      <th>0</th>\n",
              "      <th>0</th>\n",
              "      <td>11</td>\n",
              "      <td>15</td>\n",
              "      <td>0.909091</td>\n",
              "    </tr>\n",
              "  </tbody>\n",
              "</table>\n",
              "</div>"
            ],
            "text/plain": [
              "                                  count  size      mean\n",
              "Title  isAlone wSib wSp wCh wPar                       \n",
              "Master 0       0    0   0   1         9    11  1.000000\n",
              "Miss   0       0    0   0   1        12    20  1.000000\n",
              "               1    0   0   0         1     3  1.000000\n",
              "       1       0    0   0   0        22    28  0.909091\n",
              "Mr     0       0    0   0   1         2     2  0.000000\n",
              "                        1   0         8    12  0.000000\n",
              "                    1   0   0        11    19  0.090909\n",
              "               1    0   0   0         6    11  0.000000\n",
              "       1       0    0   0   0        72   116  0.097222\n",
              "Mrs    0       0    0   0   1         2     2  1.000000\n",
              "                        1   0        15    20  1.000000\n",
              "                    1   0   0        13    18  0.769231\n",
              "       1       0    0   0   0        11    15  0.909091"
            ]
          },
          "metadata": {
            "tags": []
          },
          "execution_count": 18
        }
      ]
    },
    {
      "cell_type": "markdown",
      "metadata": {
        "_uuid": "f5c1913ee5aff2d03ac5ae73736f72b5fd87326a",
        "id": "bp7yV7cETBAe"
      },
      "source": [
        "## Class 3 <a class=\"anchor\" id=\"EDA-3\"></a>"
      ]
    },
    {
      "cell_type": "code",
      "metadata": {
        "_uuid": "db074d065eab23d32879e505eb9ec6be10c0e050",
        "trusted": true,
        "id": "vKPrmEwKTBAe",
        "outputId": "e041fc8d-e47b-4e12-c461-d448d572190a",
        "colab": {
          "base_uri": "https://localhost:8080/",
          "height": 551
        }
      },
      "source": [
        "all[all['Pclass'] == 3].groupby(['Title','isAlone','wSib','wSp','wCh','wPar'])['Survived'].agg(['count','size','mean'])"
      ],
      "execution_count": null,
      "outputs": [
        {
          "output_type": "execute_result",
          "data": {
            "text/html": [
              "<div>\n",
              "<style scoped>\n",
              "    .dataframe tbody tr th:only-of-type {\n",
              "        vertical-align: middle;\n",
              "    }\n",
              "\n",
              "    .dataframe tbody tr th {\n",
              "        vertical-align: top;\n",
              "    }\n",
              "\n",
              "    .dataframe thead th {\n",
              "        text-align: right;\n",
              "    }\n",
              "</style>\n",
              "<table border=\"1\" class=\"dataframe\">\n",
              "  <thead>\n",
              "    <tr style=\"text-align: right;\">\n",
              "      <th></th>\n",
              "      <th></th>\n",
              "      <th></th>\n",
              "      <th></th>\n",
              "      <th></th>\n",
              "      <th></th>\n",
              "      <th>count</th>\n",
              "      <th>size</th>\n",
              "      <th>mean</th>\n",
              "    </tr>\n",
              "    <tr>\n",
              "      <th>Title</th>\n",
              "      <th>isAlone</th>\n",
              "      <th>wSib</th>\n",
              "      <th>wSp</th>\n",
              "      <th>wCh</th>\n",
              "      <th>wPar</th>\n",
              "      <th></th>\n",
              "      <th></th>\n",
              "      <th></th>\n",
              "    </tr>\n",
              "  </thead>\n",
              "  <tbody>\n",
              "    <tr>\n",
              "      <th rowspan=\"3\" valign=\"top\">Master</th>\n",
              "      <th rowspan=\"2\" valign=\"top\">0</th>\n",
              "      <th>0</th>\n",
              "      <th>0</th>\n",
              "      <th>0</th>\n",
              "      <th>1</th>\n",
              "      <td>27</td>\n",
              "      <td>43</td>\n",
              "      <td>0.370370</td>\n",
              "    </tr>\n",
              "    <tr>\n",
              "      <th>1</th>\n",
              "      <th>0</th>\n",
              "      <th>0</th>\n",
              "      <th>0</th>\n",
              "      <td>1</td>\n",
              "      <td>1</td>\n",
              "      <td>1.000000</td>\n",
              "    </tr>\n",
              "    <tr>\n",
              "      <th>1</th>\n",
              "      <th>0</th>\n",
              "      <th>0</th>\n",
              "      <th>0</th>\n",
              "      <th>0</th>\n",
              "      <td>0</td>\n",
              "      <td>1</td>\n",
              "      <td>NaN</td>\n",
              "    </tr>\n",
              "    <tr>\n",
              "      <th rowspan=\"3\" valign=\"top\">Miss</th>\n",
              "      <th rowspan=\"2\" valign=\"top\">0</th>\n",
              "      <th>0</th>\n",
              "      <th>0</th>\n",
              "      <th>0</th>\n",
              "      <th>1</th>\n",
              "      <td>35</td>\n",
              "      <td>45</td>\n",
              "      <td>0.342857</td>\n",
              "    </tr>\n",
              "    <tr>\n",
              "      <th>1</th>\n",
              "      <th>0</th>\n",
              "      <th>0</th>\n",
              "      <th>0</th>\n",
              "      <td>12</td>\n",
              "      <td>16</td>\n",
              "      <td>0.500000</td>\n",
              "    </tr>\n",
              "    <tr>\n",
              "      <th>1</th>\n",
              "      <th>0</th>\n",
              "      <th>0</th>\n",
              "      <th>0</th>\n",
              "      <th>0</th>\n",
              "      <td>55</td>\n",
              "      <td>90</td>\n",
              "      <td>0.600000</td>\n",
              "    </tr>\n",
              "    <tr>\n",
              "      <th rowspan=\"5\" valign=\"top\">Mr</th>\n",
              "      <th rowspan=\"4\" valign=\"top\">0</th>\n",
              "      <th rowspan=\"3\" valign=\"top\">0</th>\n",
              "      <th rowspan=\"2\" valign=\"top\">0</th>\n",
              "      <th>0</th>\n",
              "      <th>1</th>\n",
              "      <td>13</td>\n",
              "      <td>15</td>\n",
              "      <td>0.000000</td>\n",
              "    </tr>\n",
              "    <tr>\n",
              "      <th>1</th>\n",
              "      <th>0</th>\n",
              "      <td>11</td>\n",
              "      <td>16</td>\n",
              "      <td>0.090909</td>\n",
              "    </tr>\n",
              "    <tr>\n",
              "      <th>1</th>\n",
              "      <th>0</th>\n",
              "      <th>0</th>\n",
              "      <td>12</td>\n",
              "      <td>19</td>\n",
              "      <td>0.000000</td>\n",
              "    </tr>\n",
              "    <tr>\n",
              "      <th>1</th>\n",
              "      <th>0</th>\n",
              "      <th>0</th>\n",
              "      <th>0</th>\n",
              "      <td>20</td>\n",
              "      <td>28</td>\n",
              "      <td>0.150000</td>\n",
              "    </tr>\n",
              "    <tr>\n",
              "      <th>1</th>\n",
              "      <th>0</th>\n",
              "      <th>0</th>\n",
              "      <th>0</th>\n",
              "      <th>0</th>\n",
              "      <td>263</td>\n",
              "      <td>370</td>\n",
              "      <td>0.121673</td>\n",
              "    </tr>\n",
              "    <tr>\n",
              "      <th rowspan=\"4\" valign=\"top\">Mrs</th>\n",
              "      <th rowspan=\"3\" valign=\"top\">0</th>\n",
              "      <th rowspan=\"2\" valign=\"top\">0</th>\n",
              "      <th>0</th>\n",
              "      <th>1</th>\n",
              "      <th>0</th>\n",
              "      <td>24</td>\n",
              "      <td>36</td>\n",
              "      <td>0.416667</td>\n",
              "    </tr>\n",
              "    <tr>\n",
              "      <th>1</th>\n",
              "      <th>0</th>\n",
              "      <th>0</th>\n",
              "      <td>12</td>\n",
              "      <td>18</td>\n",
              "      <td>0.583333</td>\n",
              "    </tr>\n",
              "    <tr>\n",
              "      <th>1</th>\n",
              "      <th>0</th>\n",
              "      <th>0</th>\n",
              "      <th>0</th>\n",
              "      <td>1</td>\n",
              "      <td>2</td>\n",
              "      <td>0.000000</td>\n",
              "    </tr>\n",
              "    <tr>\n",
              "      <th>1</th>\n",
              "      <th>0</th>\n",
              "      <th>0</th>\n",
              "      <th>0</th>\n",
              "      <th>0</th>\n",
              "      <td>5</td>\n",
              "      <td>9</td>\n",
              "      <td>0.800000</td>\n",
              "    </tr>\n",
              "  </tbody>\n",
              "</table>\n",
              "</div>"
            ],
            "text/plain": [
              "                                  count  size      mean\n",
              "Title  isAlone wSib wSp wCh wPar                       \n",
              "Master 0       0    0   0   1        27    43  0.370370\n",
              "               1    0   0   0         1     1  1.000000\n",
              "       1       0    0   0   0         0     1       NaN\n",
              "Miss   0       0    0   0   1        35    45  0.342857\n",
              "               1    0   0   0        12    16  0.500000\n",
              "       1       0    0   0   0        55    90  0.600000\n",
              "Mr     0       0    0   0   1        13    15  0.000000\n",
              "                        1   0        11    16  0.090909\n",
              "                    1   0   0        12    19  0.000000\n",
              "               1    0   0   0        20    28  0.150000\n",
              "       1       0    0   0   0       263   370  0.121673\n",
              "Mrs    0       0    0   1   0        24    36  0.416667\n",
              "                    1   0   0        12    18  0.583333\n",
              "               1    0   0   0         1     2  0.000000\n",
              "       1       0    0   0   0         5     9  0.800000"
            ]
          },
          "metadata": {
            "tags": []
          },
          "execution_count": 19
        }
      ]
    },
    {
      "cell_type": "code",
      "metadata": {
        "_uuid": "2fe7a94c46f550a692e8bca04ba8b9d2e9389ba3",
        "trusted": true,
        "id": "Z-05nH1ATBAk",
        "outputId": "0ae1599a-34fa-4eb1-d7a3-b1245476d070",
        "colab": {
          "base_uri": "https://localhost:8080/",
          "height": 928
        }
      },
      "source": [
        "all[(all['Pclass'] == 3)&(all['Title'] != 'Mr')].groupby(['Title','FamSize'])['Survived'].agg(['count','size','mean'])"
      ],
      "execution_count": null,
      "outputs": [
        {
          "output_type": "execute_result",
          "data": {
            "text/html": [
              "<div>\n",
              "<style scoped>\n",
              "    .dataframe tbody tr th:only-of-type {\n",
              "        vertical-align: middle;\n",
              "    }\n",
              "\n",
              "    .dataframe tbody tr th {\n",
              "        vertical-align: top;\n",
              "    }\n",
              "\n",
              "    .dataframe thead th {\n",
              "        text-align: right;\n",
              "    }\n",
              "</style>\n",
              "<table border=\"1\" class=\"dataframe\">\n",
              "  <thead>\n",
              "    <tr style=\"text-align: right;\">\n",
              "      <th></th>\n",
              "      <th></th>\n",
              "      <th>count</th>\n",
              "      <th>size</th>\n",
              "      <th>mean</th>\n",
              "    </tr>\n",
              "    <tr>\n",
              "      <th>Title</th>\n",
              "      <th>FamSize</th>\n",
              "      <th></th>\n",
              "      <th></th>\n",
              "      <th></th>\n",
              "    </tr>\n",
              "  </thead>\n",
              "  <tbody>\n",
              "    <tr>\n",
              "      <th rowspan=\"9\" valign=\"top\">Master</th>\n",
              "      <th>1</th>\n",
              "      <td>0</td>\n",
              "      <td>1</td>\n",
              "      <td>NaN</td>\n",
              "    </tr>\n",
              "    <tr>\n",
              "      <th>2</th>\n",
              "      <td>3</td>\n",
              "      <td>5</td>\n",
              "      <td>1.000000</td>\n",
              "    </tr>\n",
              "    <tr>\n",
              "      <th>3</th>\n",
              "      <td>6</td>\n",
              "      <td>14</td>\n",
              "      <td>1.000000</td>\n",
              "    </tr>\n",
              "    <tr>\n",
              "      <th>4</th>\n",
              "      <td>1</td>\n",
              "      <td>2</td>\n",
              "      <td>1.000000</td>\n",
              "    </tr>\n",
              "    <tr>\n",
              "      <th>5</th>\n",
              "      <td>2</td>\n",
              "      <td>3</td>\n",
              "      <td>0.000000</td>\n",
              "    </tr>\n",
              "    <tr>\n",
              "      <th>6</th>\n",
              "      <td>9</td>\n",
              "      <td>10</td>\n",
              "      <td>0.000000</td>\n",
              "    </tr>\n",
              "    <tr>\n",
              "      <th>7</th>\n",
              "      <td>3</td>\n",
              "      <td>5</td>\n",
              "      <td>0.333333</td>\n",
              "    </tr>\n",
              "    <tr>\n",
              "      <th>8</th>\n",
              "      <td>3</td>\n",
              "      <td>3</td>\n",
              "      <td>0.000000</td>\n",
              "    </tr>\n",
              "    <tr>\n",
              "      <th>11</th>\n",
              "      <td>1</td>\n",
              "      <td>2</td>\n",
              "      <td>0.000000</td>\n",
              "    </tr>\n",
              "    <tr>\n",
              "      <th rowspan=\"9\" valign=\"top\">Miss</th>\n",
              "      <th>1</th>\n",
              "      <td>55</td>\n",
              "      <td>90</td>\n",
              "      <td>0.600000</td>\n",
              "    </tr>\n",
              "    <tr>\n",
              "      <th>2</th>\n",
              "      <td>14</td>\n",
              "      <td>17</td>\n",
              "      <td>0.500000</td>\n",
              "    </tr>\n",
              "    <tr>\n",
              "      <th>3</th>\n",
              "      <td>10</td>\n",
              "      <td>17</td>\n",
              "      <td>0.600000</td>\n",
              "    </tr>\n",
              "    <tr>\n",
              "      <th>4</th>\n",
              "      <td>4</td>\n",
              "      <td>5</td>\n",
              "      <td>0.750000</td>\n",
              "    </tr>\n",
              "    <tr>\n",
              "      <th>5</th>\n",
              "      <td>7</td>\n",
              "      <td>7</td>\n",
              "      <td>0.000000</td>\n",
              "    </tr>\n",
              "    <tr>\n",
              "      <th>6</th>\n",
              "      <td>2</td>\n",
              "      <td>2</td>\n",
              "      <td>0.000000</td>\n",
              "    </tr>\n",
              "    <tr>\n",
              "      <th>7</th>\n",
              "      <td>6</td>\n",
              "      <td>7</td>\n",
              "      <td>0.333333</td>\n",
              "    </tr>\n",
              "    <tr>\n",
              "      <th>8</th>\n",
              "      <td>1</td>\n",
              "      <td>2</td>\n",
              "      <td>0.000000</td>\n",
              "    </tr>\n",
              "    <tr>\n",
              "      <th>11</th>\n",
              "      <td>3</td>\n",
              "      <td>4</td>\n",
              "      <td>0.000000</td>\n",
              "    </tr>\n",
              "    <tr>\n",
              "      <th rowspan=\"9\" valign=\"top\">Mrs</th>\n",
              "      <th>1</th>\n",
              "      <td>5</td>\n",
              "      <td>9</td>\n",
              "      <td>0.800000</td>\n",
              "    </tr>\n",
              "    <tr>\n",
              "      <th>2</th>\n",
              "      <td>15</td>\n",
              "      <td>22</td>\n",
              "      <td>0.533333</td>\n",
              "    </tr>\n",
              "    <tr>\n",
              "      <th>3</th>\n",
              "      <td>12</td>\n",
              "      <td>20</td>\n",
              "      <td>0.500000</td>\n",
              "    </tr>\n",
              "    <tr>\n",
              "      <th>4</th>\n",
              "      <td>2</td>\n",
              "      <td>4</td>\n",
              "      <td>1.000000</td>\n",
              "    </tr>\n",
              "    <tr>\n",
              "      <th>5</th>\n",
              "      <td>2</td>\n",
              "      <td>3</td>\n",
              "      <td>0.000000</td>\n",
              "    </tr>\n",
              "    <tr>\n",
              "      <th>6</th>\n",
              "      <td>3</td>\n",
              "      <td>3</td>\n",
              "      <td>0.000000</td>\n",
              "    </tr>\n",
              "    <tr>\n",
              "      <th>7</th>\n",
              "      <td>2</td>\n",
              "      <td>2</td>\n",
              "      <td>0.500000</td>\n",
              "    </tr>\n",
              "    <tr>\n",
              "      <th>8</th>\n",
              "      <td>1</td>\n",
              "      <td>1</td>\n",
              "      <td>0.000000</td>\n",
              "    </tr>\n",
              "    <tr>\n",
              "      <th>11</th>\n",
              "      <td>0</td>\n",
              "      <td>1</td>\n",
              "      <td>NaN</td>\n",
              "    </tr>\n",
              "  </tbody>\n",
              "</table>\n",
              "</div>"
            ],
            "text/plain": [
              "                count  size      mean\n",
              "Title  FamSize                       \n",
              "Master 1            0     1       NaN\n",
              "       2            3     5  1.000000\n",
              "       3            6    14  1.000000\n",
              "       4            1     2  1.000000\n",
              "       5            2     3  0.000000\n",
              "       6            9    10  0.000000\n",
              "       7            3     5  0.333333\n",
              "       8            3     3  0.000000\n",
              "       11           1     2  0.000000\n",
              "Miss   1           55    90  0.600000\n",
              "       2           14    17  0.500000\n",
              "       3           10    17  0.600000\n",
              "       4            4     5  0.750000\n",
              "       5            7     7  0.000000\n",
              "       6            2     2  0.000000\n",
              "       7            6     7  0.333333\n",
              "       8            1     2  0.000000\n",
              "       11           3     4  0.000000\n",
              "Mrs    1            5     9  0.800000\n",
              "       2           15    22  0.533333\n",
              "       3           12    20  0.500000\n",
              "       4            2     4  1.000000\n",
              "       5            2     3  0.000000\n",
              "       6            3     3  0.000000\n",
              "       7            2     2  0.500000\n",
              "       8            1     1  0.000000\n",
              "       11           0     1       NaN"
            ]
          },
          "metadata": {
            "tags": []
          },
          "execution_count": 20
        }
      ]
    },
    {
      "cell_type": "code",
      "metadata": {
        "_uuid": "6b2f9741288fe1e90796a2301dd252844f3dc5a5",
        "trusted": true,
        "id": "aGXrHM2yTBAo"
      },
      "source": [
        "# Make FamSize bins\n",
        "all['FamSizeBin'] = pd.cut(all['FamSize'], bins = [0,4,11], labels = False)\n",
        "all = all.drop(['FamSize'], axis = 1)"
      ],
      "execution_count": null,
      "outputs": []
    },
    {
      "cell_type": "code",
      "metadata": {
        "_uuid": "6aa5f3bd6535f3b3dd82922ce0176ad0dd722c2c",
        "trusted": true,
        "id": "79WJRjQ4TBAs",
        "outputId": "cb3b6691-439e-456a-f671-31ad548e0e60",
        "colab": {
          "base_uri": "https://localhost:8080/",
          "height": 489
        }
      },
      "source": [
        "all[(all['Pclass'] == 3)&(all['Title'] != 'Mr')].groupby(['Title','FamSizeBin','isAlone','wSib','wSp','wCh','wPar'])['Survived'].agg(['count','size','mean'])"
      ],
      "execution_count": null,
      "outputs": [
        {
          "output_type": "execute_result",
          "data": {
            "text/html": [
              "<div>\n",
              "<style scoped>\n",
              "    .dataframe tbody tr th:only-of-type {\n",
              "        vertical-align: middle;\n",
              "    }\n",
              "\n",
              "    .dataframe tbody tr th {\n",
              "        vertical-align: top;\n",
              "    }\n",
              "\n",
              "    .dataframe thead th {\n",
              "        text-align: right;\n",
              "    }\n",
              "</style>\n",
              "<table border=\"1\" class=\"dataframe\">\n",
              "  <thead>\n",
              "    <tr style=\"text-align: right;\">\n",
              "      <th></th>\n",
              "      <th></th>\n",
              "      <th></th>\n",
              "      <th></th>\n",
              "      <th></th>\n",
              "      <th></th>\n",
              "      <th></th>\n",
              "      <th>count</th>\n",
              "      <th>size</th>\n",
              "      <th>mean</th>\n",
              "    </tr>\n",
              "    <tr>\n",
              "      <th>Title</th>\n",
              "      <th>FamSizeBin</th>\n",
              "      <th>isAlone</th>\n",
              "      <th>wSib</th>\n",
              "      <th>wSp</th>\n",
              "      <th>wCh</th>\n",
              "      <th>wPar</th>\n",
              "      <th></th>\n",
              "      <th></th>\n",
              "      <th></th>\n",
              "    </tr>\n",
              "  </thead>\n",
              "  <tbody>\n",
              "    <tr>\n",
              "      <th rowspan=\"4\" valign=\"top\">Master</th>\n",
              "      <th rowspan=\"3\" valign=\"top\">0</th>\n",
              "      <th rowspan=\"2\" valign=\"top\">0</th>\n",
              "      <th>0</th>\n",
              "      <th>0</th>\n",
              "      <th>0</th>\n",
              "      <th>1</th>\n",
              "      <td>9</td>\n",
              "      <td>20</td>\n",
              "      <td>1.000000</td>\n",
              "    </tr>\n",
              "    <tr>\n",
              "      <th>1</th>\n",
              "      <th>0</th>\n",
              "      <th>0</th>\n",
              "      <th>0</th>\n",
              "      <td>1</td>\n",
              "      <td>1</td>\n",
              "      <td>1.000000</td>\n",
              "    </tr>\n",
              "    <tr>\n",
              "      <th>1</th>\n",
              "      <th>0</th>\n",
              "      <th>0</th>\n",
              "      <th>0</th>\n",
              "      <th>0</th>\n",
              "      <td>0</td>\n",
              "      <td>1</td>\n",
              "      <td>NaN</td>\n",
              "    </tr>\n",
              "    <tr>\n",
              "      <th>1</th>\n",
              "      <th>0</th>\n",
              "      <th>0</th>\n",
              "      <th>0</th>\n",
              "      <th>0</th>\n",
              "      <th>1</th>\n",
              "      <td>18</td>\n",
              "      <td>23</td>\n",
              "      <td>0.055556</td>\n",
              "    </tr>\n",
              "    <tr>\n",
              "      <th rowspan=\"4\" valign=\"top\">Miss</th>\n",
              "      <th rowspan=\"3\" valign=\"top\">0</th>\n",
              "      <th rowspan=\"2\" valign=\"top\">0</th>\n",
              "      <th>0</th>\n",
              "      <th>0</th>\n",
              "      <th>0</th>\n",
              "      <th>1</th>\n",
              "      <td>16</td>\n",
              "      <td>23</td>\n",
              "      <td>0.625000</td>\n",
              "    </tr>\n",
              "    <tr>\n",
              "      <th>1</th>\n",
              "      <th>0</th>\n",
              "      <th>0</th>\n",
              "      <th>0</th>\n",
              "      <td>12</td>\n",
              "      <td>16</td>\n",
              "      <td>0.500000</td>\n",
              "    </tr>\n",
              "    <tr>\n",
              "      <th>1</th>\n",
              "      <th>0</th>\n",
              "      <th>0</th>\n",
              "      <th>0</th>\n",
              "      <th>0</th>\n",
              "      <td>55</td>\n",
              "      <td>90</td>\n",
              "      <td>0.600000</td>\n",
              "    </tr>\n",
              "    <tr>\n",
              "      <th>1</th>\n",
              "      <th>0</th>\n",
              "      <th>0</th>\n",
              "      <th>0</th>\n",
              "      <th>0</th>\n",
              "      <th>1</th>\n",
              "      <td>19</td>\n",
              "      <td>22</td>\n",
              "      <td>0.105263</td>\n",
              "    </tr>\n",
              "    <tr>\n",
              "      <th rowspan=\"5\" valign=\"top\">Mrs</th>\n",
              "      <th rowspan=\"4\" valign=\"top\">0</th>\n",
              "      <th rowspan=\"3\" valign=\"top\">0</th>\n",
              "      <th rowspan=\"2\" valign=\"top\">0</th>\n",
              "      <th>0</th>\n",
              "      <th>1</th>\n",
              "      <th>0</th>\n",
              "      <td>16</td>\n",
              "      <td>26</td>\n",
              "      <td>0.562500</td>\n",
              "    </tr>\n",
              "    <tr>\n",
              "      <th>1</th>\n",
              "      <th>0</th>\n",
              "      <th>0</th>\n",
              "      <td>12</td>\n",
              "      <td>18</td>\n",
              "      <td>0.583333</td>\n",
              "    </tr>\n",
              "    <tr>\n",
              "      <th>1</th>\n",
              "      <th>0</th>\n",
              "      <th>0</th>\n",
              "      <th>0</th>\n",
              "      <td>1</td>\n",
              "      <td>2</td>\n",
              "      <td>0.000000</td>\n",
              "    </tr>\n",
              "    <tr>\n",
              "      <th>1</th>\n",
              "      <th>0</th>\n",
              "      <th>0</th>\n",
              "      <th>0</th>\n",
              "      <th>0</th>\n",
              "      <td>5</td>\n",
              "      <td>9</td>\n",
              "      <td>0.800000</td>\n",
              "    </tr>\n",
              "    <tr>\n",
              "      <th>1</th>\n",
              "      <th>0</th>\n",
              "      <th>0</th>\n",
              "      <th>0</th>\n",
              "      <th>1</th>\n",
              "      <th>0</th>\n",
              "      <td>8</td>\n",
              "      <td>10</td>\n",
              "      <td>0.125000</td>\n",
              "    </tr>\n",
              "  </tbody>\n",
              "</table>\n",
              "</div>"
            ],
            "text/plain": [
              "                                             count  size      mean\n",
              "Title  FamSizeBin isAlone wSib wSp wCh wPar                       \n",
              "Master 0          0       0    0   0   1         9    20  1.000000\n",
              "                          1    0   0   0         1     1  1.000000\n",
              "                  1       0    0   0   0         0     1       NaN\n",
              "       1          0       0    0   0   1        18    23  0.055556\n",
              "Miss   0          0       0    0   0   1        16    23  0.625000\n",
              "                          1    0   0   0        12    16  0.500000\n",
              "                  1       0    0   0   0        55    90  0.600000\n",
              "       1          0       0    0   0   1        19    22  0.105263\n",
              "Mrs    0          0       0    0   1   0        16    26  0.562500\n",
              "                               1   0   0        12    18  0.583333\n",
              "                          1    0   0   0         1     2  0.000000\n",
              "                  1       0    0   0   0         5     9  0.800000\n",
              "       1          0       0    0   1   0         8    10  0.125000"
            ]
          },
          "metadata": {
            "tags": []
          },
          "execution_count": 22
        }
      ]
    },
    {
      "cell_type": "markdown",
      "metadata": {
        "_uuid": "73f76371cb04485c1fc40519d5a007194ab63159",
        "id": "VC8B_LZ-TBAw"
      },
      "source": [
        "## Models Based on Simple Rules  <a class=\"anchor\" id=\"models\"></a>"
      ]
    },
    {
      "cell_type": "markdown",
      "metadata": {
        "_uuid": "91b5a404e1e706b72ffab7c51aaba82a9ed8f3f8",
        "id": "2s6deGh9TBAx"
      },
      "source": [
        "## Model 1 <a class=\"anchor\" id=\"model-1\"></a>"
      ]
    },
    {
      "cell_type": "markdown",
      "metadata": {
        "_uuid": "2895aa888174c875a6f6c2186f3c85999849d06a",
        "id": "PpIz2FEATBAy"
      },
      "source": [
        "<b>Model 1.</b>\n",
        "<cite> All adult males are deemed to perish as well as the ones in class 3 with families greater than 4. The rest all survive. </cite>"
      ]
    },
    {
      "cell_type": "code",
      "metadata": {
        "_uuid": "f21167f11f1834652ef2def31921c46a5be0bb7e",
        "trusted": true,
        "id": "Js05wXdcTBAz"
      },
      "source": [
        "def get_survived_1(row):\n",
        "    if row['Pclass'] in [1,2]:\n",
        "        if row['Title'] == 'Mr':\n",
        "            survived = 0\n",
        "        else:\n",
        "            survived = 1\n",
        "    else:\n",
        "        if row['Title'] == 'Mr' or row['FamSizeBin'] == 1:\n",
        "            survived = 0\n",
        "        else:\n",
        "            survived = 1\n",
        "\n",
        "    return survived"
      ],
      "execution_count": null,
      "outputs": []
    },
    {
      "cell_type": "markdown",
      "metadata": {
        "_uuid": "743b6b75b135629569cec86435ab399fc9dc0557",
        "id": "siKr6U5GTBA3"
      },
      "source": [
        "Let us apply our model to the train and test sets and see the accuracy."
      ]
    },
    {
      "cell_type": "code",
      "metadata": {
        "_uuid": "ee4c07f0187571c0bc4988cb224fe3e9f1870294",
        "scrolled": true,
        "trusted": true,
        "id": "n_17MmKXTBA4",
        "outputId": "04b29048-3f69-41bc-b5d2-18b4d25eef26",
        "colab": {
          "base_uri": "https://localhost:8080/"
        }
      },
      "source": [
        "# Form train and test sets\n",
        "X_train = all.iloc[:891,:]\n",
        "X_test = all.iloc[891:,:]\n",
        "y_train = all.iloc[:891,:]['Survived']\n",
        "\n",
        "# Make predictions (train)\n",
        "y_train_hat = X_train.apply(lambda s: get_survived_1(s), axis = 1)\n",
        "\n",
        "# Make predictions (test)\n",
        "predictions = pd.DataFrame( {'PassengerId': test['PassengerId'], 'Survived': 0} )\n",
        "predictions['Survived'] = X_test.apply(lambda s: get_survived_1(s), axis = 1)\n",
        "predictions.to_csv('submission-1.csv', index=False)\n",
        "\n",
        "# Train score\n",
        "score = metrics.accuracy_score(y_train_hat, y_train)\n",
        "print('Train Accuracy: {}'.format(score))"
      ],
      "execution_count": null,
      "outputs": [
        {
          "output_type": "stream",
          "text": [
            "Train Accuracy: 0.835016835016835\n"
          ],
          "name": "stdout"
        }
      ]
    },
    {
      "cell_type": "markdown",
      "metadata": {
        "_uuid": "ea0972aebbbe281e9e353a0932f98fea4c09d586",
        "id": "efPWMvpLTBA8"
      },
      "source": [
        "## Model 2 <a class=\"anchor\" id=\"model-2\"></a>"
      ]
    },
    {
      "cell_type": "code",
      "metadata": {
        "_uuid": "eb37acb0f42bc39152ca3045820a549a3c30948b",
        "trusted": true,
        "id": "sdzq5l_YTBA9",
        "outputId": "c3ac4384-32d0-464d-aeb2-a35bf047d034",
        "colab": {
          "base_uri": "https://localhost:8080/",
          "height": 332
        }
      },
      "source": [
        "all[(all['Pclass'] == 3)&(all['Title'] != 'Mr')&(all['FamSizeBin'] == 0)].groupby(['Title','Embarked'])['Survived'].agg(['count','size','mean'])"
      ],
      "execution_count": null,
      "outputs": [
        {
          "output_type": "execute_result",
          "data": {
            "text/html": [
              "<div>\n",
              "<style scoped>\n",
              "    .dataframe tbody tr th:only-of-type {\n",
              "        vertical-align: middle;\n",
              "    }\n",
              "\n",
              "    .dataframe tbody tr th {\n",
              "        vertical-align: top;\n",
              "    }\n",
              "\n",
              "    .dataframe thead th {\n",
              "        text-align: right;\n",
              "    }\n",
              "</style>\n",
              "<table border=\"1\" class=\"dataframe\">\n",
              "  <thead>\n",
              "    <tr style=\"text-align: right;\">\n",
              "      <th></th>\n",
              "      <th></th>\n",
              "      <th>count</th>\n",
              "      <th>size</th>\n",
              "      <th>mean</th>\n",
              "    </tr>\n",
              "    <tr>\n",
              "      <th>Title</th>\n",
              "      <th>Embarked</th>\n",
              "      <th></th>\n",
              "      <th></th>\n",
              "      <th></th>\n",
              "    </tr>\n",
              "  </thead>\n",
              "  <tbody>\n",
              "    <tr>\n",
              "      <th rowspan=\"2\" valign=\"top\">Master</th>\n",
              "      <th>C</th>\n",
              "      <td>4</td>\n",
              "      <td>8</td>\n",
              "      <td>1.000000</td>\n",
              "    </tr>\n",
              "    <tr>\n",
              "      <th>S</th>\n",
              "      <td>6</td>\n",
              "      <td>14</td>\n",
              "      <td>1.000000</td>\n",
              "    </tr>\n",
              "    <tr>\n",
              "      <th rowspan=\"3\" valign=\"top\">Miss</th>\n",
              "      <th>C</th>\n",
              "      <td>14</td>\n",
              "      <td>15</td>\n",
              "      <td>0.642857</td>\n",
              "    </tr>\n",
              "    <tr>\n",
              "      <th>Q</th>\n",
              "      <td>30</td>\n",
              "      <td>53</td>\n",
              "      <td>0.766667</td>\n",
              "    </tr>\n",
              "    <tr>\n",
              "      <th>S</th>\n",
              "      <td>39</td>\n",
              "      <td>61</td>\n",
              "      <td>0.435897</td>\n",
              "    </tr>\n",
              "    <tr>\n",
              "      <th rowspan=\"3\" valign=\"top\">Mrs</th>\n",
              "      <th>C</th>\n",
              "      <td>9</td>\n",
              "      <td>16</td>\n",
              "      <td>0.666667</td>\n",
              "    </tr>\n",
              "    <tr>\n",
              "      <th>Q</th>\n",
              "      <td>2</td>\n",
              "      <td>2</td>\n",
              "      <td>0.500000</td>\n",
              "    </tr>\n",
              "    <tr>\n",
              "      <th>S</th>\n",
              "      <td>23</td>\n",
              "      <td>37</td>\n",
              "      <td>0.565217</td>\n",
              "    </tr>\n",
              "  </tbody>\n",
              "</table>\n",
              "</div>"
            ],
            "text/plain": [
              "                 count  size      mean\n",
              "Title  Embarked                       \n",
              "Master C             4     8  1.000000\n",
              "       S             6    14  1.000000\n",
              "Miss   C            14    15  0.642857\n",
              "       Q            30    53  0.766667\n",
              "       S            39    61  0.435897\n",
              "Mrs    C             9    16  0.666667\n",
              "       Q             2     2  0.500000\n",
              "       S            23    37  0.565217"
            ]
          },
          "metadata": {
            "tags": []
          },
          "execution_count": 25
        }
      ]
    },
    {
      "cell_type": "markdown",
      "metadata": {
        "_uuid": "1371f784df738b486f40050ea93860b037fe3684",
        "id": "z3J-eUf_TBBB"
      },
      "source": [
        "<b>Model 2.</b>\n",
        "<cite> All adult males are deemed to perish as well as the ones in class 3 with families greater than 4. Also, Misses in class 3 embarked in S perish. The rest all survive. </cite>"
      ]
    },
    {
      "cell_type": "code",
      "metadata": {
        "_uuid": "01cc417886d4f5842070c1d4a73b7e5d96ecf701",
        "trusted": true,
        "id": "GJNTK1NNTBBC"
      },
      "source": [
        "def get_survived_2(row):\n",
        "    if row['Pclass'] in [1,2]:\n",
        "        if row['Title'] == 'Mr':\n",
        "            survived = 0\n",
        "        else:\n",
        "            survived = 1\n",
        "    else:\n",
        "        if row['Title'] == 'Mr' or row['FamSizeBin'] == 1 or (row['Title'] == 'Miss' and row['Embarked'] == 'S'):\n",
        "            survived = 0\n",
        "        else:\n",
        "            survived = 1\n",
        "\n",
        "    return survived"
      ],
      "execution_count": null,
      "outputs": []
    },
    {
      "cell_type": "code",
      "metadata": {
        "_uuid": "1be573b26a3c4d648062d68fb2ba24809b57e8ae",
        "trusted": true,
        "id": "YAXZoP35TBBF",
        "outputId": "590be150-223c-4741-b7d1-d33c39ea5462",
        "colab": {
          "base_uri": "https://localhost:8080/"
        }
      },
      "source": [
        "# Make predictions (train)\n",
        "y_train_hat = X_train.apply(lambda s: get_survived_2(s), axis = 1)\n",
        "\n",
        "# Make predictions (test)\n",
        "predictions['Survived'] = X_test.apply(lambda s: get_survived_2(s), axis = 1)\n",
        "predictions.to_csv('submission-2.csv', index=False)\n",
        "\n",
        "# Train score\n",
        "score = metrics.accuracy_score(y_train_hat, y_train)\n",
        "print('Train Accuracy: {}'.format(score))"
      ],
      "execution_count": null,
      "outputs": [
        {
          "output_type": "stream",
          "text": [
            "Train Accuracy: 0.8406285072951739\n"
          ],
          "name": "stdout"
        }
      ]
    },
    {
      "cell_type": "markdown",
      "metadata": {
        "_uuid": "66bc5f7c28fd256e9c739bdbfcbb7364f536b5a5",
        "id": "B_0UDikVTBBI"
      },
      "source": [
        "## Model 3 <a class=\"anchor\" id=\"model-3\"></a>"
      ]
    },
    {
      "cell_type": "code",
      "metadata": {
        "_uuid": "b7ee809d5235b754cfd0b7b38147a3f76143c06f",
        "trusted": true,
        "id": "dq76znRiTBBJ",
        "outputId": "4aa02b49-9787-4c25-e4a4-0897a37bc2c1",
        "colab": {
          "base_uri": "https://localhost:8080/",
          "height": 269
        }
      },
      "source": [
        "all[(all['Pclass'] == 3)&(all['Title'] == 'Miss')&(all['FamSizeBin'] == 0)].groupby(['Title','wPar','Embarked'])['Survived'].agg(['count','size','mean'])"
      ],
      "execution_count": null,
      "outputs": [
        {
          "output_type": "execute_result",
          "data": {
            "text/html": [
              "<div>\n",
              "<style scoped>\n",
              "    .dataframe tbody tr th:only-of-type {\n",
              "        vertical-align: middle;\n",
              "    }\n",
              "\n",
              "    .dataframe tbody tr th {\n",
              "        vertical-align: top;\n",
              "    }\n",
              "\n",
              "    .dataframe thead th {\n",
              "        text-align: right;\n",
              "    }\n",
              "</style>\n",
              "<table border=\"1\" class=\"dataframe\">\n",
              "  <thead>\n",
              "    <tr style=\"text-align: right;\">\n",
              "      <th></th>\n",
              "      <th></th>\n",
              "      <th></th>\n",
              "      <th>count</th>\n",
              "      <th>size</th>\n",
              "      <th>mean</th>\n",
              "    </tr>\n",
              "    <tr>\n",
              "      <th>Title</th>\n",
              "      <th>wPar</th>\n",
              "      <th>Embarked</th>\n",
              "      <th></th>\n",
              "      <th></th>\n",
              "      <th></th>\n",
              "    </tr>\n",
              "  </thead>\n",
              "  <tbody>\n",
              "    <tr>\n",
              "      <th rowspan=\"6\" valign=\"top\">Miss</th>\n",
              "      <th rowspan=\"3\" valign=\"top\">0</th>\n",
              "      <th>C</th>\n",
              "      <td>6</td>\n",
              "      <td>6</td>\n",
              "      <td>0.500000</td>\n",
              "    </tr>\n",
              "    <tr>\n",
              "      <th>Q</th>\n",
              "      <td>29</td>\n",
              "      <td>52</td>\n",
              "      <td>0.793103</td>\n",
              "    </tr>\n",
              "    <tr>\n",
              "      <th>S</th>\n",
              "      <td>32</td>\n",
              "      <td>48</td>\n",
              "      <td>0.406250</td>\n",
              "    </tr>\n",
              "    <tr>\n",
              "      <th rowspan=\"3\" valign=\"top\">1</th>\n",
              "      <th>C</th>\n",
              "      <td>8</td>\n",
              "      <td>9</td>\n",
              "      <td>0.750000</td>\n",
              "    </tr>\n",
              "    <tr>\n",
              "      <th>Q</th>\n",
              "      <td>1</td>\n",
              "      <td>1</td>\n",
              "      <td>0.000000</td>\n",
              "    </tr>\n",
              "    <tr>\n",
              "      <th>S</th>\n",
              "      <td>7</td>\n",
              "      <td>13</td>\n",
              "      <td>0.571429</td>\n",
              "    </tr>\n",
              "  </tbody>\n",
              "</table>\n",
              "</div>"
            ],
            "text/plain": [
              "                     count  size      mean\n",
              "Title wPar Embarked                       \n",
              "Miss  0    C             6     6  0.500000\n",
              "           Q            29    52  0.793103\n",
              "           S            32    48  0.406250\n",
              "      1    C             8     9  0.750000\n",
              "           Q             1     1  0.000000\n",
              "           S             7    13  0.571429"
            ]
          },
          "metadata": {
            "tags": []
          },
          "execution_count": 29
        }
      ]
    },
    {
      "cell_type": "markdown",
      "metadata": {
        "_uuid": "adc5ff6a3b713fbce9f942a190b1d27d47ebd6de",
        "id": "2wvAtZxFTBBO"
      },
      "source": [
        "<b>Model 3.</b>\n",
        "<cite> All adult males are deemed to perish as well as the ones in class 3 with families greater than 4. Also, Misses in class 3, non-chlidren and embarked in S perish. The rest all survive. </cite>"
      ]
    },
    {
      "cell_type": "code",
      "metadata": {
        "_uuid": "56c05c54ae3722f5775103f663b39509bd60d306",
        "trusted": true,
        "id": "PajK_IbgTBBO"
      },
      "source": [
        "def get_survived_3(row):\n",
        "    if row['Pclass'] in [1,2]:\n",
        "        if row['Title'] == 'Mr':\n",
        "            survived = 0\n",
        "        else:\n",
        "            survived = 1\n",
        "    else:\n",
        "        if row['Title'] == 'Mr' or row['FamSizeBin'] == 1 or \\\n",
        "        (row['Title'] == 'Miss' and row['Embarked'] == 'S' and row['wPar'] == 0):\n",
        "            survived = 0\n",
        "        else:\n",
        "            survived = 1\n",
        "\n",
        "    return survived"
      ],
      "execution_count": null,
      "outputs": []
    },
    {
      "cell_type": "code",
      "metadata": {
        "_uuid": "e5a7fa6572b208f8d1ef0698181abbf308e5a20b",
        "trusted": true,
        "id": "fn0CMdNxTBBR",
        "outputId": "e44b728d-926b-4ccc-cdee-a5d57d4829e3",
        "colab": {
          "base_uri": "https://localhost:8080/"
        }
      },
      "source": [
        "# Make predictions (train)\n",
        "y_train_hat = X_train.apply(lambda s: get_survived_3(s), axis = 1)\n",
        "\n",
        "# Make predictions (test)\n",
        "predictions['Survived'] = X_test.apply(lambda s: get_survived_3(s), axis = 1)\n",
        "predictions.to_csv('submission-3.csv', index=False)\n",
        "\n",
        "# Train score\n",
        "score = metrics.accuracy_score(y_train_hat, y_train)\n",
        "print('Train Accuracy: {}'.format(score))"
      ],
      "execution_count": null,
      "outputs": [
        {
          "output_type": "stream",
          "text": [
            "Train Accuracy: 0.8417508417508418\n"
          ],
          "name": "stdout"
        }
      ]
    },
    {
      "cell_type": "markdown",
      "metadata": {
        "_uuid": "c8c5933ac833ea26b163392c43c342d95b60a6b1",
        "id": "exPwg9BZTBBV"
      },
      "source": [
        "## Data Preparation <a class=\"anchor\" id=\"SVM-1\"></a>"
      ]
    },
    {
      "cell_type": "code",
      "metadata": {
        "_uuid": "7ed0d39978e7334caa39ad1a12d8bbc26f6f2498",
        "trusted": true,
        "id": "mKIhjOziTBBW"
      },
      "source": [
        "# Select and convert categorical features into numerical ones (1)\n",
        "all['Sex'] = all['Sex'].map( {'male': 0, 'female': 1} ).astype(int)\n",
        "all['Embarked'].fillna(all['Embarked'].value_counts().index[0], inplace=True)\n",
        "all_dummies =  pd.get_dummies(all, columns = ['Title','Pclass','Embarked'],\\\n",
        "                                 prefix=['Title','Pclass','Embarked'], drop_first = True)\n",
        "all_dummies = all_dummies.drop(['PassengerId','Survived'], axis = 1)"
      ],
      "execution_count": null,
      "outputs": []
    },
    {
      "cell_type": "markdown",
      "metadata": {
        "_uuid": "d6e67637fc175b3faf893a0ee292d4362ceea918",
        "id": "yWGd2yE0TBBa"
      },
      "source": [
        " KNN age imputation."
      ]
    },
    {
      "cell_type": "code",
      "metadata": {
        "_uuid": "3c8b5c5a9238403ad0405ac1624a844f50c6e932",
        "trusted": true,
        "id": "TYtFX2JVTBBb"
      },
      "source": [
        "# KNN imputation\n",
        "all_dummies_i = pd.DataFrame(data=KNN(k=3, verbose = False).fit_transform(all_dummies).astype(int),\n",
        "                            columns=all_dummies.columns, index=all_dummies.index)"
      ],
      "execution_count": null,
      "outputs": []
    },
    {
      "cell_type": "code",
      "metadata": {
        "_uuid": "7a9af9bc3c36ea953061da6e01634c0ef85aca38",
        "trusted": true,
        "id": "YMR5cxq5TBBe"
      },
      "source": [
        "# Convert categorical features into numerical ones (2)\n",
        "all_dummies_i['isAlwSib'] = all_dummies_i.apply(lambda s: 1 if (s['isAlone'] == 1)|(s['wSib'] == 1) else 0 ,axis = 1)\n",
        "all_dummies_i = all_dummies_i.drop(['isAlone','wSib','Sex','GrSize'], axis = 1)"
      ],
      "execution_count": null,
      "outputs": []
    },
    {
      "cell_type": "markdown",
      "metadata": {
        "_uuid": "f8eac70f217db06ea34e0ee4c16f19ff4d6241f5",
        "id": "k9kw-GmPTBBg"
      },
      "source": [
        " First,  re-build train and test sets."
      ]
    },
    {
      "cell_type": "code",
      "metadata": {
        "_uuid": "7811c598dcf50ce5072961b33cd271052b669134",
        "trusted": true,
        "id": "-c9C9VF3TBBh"
      },
      "source": [
        "# Form train and test sets\n",
        "X_train = all_dummies_i.iloc[:891,:]\n",
        "X_test = all_dummies_i.iloc[891:,:]"
      ],
      "execution_count": null,
      "outputs": []
    },
    {
      "cell_type": "markdown",
      "metadata": {
        "_uuid": "cff1999b5752b8ff21378a72a84033aa2230d2bb",
        "id": "4qj7pio8TBBj"
      },
      "source": [
        " scaling based on the train set and apply it to both train and test sets."
      ]
    },
    {
      "cell_type": "code",
      "metadata": {
        "_uuid": "b6c826f17e2036429c7a4ba9dd9494e6a1a0359d",
        "trusted": true,
        "id": "fSmpx0lfTBBk"
      },
      "source": [
        "# Perform scaling\n",
        "scaler = StandardScaler()\n",
        "scaler.fit(X_train[['Age']])\n",
        "X_train['Age'] = scaler.transform(X_train[['Age']])\n",
        "X_test['Age'] = scaler.transform(X_test[['Age']])"
      ],
      "execution_count": null,
      "outputs": []
    },
    {
      "cell_type": "markdown",
      "metadata": {
        "_uuid": "38e23184d0728aed480487e98dac5d593db8c791",
        "id": "NeuwZ_D7TBBm"
      },
      "source": [
        "## Training <a class=\"anchor\" id=\"SVM-2\"></a>"
      ]
    },
    {
      "cell_type": "markdown",
      "metadata": {
        "_uuid": "8c7bbf41d1a370c66516405bb31939deedf9e3a4",
        "id": "NLrdGAn3TBBm"
      },
      "source": [
        "Now, we are ready to apply SVM. First, let us define the cross-validation strategy. We form for 80/20 percent train/test splits, in total 10 times. "
      ]
    },
    {
      "cell_type": "code",
      "metadata": {
        "_uuid": "e45952d47593e849e26e103923a221f47a10b288",
        "trusted": true,
        "id": "Ixp28iXOTBBn"
      },
      "source": [
        "# Cross-validation parameters\n",
        "cv = RepeatedStratifiedKFold(n_splits=5, n_repeats=10, random_state=1)"
      ],
      "execution_count": null,
      "outputs": []
    },
    {
      "cell_type": "markdown",
      "metadata": {
        "_uuid": "24213eefb2c02bbde47c73954b89673e09f31881",
        "id": "PYzuUVxLTBBp"
      },
      "source": [
        "To find the parameter of SVM (regularization factor 'C'), we use an exhaustive grid search."
      ]
    },
    {
      "cell_type": "code",
      "metadata": {
        "_uuid": "3d996e3a493132dcbf6fc9b721021e8bdb5c60c4",
        "trusted": true,
        "id": "31fldvUrTBBp"
      },
      "source": [
        "# Grid search parameters\n",
        "svm_grid = {'C': [10,11,12,13,14,15,16,17,18,19,20], 'gamma': ['auto']}\n",
        "svm_search = GridSearchCV(estimator = SVC(), param_grid = svm_grid, cv = cv, refit=True, n_jobs=1)"
      ],
      "execution_count": null,
      "outputs": []
    },
    {
      "cell_type": "code",
      "metadata": {
        "_uuid": "5536f139ae92115a614db06940baf58e0271961f",
        "trusted": true,
        "id": "EaX29szLTBBt",
        "outputId": "e103506c-1b94-4482-d857-c882b624f069",
        "colab": {
          "base_uri": "https://localhost:8080/"
        }
      },
      "source": [
        "# Apply grid search\n",
        "svm_search.fit(X_train, train['Survived'])\n",
        "svm_best = svm_search.best_estimator_\n",
        "print(\"Cross-validation accuracy: {}, standard deviation: {}, with parameters {}\"\n",
        "       .format(svm_search.best_score_, svm_search.cv_results_['std_test_score'][svm_search.best_index_],\n",
        "               svm_search.best_params_))"
      ],
      "execution_count": null,
      "outputs": [
        {
          "output_type": "stream",
          "text": [
            "Cross-validation accuracy: 0.8289824869750801, standard deviation: 0.027046317052630685, with parameters {'C': 10, 'gamma': 'auto'}\n"
          ],
          "name": "stdout"
        }
      ]
    },
    {
      "cell_type": "markdown",
      "metadata": {
        "_uuid": "9d9a81cd0bbca84c0e3724c0072889afd180366d",
        "id": "lGLzs0yNTBBv"
      },
      "source": [
        "predictions "
      ]
    },
    {
      "cell_type": "code",
      "metadata": {
        "_uuid": "fddb01b25e23a1007f42a5cd0ff8cf7e187cf73f",
        "trusted": true,
        "id": "Ubd4w8o9TBBv",
        "outputId": "c0fa4509-2bad-4959-e6ca-64f1bb537146",
        "colab": {
          "base_uri": "https://localhost:8080/"
        }
      },
      "source": [
        "y_train_hat = svm_best.predict(X_train)\n",
        "print('Train Accuracy: {}'\n",
        "        .format(metrics.accuracy_score(y_train_hat, y_train)))\n",
        "\n",
        "predictions['Survived'] = svm_best.predict(X_test)\n",
        "predictions.to_csv('submission-svm.csv', index=False)"
      ],
      "execution_count": null,
      "outputs": [
        {
          "output_type": "stream",
          "text": [
            "Train Accuracy: 0.8428731762065096\n"
          ],
          "name": "stdout"
        }
      ]
    },
    {
      "cell_type": "markdown",
      "metadata": {
        "_uuid": "a2cfc3d457b5863757dcc3f51ebe7320a34cd8c6",
        "id": "lxjh8FlSTBBy"
      },
      "source": [
        "## Relationship to Model 3 <a class=\"anchor\" id=\"SVM-3\"></a>"
      ]
    },
    {
      "cell_type": "markdown",
      "metadata": {
        "_uuid": "d65d30fda8464eedf94766eeca856f246feaa540",
        "id": "7FWvWTTfTBBz"
      },
      "source": [
        "<b>SVM rule.</b>\n",
        "<cite> All adult males are deemed to perish as well as the ones in class 3 with families greater than 4. Also, 18 and older Misses in class 3 embarked in S perish. The rest all survive. </cite>"
      ]
    },
    {
      "cell_type": "code",
      "metadata": {
        "_uuid": "eae6256ddc9a0471301cfe23b61a459bfc532b7d",
        "trusted": true,
        "id": "J7x9aEQfTBB0"
      },
      "source": [
        "def get_survived_svm_rule(row):\n",
        "    if row['Pclass'] in [1,2]:\n",
        "        if row['Title'] == 'Mr':\n",
        "            survived = 0\n",
        "        else:\n",
        "            survived = 1\n",
        "    else:\n",
        "        if row['Title'] == 'Mr' or row['FamSizeBin'] == 1 or \\\n",
        "        (row['Title'] == 'Miss' and row['Embarked'] == 'S' and row['Age'] >= 18):\n",
        "            survived = 0\n",
        "        else:\n",
        "            survived = 1\n",
        "\n",
        "    return survived"
      ],
      "execution_count": null,
      "outputs": []
    }
  ]
}