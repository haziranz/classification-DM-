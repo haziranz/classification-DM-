{
  "nbformat": 4,
  "nbformat_minor": 0,
  "metadata": {
    "kernelspec": {
      "language": "python",
      "display_name": "Python 3",
      "name": "python3"
    },
    "language_info": {
      "pygments_lexer": "ipython3",
      "nbconvert_exporter": "python",
      "version": "3.6.4",
      "file_extension": ".py",
      "codemirror_mode": {
        "name": "ipython",
        "version": 3
      },
      "name": "python",
      "mimetype": "text/x-python"
    },
    "colab": {
      "name": "titanic-decision-tree-complete-evaluation.ipynb",
      "provenance": [],
      "include_colab_link": true
    }
  },
  "cells": [
    {
      "cell_type": "markdown",
      "metadata": {
        "id": "view-in-github",
        "colab_type": "text"
      },
      "source": [
        "<a href=\"https://colab.research.google.com/github/haziranz/classification-DM-/blob/main/titanic_decision_tree_complete_evaluation.ipynb\" target=\"_parent\"><img src=\"https://colab.research.google.com/assets/colab-badge.svg\" alt=\"Open In Colab\"/></a>"
      ]
    },
    {
      "cell_type": "markdown",
      "metadata": {
        "id": "zX1QlUdBTI1m"
      },
      "source": [
        "**Workspace preparation**"
      ]
    },
    {
      "cell_type": "code",
      "metadata": {
        "_uuid": "8f2839f25d086af736a60e9eeb907d3b93b6e0e5",
        "_cell_guid": "b1076dfc-b9ad-4769-8c92-a6c4dae69d19",
        "trusted": true,
        "id": "r1HF0rxZTI1r",
        "outputId": "d67ad6c8-b1f4-4d96-8254-6cf4f07f2016",
        "colab": {
          "base_uri": "https://localhost:8080/"
        }
      },
      "source": [
        "import pandas as pd\n",
        "import numpy as np\n",
        "import matplotlib.pyplot as plt\n",
        "import seaborn as sns\n",
        "\n",
        "from sklearn.model_selection import train_test_split\n",
        "from sklearn.tree import DecisionTreeClassifier\n",
        "from sklearn.model_selection import GridSearchCV\n",
        "from sklearn.model_selection import cross_validate\n",
        "from sklearn.model_selection import cross_val_score\n",
        "from sklearn import metrics\n",
        "\n",
        "from sklearn import preprocessing\n",
        "\n",
        "from yellowbrick.classifier import ConfusionMatrix\n",
        "from yellowbrick.classifier import ClassificationReport\n",
        "from yellowbrick.classifier import ROCAUC\n",
        "plt.style.use('ggplot')\n",
        "\n",
        "import warnings\n",
        "warnings.simplefilter(action='ignore', category=FutureWarning)"
      ],
      "execution_count": 1,
      "outputs": [
        {
          "output_type": "stream",
          "text": [
            "/usr/local/lib/python3.6/dist-packages/sklearn/utils/deprecation.py:144: FutureWarning: The sklearn.metrics.classification module is  deprecated in version 0.22 and will be removed in version 0.24. The corresponding classes / functions should instead be imported from sklearn.metrics. Anything that cannot be imported from sklearn.metrics is now part of the private API.\n",
            "  warnings.warn(message, FutureWarning)\n"
          ],
          "name": "stderr"
        }
      ]
    },
    {
      "cell_type": "markdown",
      "metadata": {
        "id": "HMdPKxCOTI2D"
      },
      "source": [
        "**Searching for folders inside input folder**"
      ]
    },
    {
      "cell_type": "code",
      "metadata": {
        "trusted": true,
        "id": "M1E1gQG8TI2G",
        "outputId": "c5d33ae2-20e8-49f7-a38e-c11bea1a9980",
        "colab": {
          "base_uri": "https://localhost:8080/"
        }
      },
      "source": [
        "from subprocess import check_output\n",
        "print(check_output([\"ls\", \"/content\"]).decode(\"utf8\"))"
      ],
      "execution_count": 2,
      "outputs": [
        {
          "output_type": "stream",
          "text": [
            "sample_data\n",
            "test.csv\n",
            "train.csv\n",
            "\n"
          ],
          "name": "stdout"
        }
      ]
    },
    {
      "cell_type": "markdown",
      "metadata": {
        "id": "oDo1_V7zTI2U"
      },
      "source": [
        "**Loading data file**"
      ]
    },
    {
      "cell_type": "code",
      "metadata": {
        "_cell_guid": "79c7e3d0-c299-4dcb-8224-4455121ee9b0",
        "_uuid": "d629ff2d2480ee46fbb7e2d37f6b5fab8052498a",
        "trusted": true,
        "id": "Uu_7FHnATI2V",
        "outputId": "0db445b0-de7f-4e02-b73a-e3a18da59fbb",
        "colab": {
          "base_uri": "https://localhost:8080/",
          "height": 206
        }
      },
      "source": [
        "dataset = pd.read_csv('/content/train.csv')\n",
        "dataset.head()"
      ],
      "execution_count": 3,
      "outputs": [
        {
          "output_type": "execute_result",
          "data": {
            "text/html": [
              "<div>\n",
              "<style scoped>\n",
              "    .dataframe tbody tr th:only-of-type {\n",
              "        vertical-align: middle;\n",
              "    }\n",
              "\n",
              "    .dataframe tbody tr th {\n",
              "        vertical-align: top;\n",
              "    }\n",
              "\n",
              "    .dataframe thead th {\n",
              "        text-align: right;\n",
              "    }\n",
              "</style>\n",
              "<table border=\"1\" class=\"dataframe\">\n",
              "  <thead>\n",
              "    <tr style=\"text-align: right;\">\n",
              "      <th></th>\n",
              "      <th>PassengerId</th>\n",
              "      <th>Survived</th>\n",
              "      <th>Pclass</th>\n",
              "      <th>Name</th>\n",
              "      <th>Sex</th>\n",
              "      <th>Age</th>\n",
              "      <th>SibSp</th>\n",
              "      <th>Parch</th>\n",
              "      <th>Ticket</th>\n",
              "      <th>Fare</th>\n",
              "      <th>Cabin</th>\n",
              "      <th>Embarked</th>\n",
              "    </tr>\n",
              "  </thead>\n",
              "  <tbody>\n",
              "    <tr>\n",
              "      <th>0</th>\n",
              "      <td>1</td>\n",
              "      <td>0</td>\n",
              "      <td>3</td>\n",
              "      <td>Braund, Mr. Owen Harris</td>\n",
              "      <td>male</td>\n",
              "      <td>22.0</td>\n",
              "      <td>1</td>\n",
              "      <td>0</td>\n",
              "      <td>A/5 21171</td>\n",
              "      <td>7.2500</td>\n",
              "      <td>NaN</td>\n",
              "      <td>S</td>\n",
              "    </tr>\n",
              "    <tr>\n",
              "      <th>1</th>\n",
              "      <td>2</td>\n",
              "      <td>1</td>\n",
              "      <td>1</td>\n",
              "      <td>Cumings, Mrs. John Bradley (Florence Briggs Th...</td>\n",
              "      <td>female</td>\n",
              "      <td>38.0</td>\n",
              "      <td>1</td>\n",
              "      <td>0</td>\n",
              "      <td>PC 17599</td>\n",
              "      <td>71.2833</td>\n",
              "      <td>C85</td>\n",
              "      <td>C</td>\n",
              "    </tr>\n",
              "    <tr>\n",
              "      <th>2</th>\n",
              "      <td>3</td>\n",
              "      <td>1</td>\n",
              "      <td>3</td>\n",
              "      <td>Heikkinen, Miss. Laina</td>\n",
              "      <td>female</td>\n",
              "      <td>26.0</td>\n",
              "      <td>0</td>\n",
              "      <td>0</td>\n",
              "      <td>STON/O2. 3101282</td>\n",
              "      <td>7.9250</td>\n",
              "      <td>NaN</td>\n",
              "      <td>S</td>\n",
              "    </tr>\n",
              "    <tr>\n",
              "      <th>3</th>\n",
              "      <td>4</td>\n",
              "      <td>1</td>\n",
              "      <td>1</td>\n",
              "      <td>Futrelle, Mrs. Jacques Heath (Lily May Peel)</td>\n",
              "      <td>female</td>\n",
              "      <td>35.0</td>\n",
              "      <td>1</td>\n",
              "      <td>0</td>\n",
              "      <td>113803</td>\n",
              "      <td>53.1000</td>\n",
              "      <td>C123</td>\n",
              "      <td>S</td>\n",
              "    </tr>\n",
              "    <tr>\n",
              "      <th>4</th>\n",
              "      <td>5</td>\n",
              "      <td>0</td>\n",
              "      <td>3</td>\n",
              "      <td>Allen, Mr. William Henry</td>\n",
              "      <td>male</td>\n",
              "      <td>35.0</td>\n",
              "      <td>0</td>\n",
              "      <td>0</td>\n",
              "      <td>373450</td>\n",
              "      <td>8.0500</td>\n",
              "      <td>NaN</td>\n",
              "      <td>S</td>\n",
              "    </tr>\n",
              "  </tbody>\n",
              "</table>\n",
              "</div>"
            ],
            "text/plain": [
              "   PassengerId  Survived  Pclass  ...     Fare Cabin  Embarked\n",
              "0            1         0       3  ...   7.2500   NaN         S\n",
              "1            2         1       1  ...  71.2833   C85         C\n",
              "2            3         1       3  ...   7.9250   NaN         S\n",
              "3            4         1       1  ...  53.1000  C123         S\n",
              "4            5         0       3  ...   8.0500   NaN         S\n",
              "\n",
              "[5 rows x 12 columns]"
            ]
          },
          "metadata": {
            "tags": []
          },
          "execution_count": 3
        }
      ]
    },
    {
      "cell_type": "code",
      "metadata": {
        "trusted": true,
        "id": "7Yi7ILUATI2g",
        "outputId": "0eafd28d-c446-4cc0-a0c2-023712d3085b",
        "colab": {
          "base_uri": "https://localhost:8080/",
          "height": 394
        }
      },
      "source": [
        "dataset.describe(include = \"all\")"
      ],
      "execution_count": 4,
      "outputs": [
        {
          "output_type": "execute_result",
          "data": {
            "text/html": [
              "<div>\n",
              "<style scoped>\n",
              "    .dataframe tbody tr th:only-of-type {\n",
              "        vertical-align: middle;\n",
              "    }\n",
              "\n",
              "    .dataframe tbody tr th {\n",
              "        vertical-align: top;\n",
              "    }\n",
              "\n",
              "    .dataframe thead th {\n",
              "        text-align: right;\n",
              "    }\n",
              "</style>\n",
              "<table border=\"1\" class=\"dataframe\">\n",
              "  <thead>\n",
              "    <tr style=\"text-align: right;\">\n",
              "      <th></th>\n",
              "      <th>PassengerId</th>\n",
              "      <th>Survived</th>\n",
              "      <th>Pclass</th>\n",
              "      <th>Name</th>\n",
              "      <th>Sex</th>\n",
              "      <th>Age</th>\n",
              "      <th>SibSp</th>\n",
              "      <th>Parch</th>\n",
              "      <th>Ticket</th>\n",
              "      <th>Fare</th>\n",
              "      <th>Cabin</th>\n",
              "      <th>Embarked</th>\n",
              "    </tr>\n",
              "  </thead>\n",
              "  <tbody>\n",
              "    <tr>\n",
              "      <th>count</th>\n",
              "      <td>891.000000</td>\n",
              "      <td>891.000000</td>\n",
              "      <td>891.000000</td>\n",
              "      <td>891</td>\n",
              "      <td>891</td>\n",
              "      <td>714.000000</td>\n",
              "      <td>891.000000</td>\n",
              "      <td>891.000000</td>\n",
              "      <td>891</td>\n",
              "      <td>891.000000</td>\n",
              "      <td>204</td>\n",
              "      <td>889</td>\n",
              "    </tr>\n",
              "    <tr>\n",
              "      <th>unique</th>\n",
              "      <td>NaN</td>\n",
              "      <td>NaN</td>\n",
              "      <td>NaN</td>\n",
              "      <td>891</td>\n",
              "      <td>2</td>\n",
              "      <td>NaN</td>\n",
              "      <td>NaN</td>\n",
              "      <td>NaN</td>\n",
              "      <td>681</td>\n",
              "      <td>NaN</td>\n",
              "      <td>147</td>\n",
              "      <td>3</td>\n",
              "    </tr>\n",
              "    <tr>\n",
              "      <th>top</th>\n",
              "      <td>NaN</td>\n",
              "      <td>NaN</td>\n",
              "      <td>NaN</td>\n",
              "      <td>Thayer, Mr. John Borland</td>\n",
              "      <td>male</td>\n",
              "      <td>NaN</td>\n",
              "      <td>NaN</td>\n",
              "      <td>NaN</td>\n",
              "      <td>347082</td>\n",
              "      <td>NaN</td>\n",
              "      <td>G6</td>\n",
              "      <td>S</td>\n",
              "    </tr>\n",
              "    <tr>\n",
              "      <th>freq</th>\n",
              "      <td>NaN</td>\n",
              "      <td>NaN</td>\n",
              "      <td>NaN</td>\n",
              "      <td>1</td>\n",
              "      <td>577</td>\n",
              "      <td>NaN</td>\n",
              "      <td>NaN</td>\n",
              "      <td>NaN</td>\n",
              "      <td>7</td>\n",
              "      <td>NaN</td>\n",
              "      <td>4</td>\n",
              "      <td>644</td>\n",
              "    </tr>\n",
              "    <tr>\n",
              "      <th>mean</th>\n",
              "      <td>446.000000</td>\n",
              "      <td>0.383838</td>\n",
              "      <td>2.308642</td>\n",
              "      <td>NaN</td>\n",
              "      <td>NaN</td>\n",
              "      <td>29.699118</td>\n",
              "      <td>0.523008</td>\n",
              "      <td>0.381594</td>\n",
              "      <td>NaN</td>\n",
              "      <td>32.204208</td>\n",
              "      <td>NaN</td>\n",
              "      <td>NaN</td>\n",
              "    </tr>\n",
              "    <tr>\n",
              "      <th>std</th>\n",
              "      <td>257.353842</td>\n",
              "      <td>0.486592</td>\n",
              "      <td>0.836071</td>\n",
              "      <td>NaN</td>\n",
              "      <td>NaN</td>\n",
              "      <td>14.526497</td>\n",
              "      <td>1.102743</td>\n",
              "      <td>0.806057</td>\n",
              "      <td>NaN</td>\n",
              "      <td>49.693429</td>\n",
              "      <td>NaN</td>\n",
              "      <td>NaN</td>\n",
              "    </tr>\n",
              "    <tr>\n",
              "      <th>min</th>\n",
              "      <td>1.000000</td>\n",
              "      <td>0.000000</td>\n",
              "      <td>1.000000</td>\n",
              "      <td>NaN</td>\n",
              "      <td>NaN</td>\n",
              "      <td>0.420000</td>\n",
              "      <td>0.000000</td>\n",
              "      <td>0.000000</td>\n",
              "      <td>NaN</td>\n",
              "      <td>0.000000</td>\n",
              "      <td>NaN</td>\n",
              "      <td>NaN</td>\n",
              "    </tr>\n",
              "    <tr>\n",
              "      <th>25%</th>\n",
              "      <td>223.500000</td>\n",
              "      <td>0.000000</td>\n",
              "      <td>2.000000</td>\n",
              "      <td>NaN</td>\n",
              "      <td>NaN</td>\n",
              "      <td>20.125000</td>\n",
              "      <td>0.000000</td>\n",
              "      <td>0.000000</td>\n",
              "      <td>NaN</td>\n",
              "      <td>7.910400</td>\n",
              "      <td>NaN</td>\n",
              "      <td>NaN</td>\n",
              "    </tr>\n",
              "    <tr>\n",
              "      <th>50%</th>\n",
              "      <td>446.000000</td>\n",
              "      <td>0.000000</td>\n",
              "      <td>3.000000</td>\n",
              "      <td>NaN</td>\n",
              "      <td>NaN</td>\n",
              "      <td>28.000000</td>\n",
              "      <td>0.000000</td>\n",
              "      <td>0.000000</td>\n",
              "      <td>NaN</td>\n",
              "      <td>14.454200</td>\n",
              "      <td>NaN</td>\n",
              "      <td>NaN</td>\n",
              "    </tr>\n",
              "    <tr>\n",
              "      <th>75%</th>\n",
              "      <td>668.500000</td>\n",
              "      <td>1.000000</td>\n",
              "      <td>3.000000</td>\n",
              "      <td>NaN</td>\n",
              "      <td>NaN</td>\n",
              "      <td>38.000000</td>\n",
              "      <td>1.000000</td>\n",
              "      <td>0.000000</td>\n",
              "      <td>NaN</td>\n",
              "      <td>31.000000</td>\n",
              "      <td>NaN</td>\n",
              "      <td>NaN</td>\n",
              "    </tr>\n",
              "    <tr>\n",
              "      <th>max</th>\n",
              "      <td>891.000000</td>\n",
              "      <td>1.000000</td>\n",
              "      <td>3.000000</td>\n",
              "      <td>NaN</td>\n",
              "      <td>NaN</td>\n",
              "      <td>80.000000</td>\n",
              "      <td>8.000000</td>\n",
              "      <td>6.000000</td>\n",
              "      <td>NaN</td>\n",
              "      <td>512.329200</td>\n",
              "      <td>NaN</td>\n",
              "      <td>NaN</td>\n",
              "    </tr>\n",
              "  </tbody>\n",
              "</table>\n",
              "</div>"
            ],
            "text/plain": [
              "        PassengerId    Survived      Pclass  ...        Fare Cabin  Embarked\n",
              "count    891.000000  891.000000  891.000000  ...  891.000000   204       889\n",
              "unique          NaN         NaN         NaN  ...         NaN   147         3\n",
              "top             NaN         NaN         NaN  ...         NaN    G6         S\n",
              "freq            NaN         NaN         NaN  ...         NaN     4       644\n",
              "mean     446.000000    0.383838    2.308642  ...   32.204208   NaN       NaN\n",
              "std      257.353842    0.486592    0.836071  ...   49.693429   NaN       NaN\n",
              "min        1.000000    0.000000    1.000000  ...    0.000000   NaN       NaN\n",
              "25%      223.500000    0.000000    2.000000  ...    7.910400   NaN       NaN\n",
              "50%      446.000000    0.000000    3.000000  ...   14.454200   NaN       NaN\n",
              "75%      668.500000    1.000000    3.000000  ...   31.000000   NaN       NaN\n",
              "max      891.000000    1.000000    3.000000  ...  512.329200   NaN       NaN\n",
              "\n",
              "[11 rows x 12 columns]"
            ]
          },
          "metadata": {
            "tags": []
          },
          "execution_count": 4
        }
      ]
    },
    {
      "cell_type": "code",
      "metadata": {
        "trusted": true,
        "id": "C-Z10WTyTI2p",
        "outputId": "ef329b60-b6f1-4b7c-da08-ebe86856012a",
        "colab": {
          "base_uri": "https://localhost:8080/"
        }
      },
      "source": [
        "dataset.shape"
      ],
      "execution_count": 5,
      "outputs": [
        {
          "output_type": "execute_result",
          "data": {
            "text/plain": [
              "(891, 12)"
            ]
          },
          "metadata": {
            "tags": []
          },
          "execution_count": 5
        }
      ]
    },
    {
      "cell_type": "markdown",
      "metadata": {
        "id": "kg2OQei0TI2y"
      },
      "source": [
        "**Missing value identification/ handling**"
      ]
    },
    {
      "cell_type": "code",
      "metadata": {
        "trusted": true,
        "id": "dwZwIos1TI20",
        "outputId": "118da30a-fb6f-4e40-c8da-845646acc868",
        "colab": {
          "base_uri": "https://localhost:8080/"
        }
      },
      "source": [
        "dataset.isnull().sum(axis=0)"
      ],
      "execution_count": 6,
      "outputs": [
        {
          "output_type": "execute_result",
          "data": {
            "text/plain": [
              "PassengerId      0\n",
              "Survived         0\n",
              "Pclass           0\n",
              "Name             0\n",
              "Sex              0\n",
              "Age            177\n",
              "SibSp            0\n",
              "Parch            0\n",
              "Ticket           0\n",
              "Fare             0\n",
              "Cabin          687\n",
              "Embarked         2\n",
              "dtype: int64"
            ]
          },
          "metadata": {
            "tags": []
          },
          "execution_count": 6
        }
      ]
    },
    {
      "cell_type": "code",
      "metadata": {
        "trusted": true,
        "id": "5IjyutpzTI29",
        "outputId": "2b867af8-9962-4c49-f855-a6d630edd831",
        "colab": {
          "base_uri": "https://localhost:8080/",
          "height": 298
        }
      },
      "source": [
        "sns.countplot(dataset['Embarked'])"
      ],
      "execution_count": 7,
      "outputs": [
        {
          "output_type": "execute_result",
          "data": {
            "text/plain": [
              "<matplotlib.axes._subplots.AxesSubplot at 0x7f53bb9fe780>"
            ]
          },
          "metadata": {
            "tags": []
          },
          "execution_count": 7
        },
        {
          "output_type": "display_data",
          "data": {
            "image/png": "[encoded data removed]",
            "text/plain": [
              "<Figure size 432x288 with 1 Axes>"
            ]
          },
          "metadata": {
            "tags": [],
            "needs_background": "light"
          }
        }
      ]
    },
    {
      "cell_type": "code",
      "metadata": {
        "trusted": true,
        "id": "RA7qRhAlTI3D"
      },
      "source": [
        "# File missing values in embarked with S which is the most frequent item.\n",
        "dataset = dataset.fillna({\"Embarked\": \"S\"})"
      ],
      "execution_count": 8,
      "outputs": []
    },
    {
      "cell_type": "markdown",
      "metadata": {
        "id": "vSp48iQJTI3J"
      },
      "source": [
        "**Handling categorical variables**"
      ]
    },
    {
      "cell_type": "code",
      "metadata": {
        "trusted": true,
        "id": "fmqnlL2-TI3M",
        "outputId": "4cd95a02-e6e6-41cb-b756-19281902c86c",
        "colab": {
          "base_uri": "https://localhost:8080/",
          "height": 206
        }
      },
      "source": [
        "## One hot encoding is used since no ordering is available for Sex (male, female) feature.\n",
        "dataset = pd.get_dummies(dataset, columns=['Sex'])\n",
        "dataset.head()"
      ],
      "execution_count": 9,
      "outputs": [
        {
          "output_type": "execute_result",
          "data": {
            "text/html": [
              "<div>\n",
              "<style scoped>\n",
              "    .dataframe tbody tr th:only-of-type {\n",
              "        vertical-align: middle;\n",
              "    }\n",
              "\n",
              "    .dataframe tbody tr th {\n",
              "        vertical-align: top;\n",
              "    }\n",
              "\n",
              "    .dataframe thead th {\n",
              "        text-align: right;\n",
              "    }\n",
              "</style>\n",
              "<table border=\"1\" class=\"dataframe\">\n",
              "  <thead>\n",
              "    <tr style=\"text-align: right;\">\n",
              "      <th></th>\n",
              "      <th>PassengerId</th>\n",
              "      <th>Survived</th>\n",
              "      <th>Pclass</th>\n",
              "      <th>Name</th>\n",
              "      <th>Age</th>\n",
              "      <th>SibSp</th>\n",
              "      <th>Parch</th>\n",
              "      <th>Ticket</th>\n",
              "      <th>Fare</th>\n",
              "      <th>Cabin</th>\n",
              "      <th>Embarked</th>\n",
              "      <th>Sex_female</th>\n",
              "      <th>Sex_male</th>\n",
              "    </tr>\n",
              "  </thead>\n",
              "  <tbody>\n",
              "    <tr>\n",
              "      <th>0</th>\n",
              "      <td>1</td>\n",
              "      <td>0</td>\n",
              "      <td>3</td>\n",
              "      <td>Braund, Mr. Owen Harris</td>\n",
              "      <td>22.0</td>\n",
              "      <td>1</td>\n",
              "      <td>0</td>\n",
              "      <td>A/5 21171</td>\n",
              "      <td>7.2500</td>\n",
              "      <td>NaN</td>\n",
              "      <td>S</td>\n",
              "      <td>0</td>\n",
              "      <td>1</td>\n",
              "    </tr>\n",
              "    <tr>\n",
              "      <th>1</th>\n",
              "      <td>2</td>\n",
              "      <td>1</td>\n",
              "      <td>1</td>\n",
              "      <td>Cumings, Mrs. John Bradley (Florence Briggs Th...</td>\n",
              "      <td>38.0</td>\n",
              "      <td>1</td>\n",
              "      <td>0</td>\n",
              "      <td>PC 17599</td>\n",
              "      <td>71.2833</td>\n",
              "      <td>C85</td>\n",
              "      <td>C</td>\n",
              "      <td>1</td>\n",
              "      <td>0</td>\n",
              "    </tr>\n",
              "    <tr>\n",
              "      <th>2</th>\n",
              "      <td>3</td>\n",
              "      <td>1</td>\n",
              "      <td>3</td>\n",
              "      <td>Heikkinen, Miss. Laina</td>\n",
              "      <td>26.0</td>\n",
              "      <td>0</td>\n",
              "      <td>0</td>\n",
              "      <td>STON/O2. 3101282</td>\n",
              "      <td>7.9250</td>\n",
              "      <td>NaN</td>\n",
              "      <td>S</td>\n",
              "      <td>1</td>\n",
              "      <td>0</td>\n",
              "    </tr>\n",
              "    <tr>\n",
              "      <th>3</th>\n",
              "      <td>4</td>\n",
              "      <td>1</td>\n",
              "      <td>1</td>\n",
              "      <td>Futrelle, Mrs. Jacques Heath (Lily May Peel)</td>\n",
              "      <td>35.0</td>\n",
              "      <td>1</td>\n",
              "      <td>0</td>\n",
              "      <td>113803</td>\n",
              "      <td>53.1000</td>\n",
              "      <td>C123</td>\n",
              "      <td>S</td>\n",
              "      <td>1</td>\n",
              "      <td>0</td>\n",
              "    </tr>\n",
              "    <tr>\n",
              "      <th>4</th>\n",
              "      <td>5</td>\n",
              "      <td>0</td>\n",
              "      <td>3</td>\n",
              "      <td>Allen, Mr. William Henry</td>\n",
              "      <td>35.0</td>\n",
              "      <td>0</td>\n",
              "      <td>0</td>\n",
              "      <td>373450</td>\n",
              "      <td>8.0500</td>\n",
              "      <td>NaN</td>\n",
              "      <td>S</td>\n",
              "      <td>0</td>\n",
              "      <td>1</td>\n",
              "    </tr>\n",
              "  </tbody>\n",
              "</table>\n",
              "</div>"
            ],
            "text/plain": [
              "   PassengerId  Survived  Pclass  ... Embarked  Sex_female  Sex_male\n",
              "0            1         0       3  ...        S           0         1\n",
              "1            2         1       1  ...        C           1         0\n",
              "2            3         1       3  ...        S           1         0\n",
              "3            4         1       1  ...        S           1         0\n",
              "4            5         0       3  ...        S           0         1\n",
              "\n",
              "[5 rows x 13 columns]"
            ]
          },
          "metadata": {
            "tags": []
          },
          "execution_count": 9
        }
      ]
    },
    {
      "cell_type": "code",
      "metadata": {
        "trusted": true,
        "id": "AQu3quJyTI3S",
        "outputId": "168fe13f-ad86-4c30-f690-d4903cb13668",
        "colab": {
          "base_uri": "https://localhost:8080/",
          "height": 258
        }
      },
      "source": [
        "## One hot encoding is used since no ordering is available for Sex (male, female) feature.\n",
        "dataset = pd.get_dummies(dataset, columns=['Embarked'])\n",
        "dataset.head()"
      ],
      "execution_count": 10,
      "outputs": [
        {
          "output_type": "execute_result",
          "data": {
            "text/html": [
              "<div>\n",
              "<style scoped>\n",
              "    .dataframe tbody tr th:only-of-type {\n",
              "        vertical-align: middle;\n",
              "    }\n",
              "\n",
              "    .dataframe tbody tr th {\n",
              "        vertical-align: top;\n",
              "    }\n",
              "\n",
              "    .dataframe thead th {\n",
              "        text-align: right;\n",
              "    }\n",
              "</style>\n",
              "<table border=\"1\" class=\"dataframe\">\n",
              "  <thead>\n",
              "    <tr style=\"text-align: right;\">\n",
              "      <th></th>\n",
              "      <th>PassengerId</th>\n",
              "      <th>Survived</th>\n",
              "      <th>Pclass</th>\n",
              "      <th>Name</th>\n",
              "      <th>Age</th>\n",
              "      <th>SibSp</th>\n",
              "      <th>Parch</th>\n",
              "      <th>Ticket</th>\n",
              "      <th>Fare</th>\n",
              "      <th>Cabin</th>\n",
              "      <th>Sex_female</th>\n",
              "      <th>Sex_male</th>\n",
              "      <th>Embarked_C</th>\n",
              "      <th>Embarked_Q</th>\n",
              "      <th>Embarked_S</th>\n",
              "    </tr>\n",
              "  </thead>\n",
              "  <tbody>\n",
              "    <tr>\n",
              "      <th>0</th>\n",
              "      <td>1</td>\n",
              "      <td>0</td>\n",
              "      <td>3</td>\n",
              "      <td>Braund, Mr. Owen Harris</td>\n",
              "      <td>22.0</td>\n",
              "      <td>1</td>\n",
              "      <td>0</td>\n",
              "      <td>A/5 21171</td>\n",
              "      <td>7.2500</td>\n",
              "      <td>NaN</td>\n",
              "      <td>0</td>\n",
              "      <td>1</td>\n",
              "      <td>0</td>\n",
              "      <td>0</td>\n",
              "      <td>1</td>\n",
              "    </tr>\n",
              "    <tr>\n",
              "      <th>1</th>\n",
              "      <td>2</td>\n",
              "      <td>1</td>\n",
              "      <td>1</td>\n",
              "      <td>Cumings, Mrs. John Bradley (Florence Briggs Th...</td>\n",
              "      <td>38.0</td>\n",
              "      <td>1</td>\n",
              "      <td>0</td>\n",
              "      <td>PC 17599</td>\n",
              "      <td>71.2833</td>\n",
              "      <td>C85</td>\n",
              "      <td>1</td>\n",
              "      <td>0</td>\n",
              "      <td>1</td>\n",
              "      <td>0</td>\n",
              "      <td>0</td>\n",
              "    </tr>\n",
              "    <tr>\n",
              "      <th>2</th>\n",
              "      <td>3</td>\n",
              "      <td>1</td>\n",
              "      <td>3</td>\n",
              "      <td>Heikkinen, Miss. Laina</td>\n",
              "      <td>26.0</td>\n",
              "      <td>0</td>\n",
              "      <td>0</td>\n",
              "      <td>STON/O2. 3101282</td>\n",
              "      <td>7.9250</td>\n",
              "      <td>NaN</td>\n",
              "      <td>1</td>\n",
              "      <td>0</td>\n",
              "      <td>0</td>\n",
              "      <td>0</td>\n",
              "      <td>1</td>\n",
              "    </tr>\n",
              "    <tr>\n",
              "      <th>3</th>\n",
              "      <td>4</td>\n",
              "      <td>1</td>\n",
              "      <td>1</td>\n",
              "      <td>Futrelle, Mrs. Jacques Heath (Lily May Peel)</td>\n",
              "      <td>35.0</td>\n",
              "      <td>1</td>\n",
              "      <td>0</td>\n",
              "      <td>113803</td>\n",
              "      <td>53.1000</td>\n",
              "      <td>C123</td>\n",
              "      <td>1</td>\n",
              "      <td>0</td>\n",
              "      <td>0</td>\n",
              "      <td>0</td>\n",
              "      <td>1</td>\n",
              "    </tr>\n",
              "    <tr>\n",
              "      <th>4</th>\n",
              "      <td>5</td>\n",
              "      <td>0</td>\n",
              "      <td>3</td>\n",
              "      <td>Allen, Mr. William Henry</td>\n",
              "      <td>35.0</td>\n",
              "      <td>0</td>\n",
              "      <td>0</td>\n",
              "      <td>373450</td>\n",
              "      <td>8.0500</td>\n",
              "      <td>NaN</td>\n",
              "      <td>0</td>\n",
              "      <td>1</td>\n",
              "      <td>0</td>\n",
              "      <td>0</td>\n",
              "      <td>1</td>\n",
              "    </tr>\n",
              "  </tbody>\n",
              "</table>\n",
              "</div>"
            ],
            "text/plain": [
              "   PassengerId  Survived  Pclass  ... Embarked_C  Embarked_Q  Embarked_S\n",
              "0            1         0       3  ...          0           0           1\n",
              "1            2         1       1  ...          1           0           0\n",
              "2            3         1       3  ...          0           0           1\n",
              "3            4         1       1  ...          0           0           1\n",
              "4            5         0       3  ...          0           0           1\n",
              "\n",
              "[5 rows x 15 columns]"
            ]
          },
          "metadata": {
            "tags": []
          },
          "execution_count": 10
        }
      ]
    },
    {
      "cell_type": "markdown",
      "metadata": {
        "id": "lxQji0isTI3a"
      },
      "source": [
        "**Applying model - with default values**"
      ]
    },
    {
      "cell_type": "code",
      "metadata": {
        "trusted": true,
        "id": "7ANUwcKFTI3b",
        "outputId": "30117b83-6e71-423b-f452-14939a6fb4ed",
        "colab": {
          "base_uri": "https://localhost:8080/",
          "height": 206
        }
      },
      "source": [
        "feat_names = ['Pclass', 'Sex_male', 'Sex_female', 'Embarked_C', 'Embarked_Q', 'Embarked_S', 'Parch', 'SibSp', 'Fare']\n",
        "targ_names = ['Dead (0)', 'Survived (1)'] # 0 - Dead, 1 - Survived\n",
        "\n",
        "train_class = dataset[['Survived']]\n",
        "train_feature = dataset[feat_names]\n",
        "train_feature.head()"
      ],
      "execution_count": 11,
      "outputs": [
        {
          "output_type": "execute_result",
          "data": {
            "text/html": [
              "<div>\n",
              "<style scoped>\n",
              "    .dataframe tbody tr th:only-of-type {\n",
              "        vertical-align: middle;\n",
              "    }\n",
              "\n",
              "    .dataframe tbody tr th {\n",
              "        vertical-align: top;\n",
              "    }\n",
              "\n",
              "    .dataframe thead th {\n",
              "        text-align: right;\n",
              "    }\n",
              "</style>\n",
              "<table border=\"1\" class=\"dataframe\">\n",
              "  <thead>\n",
              "    <tr style=\"text-align: right;\">\n",
              "      <th></th>\n",
              "      <th>Pclass</th>\n",
              "      <th>Sex_male</th>\n",
              "      <th>Sex_female</th>\n",
              "      <th>Embarked_C</th>\n",
              "      <th>Embarked_Q</th>\n",
              "      <th>Embarked_S</th>\n",
              "      <th>Parch</th>\n",
              "      <th>SibSp</th>\n",
              "      <th>Fare</th>\n",
              "    </tr>\n",
              "  </thead>\n",
              "  <tbody>\n",
              "    <tr>\n",
              "      <th>0</th>\n",
              "      <td>3</td>\n",
              "      <td>1</td>\n",
              "      <td>0</td>\n",
              "      <td>0</td>\n",
              "      <td>0</td>\n",
              "      <td>1</td>\n",
              "      <td>0</td>\n",
              "      <td>1</td>\n",
              "      <td>7.2500</td>\n",
              "    </tr>\n",
              "    <tr>\n",
              "      <th>1</th>\n",
              "      <td>1</td>\n",
              "      <td>0</td>\n",
              "      <td>1</td>\n",
              "      <td>1</td>\n",
              "      <td>0</td>\n",
              "      <td>0</td>\n",
              "      <td>0</td>\n",
              "      <td>1</td>\n",
              "      <td>71.2833</td>\n",
              "    </tr>\n",
              "    <tr>\n",
              "      <th>2</th>\n",
              "      <td>3</td>\n",
              "      <td>0</td>\n",
              "      <td>1</td>\n",
              "      <td>0</td>\n",
              "      <td>0</td>\n",
              "      <td>1</td>\n",
              "      <td>0</td>\n",
              "      <td>0</td>\n",
              "      <td>7.9250</td>\n",
              "    </tr>\n",
              "    <tr>\n",
              "      <th>3</th>\n",
              "      <td>1</td>\n",
              "      <td>0</td>\n",
              "      <td>1</td>\n",
              "      <td>0</td>\n",
              "      <td>0</td>\n",
              "      <td>1</td>\n",
              "      <td>0</td>\n",
              "      <td>1</td>\n",
              "      <td>53.1000</td>\n",
              "    </tr>\n",
              "    <tr>\n",
              "      <th>4</th>\n",
              "      <td>3</td>\n",
              "      <td>1</td>\n",
              "      <td>0</td>\n",
              "      <td>0</td>\n",
              "      <td>0</td>\n",
              "      <td>1</td>\n",
              "      <td>0</td>\n",
              "      <td>0</td>\n",
              "      <td>8.0500</td>\n",
              "    </tr>\n",
              "  </tbody>\n",
              "</table>\n",
              "</div>"
            ],
            "text/plain": [
              "   Pclass  Sex_male  Sex_female  Embarked_C  ...  Embarked_S  Parch  SibSp     Fare\n",
              "0       3         1           0           0  ...           1      0      1   7.2500\n",
              "1       1         0           1           1  ...           0      0      1  71.2833\n",
              "2       3         0           1           0  ...           1      0      0   7.9250\n",
              "3       1         0           1           0  ...           1      0      1  53.1000\n",
              "4       3         1           0           0  ...           1      0      0   8.0500\n",
              "\n",
              "[5 rows x 9 columns]"
            ]
          },
          "metadata": {
            "tags": []
          },
          "execution_count": 11
        }
      ]
    },
    {
      "cell_type": "code",
      "metadata": {
        "trusted": true,
        "id": "TYd5ch_OTI3i",
        "outputId": "b46b2c9c-f451-4350-a552-35feafa6189b",
        "colab": {
          "base_uri": "https://localhost:8080/"
        }
      },
      "source": [
        "clf = DecisionTreeClassifier(random_state=0)\n",
        "scoring = {'acc': 'accuracy',\n",
        "           'prec_macro': 'precision_macro',\n",
        "           'rec_macro': 'recall_macro',\n",
        "           'f1_macro': 'f1_macro'}\n",
        "scores = cross_validate(clf, train_feature, train_class, cv=10, scoring=scoring)\n",
        "# print(scores.keys())\n",
        "\n",
        "print ('Accuracy score : %.3f' % scores['test_acc'].mean())\n",
        "print ('Precisoin score : %.3f' % scores['test_prec_macro'].mean())\n",
        "print ('Recall score : %.3f' % scores['test_rec_macro'].mean())\n",
        "print ('F1 score : %.3f' % scores['test_f1_macro'].mean())"
      ],
      "execution_count": 12,
      "outputs": [
        {
          "output_type": "stream",
          "text": [
            "Accuracy score : 0.805\n",
            "Precisoin score : 0.798\n",
            "Recall score : 0.785\n",
            "F1 score : 0.789\n"
          ],
          "name": "stdout"
        }
      ]
    },
    {
      "cell_type": "markdown",
      "metadata": {
        "id": "V69giZodTI3n"
      },
      "source": [
        "**Parameter tuning - gridSearchCV**"
      ]
    },
    {
      "cell_type": "code",
      "metadata": {
        "trusted": true,
        "id": "RJ8hBuw0TI3q",
        "outputId": "3e1f0c1f-cf75-48b2-f09b-f682ceab641c",
        "colab": {
          "base_uri": "https://localhost:8080/"
        }
      },
      "source": [
        "para_grid = {\n",
        "    'min_samples_split' : range(10,500,20),\n",
        "    'max_depth': range(1,20,2),\n",
        "    'criterion': (\"gini\", \"entropy\")\n",
        "}\n",
        "\n",
        "clf_tree = DecisionTreeClassifier()\n",
        "clf_cv = GridSearchCV(clf_tree,\n",
        "                   para_grid,\n",
        "                   scoring='accuracy',\n",
        "                   cv=5,\n",
        "                   n_jobs=-1)\n",
        "clf_cv.fit(train_feature,train_class)\n",
        "\n",
        "best_parameters = clf_cv.best_params_\n",
        "print(best_parameters)"
      ],
      "execution_count": 13,
      "outputs": [
        {
          "output_type": "stream",
          "text": [
            "{'criterion': 'gini', 'max_depth': 11, 'min_samples_split': 50}\n"
          ],
          "name": "stdout"
        }
      ]
    },
    {
      "cell_type": "markdown",
      "metadata": {
        "id": "y4dZBEphTI3w"
      },
      "source": [
        "**Model evaluation with tuned parameters using cross validation**"
      ]
    },
    {
      "cell_type": "code",
      "metadata": {
        "trusted": true,
        "id": "lnFILdenTI3y",
        "outputId": "66750da9-d4fc-4c68-a8c8-59291a3a7e86",
        "colab": {
          "base_uri": "https://localhost:8080/"
        }
      },
      "source": [
        "clf = clf_cv.best_estimator_\n",
        "scoring = {'acc': 'accuracy',\n",
        "           'prec_macro': 'precision_macro',\n",
        "           'rec_macro': 'recall_macro',\n",
        "           'f1_macro': 'f1_macro'}\n",
        "scores = cross_validate(clf, train_feature, train_class, cv=10, scoring=scoring)\n",
        "#print(scores.keys())\n",
        "\n",
        "print ('Accuracy score : %.3f' % scores['test_acc'].mean())\n",
        "print ('Precisoin score : %.3f' % scores['test_prec_macro'].mean())\n",
        "print ('Recall score : %.3f' % scores['test_rec_macro'].mean())\n",
        "print ('F1 score score : %.3f' % scores['test_f1_macro'].mean())"
      ],
      "execution_count": 14,
      "outputs": [
        {
          "output_type": "stream",
          "text": [
            "Accuracy score : 0.799\n",
            "Precisoin score : 0.803\n",
            "Recall score : 0.768\n",
            "F1 score score : 0.777\n"
          ],
          "name": "stdout"
        }
      ]
    },
    {
      "cell_type": "markdown",
      "metadata": {
        "id": "_FN3RMkrTI35"
      },
      "source": [
        "**Classification report analysis**"
      ]
    },
    {
      "cell_type": "code",
      "metadata": {
        "trusted": true,
        "id": "1NmYUyTUTI36",
        "outputId": "93241811-6dcb-470d-9da5-7aa769b8a3fe",
        "colab": {
          "base_uri": "https://localhost:8080/"
        }
      },
      "source": [
        "# Create a holdout sample for further testing\n",
        "# train_class, train_feature\n",
        "X_train, X_test, y_train, y_test = train_test_split(train_feature, train_class, test_size=0.33)\n",
        "print (str(X_train.shape) +\",\"+ str(y_train.shape))\n",
        "print (str(X_test.shape) +\",\"+ str(y_test.shape))"
      ],
      "execution_count": 15,
      "outputs": [
        {
          "output_type": "stream",
          "text": [
            "(596, 9),(596, 1)\n",
            "(295, 9),(295, 1)\n"
          ],
          "name": "stdout"
        }
      ]
    },
    {
      "cell_type": "code",
      "metadata": {
        "trusted": true,
        "id": "pxG5nxyPTI3_",
        "outputId": "6cae57a5-e056-4eda-bcfb-19150bbbce06",
        "colab": {
          "base_uri": "https://localhost:8080/"
        }
      },
      "source": [
        "clf2 = clf_cv.best_estimator_\n",
        "clf2.fit(X_train,y_train)\n",
        "predictions = clf2.predict(X_test)\n",
        "print(metrics.classification_report(y_test,predictions, target_names=targ_names, digits=3))"
      ],
      "execution_count": 16,
      "outputs": [
        {
          "output_type": "stream",
          "text": [
            "              precision    recall  f1-score   support\n",
            "\n",
            "    Dead (0)      0.762     0.939     0.842       181\n",
            "Survived (1)      0.847     0.535     0.656       114\n",
            "\n",
            "    accuracy                          0.783       295\n",
            "   macro avg      0.805     0.737     0.749       295\n",
            "weighted avg      0.795     0.783     0.770       295\n",
            "\n"
          ],
          "name": "stdout"
        }
      ]
    },
    {
      "cell_type": "code",
      "metadata": {
        "trusted": true,
        "id": "kJaUl78_TI4E",
        "outputId": "7fae1458-1942-47d9-9ba1-e8f167684f84",
        "colab": {
          "base_uri": "https://localhost:8080/",
          "height": 225
        }
      },
      "source": [
        "fig, ax = plt.subplots(figsize=(7,3))\n",
        "visualizer = ClassificationReport(clf2, classes=targ_names, support=True, cmap='RdPu')\n",
        "visualizer.score(X_test, y_test)\n",
        "for label in visualizer.ax.texts:\n",
        "    label.set_size(14)\n",
        "g = visualizer.poof()"
      ],
      "execution_count": 17,
      "outputs": [
        {
          "output_type": "display_data",
          "data": {
            "image/png": "[encoded data removed]",
            "text/plain": [
              "<Figure size 504x216 with 2 Axes>"
            ]
          },
          "metadata": {
            "tags": [],
            "needs_background": "light"
          }
        }
      ]
    },
    {
      "cell_type": "markdown",
      "metadata": {
        "id": "0aCxQLhjTI4K"
      },
      "source": [
        "**Confusion Matrix**"
      ]
    },
    {
      "cell_type": "code",
      "metadata": {
        "trusted": true,
        "id": "wT24alM-TI4M",
        "outputId": "d3abe113-6ad8-4fda-c739-80bd67ec5fae",
        "colab": {
          "base_uri": "https://localhost:8080/",
          "height": 240
        }
      },
      "source": [
        "fig, ax = plt.subplots(figsize=(3,3))\n",
        "cm = ConfusionMatrix(clf2, classes=[0, 1], cmap='RdPu')\n",
        "cm.score(X_test, y_test)\n",
        "for label in cm.ax.texts:\n",
        "    label.set_size(14)\n",
        "cm.poof()"
      ],
      "execution_count": 18,
      "outputs": [
        {
          "output_type": "display_data",
          "data": {
            "image/png": "[encoded data removed]",
            "text/plain": [
              "<Figure size 216x216 with 1 Axes>"
            ]
          },
          "metadata": {
            "tags": [],
            "needs_background": "light"
          }
        }
      ]
    },
    {
      "cell_type": "markdown",
      "metadata": {
        "id": "c0CbiB5oTI4Q"
      },
      "source": [
        "**ROC Curve**"
      ]
    },
    {
      "cell_type": "code",
      "metadata": {
        "trusted": true,
        "id": "ZrBPsHaaTI4R",
        "outputId": "78ee9862-1808-477c-89c6-3431a22bc44d",
        "colab": {
          "base_uri": "https://localhost:8080/",
          "height": 282
        }
      },
      "source": [
        "modelviz = clf_cv.best_estimator_\n",
        "visualizer = ROCAUC(modelviz, classes=[\"Dead\", \"Survived\"])\n",
        "\n",
        "visualizer.fit(X_train, y_train)        # Fit the training data to the visualizer\n",
        "visualizer.score(X_test, y_test)        # Evaluate the model on the test data\n",
        "                      # Finalize and render the figure"
      ],
      "execution_count": 20,
      "outputs": [
        {
          "output_type": "execute_result",
          "data": {
            "text/plain": [
              "0.7830508474576271"
            ]
          },
          "metadata": {
            "tags": []
          },
          "execution_count": 20
        },
        {
          "output_type": "display_data",
          "data": {
            "image/png": "[encoded data removed]",
            "text/plain": [
              "<Figure size 432x288 with 1 Axes>"
            ]
          },
          "metadata": {
            "tags": [],
            "needs_background": "light"
          }
        }
      ]
    },
    {
      "cell_type": "markdown",
      "metadata": {
        "id": "IRomlsYATI4W"
      },
      "source": [
        "**Draw the decision tree using graphviz**\n",
        "\n"
      ]
    },
    {
      "cell_type": "code",
      "metadata": {
        "trusted": true,
        "id": "aNAmjq7vTI4Y",
        "outputId": "18708d2d-e18c-48e0-fdd9-6b468dfb30f5",
        "colab": {
          "base_uri": "https://localhost:8080/",
          "height": 1000
        }
      },
      "source": [
        "import graphviz\n",
        "from sklearn.tree import DecisionTreeClassifier, export_graphviz\n",
        "\n",
        "data = export_graphviz(clf,out_file=None,feature_names=feat_names,class_names=targ_names,   \n",
        "                         filled=True, rounded=True,  \n",
        "                         special_characters=True)\n",
        "graph = graphviz.Source(data)\n",
        "graph"
      ],
      "execution_count": 21,
      "outputs": [
        {
          "output_type": "execute_result",
          "data": {
            "text/plain": [
              "<graphviz.files.Source at 0x7f53b7a6ea58>"
            ],
            "image/svg+xml": "<?xml version=\"1.0\" encoding=\"UTF-8\" standalone=\"no\"?>\n<!DOCTYPE svg PUBLIC \"-//W3C//DTD SVG 1.1//EN\"\n \"http://www.w3.org/Graphics/SVG/1.1/DTD/svg11.dtd\">\n<!-- Generated by graphviz version 2.40.1 (20161225.0304)\n -->\n<!-- Title: Tree Pages: 1 -->\n<svg width=\"1650pt\" height=\"1385pt\"\n viewBox=\"0.00 0.00 1650.00 1385.00\" xmlns=\"http://www.w3.org/2000/svg\" xmlns:xlink=\"http://www.w3.org/1999/xlink\">\n<g id=\"graph0\" class=\"graph\" transform=\"scale(1 1) rotate(0) translate(4 1381)\">\n<title>Tree</title>\n<polygon fill=\"#ffffff\" stroke=\"transparent\" points=\"-4,4 -4,-1381 1646,-1381 1646,4 -4,4\"/>\n<!-- 0 -->\n<g id=\"node1\" class=\"node\">\n<title>0</title>\n<path fill=\"#f5cfb4\" stroke=\"#000000\" d=\"M982,-1377C982,-1377 874,-1377 874,-1377 868,-1377 862,-1371 862,-1365 862,-1365 862,-1306 862,-1306 862,-1300 868,-1294 874,-1294 874,-1294 982,-1294 982,-1294 988,-1294 994,-1300 994,-1306 994,-1306 994,-1365 994,-1365 994,-1371 988,-1377 982,-1377\"/>\n<text text-anchor=\"start\" x=\"877.5\" y=\"-1361.8\" font-family=\"Helvetica,sans-Serif\" font-size=\"14.00\" fill=\"#000000\">Sex_male ≤ 0.5</text>\n<text text-anchor=\"start\" x=\"890\" y=\"-1346.8\" font-family=\"Helvetica,sans-Serif\" font-size=\"14.00\" fill=\"#000000\">gini = 0.472</text>\n<text text-anchor=\"start\" x=\"880\" y=\"-1331.8\" font-family=\"Helvetica,sans-Serif\" font-size=\"14.00\" fill=\"#000000\">samples = 596</text>\n<text text-anchor=\"start\" x=\"870\" y=\"-1316.8\" font-family=\"Helvetica,sans-Serif\" font-size=\"14.00\" fill=\"#000000\">value = [368, 228]</text>\n<text text-anchor=\"start\" x=\"875\" y=\"-1301.8\" font-family=\"Helvetica,sans-Serif\" font-size=\"14.00\" fill=\"#000000\">class = Dead (0)</text>\n</g>\n<!-- 1 -->\n<g id=\"node2\" class=\"node\">\n<title>1</title>\n<path fill=\"#7ebfee\" stroke=\"#000000\" d=\"M843,-1258C843,-1258 723,-1258 723,-1258 717,-1258 711,-1252 711,-1246 711,-1246 711,-1187 711,-1187 711,-1181 717,-1175 723,-1175 723,-1175 843,-1175 843,-1175 849,-1175 855,-1181 855,-1187 855,-1187 855,-1246 855,-1246 855,-1252 849,-1258 843,-1258\"/>\n<text text-anchor=\"start\" x=\"743.5\" y=\"-1242.8\" font-family=\"Helvetica,sans-Serif\" font-size=\"14.00\" fill=\"#000000\">Pclass ≤ 2.5</text>\n<text text-anchor=\"start\" x=\"745\" y=\"-1227.8\" font-family=\"Helvetica,sans-Serif\" font-size=\"14.00\" fill=\"#000000\">gini = 0.384</text>\n<text text-anchor=\"start\" x=\"735\" y=\"-1212.8\" font-family=\"Helvetica,sans-Serif\" font-size=\"14.00\" fill=\"#000000\">samples = 216</text>\n<text text-anchor=\"start\" x=\"729\" y=\"-1197.8\" font-family=\"Helvetica,sans-Serif\" font-size=\"14.00\" fill=\"#000000\">value = [56, 160]</text>\n<text text-anchor=\"start\" x=\"719\" y=\"-1182.8\" font-family=\"Helvetica,sans-Serif\" font-size=\"14.00\" fill=\"#000000\">class = Survived (1)</text>\n</g>\n<!-- 0&#45;&gt;1 -->\n<g id=\"edge1\" class=\"edge\">\n<title>0&#45;&gt;1</title>\n<path fill=\"none\" stroke=\"#000000\" d=\"M877.286,-1293.8796C865.873,-1284.513 853.6659,-1274.4948 841.9485,-1264.8784\"/>\n<polygon fill=\"#000000\" stroke=\"#000000\" points=\"843.8809,-1261.9366 833.9304,-1258.2981 839.4401,-1267.3476 843.8809,-1261.9366\"/>\n<text text-anchor=\"middle\" x=\"836.3807\" y=\"-1279.4777\" font-family=\"Helvetica,sans-Serif\" font-size=\"14.00\" fill=\"#000000\">True</text>\n</g>\n<!-- 18 -->\n<g id=\"node19\" class=\"node\">\n<title>18</title>\n<path fill=\"#eb9c64\" stroke=\"#000000\" d=\"M1125,-1258C1125,-1258 1025,-1258 1025,-1258 1019,-1258 1013,-1252 1013,-1246 1013,-1246 1013,-1187 1013,-1187 1013,-1181 1019,-1175 1025,-1175 1025,-1175 1125,-1175 1125,-1175 1131,-1175 1137,-1181 1137,-1187 1137,-1187 1137,-1246 1137,-1246 1137,-1252 1131,-1258 1125,-1258\"/>\n<text text-anchor=\"start\" x=\"1029.5\" y=\"-1242.8\" font-family=\"Helvetica,sans-Serif\" font-size=\"14.00\" fill=\"#000000\">Fare ≤ 15.148</text>\n<text text-anchor=\"start\" x=\"1037\" y=\"-1227.8\" font-family=\"Helvetica,sans-Serif\" font-size=\"14.00\" fill=\"#000000\">gini = 0.294</text>\n<text text-anchor=\"start\" x=\"1027\" y=\"-1212.8\" font-family=\"Helvetica,sans-Serif\" font-size=\"14.00\" fill=\"#000000\">samples = 380</text>\n<text text-anchor=\"start\" x=\"1021\" y=\"-1197.8\" font-family=\"Helvetica,sans-Serif\" font-size=\"14.00\" fill=\"#000000\">value = [312, 68]</text>\n<text text-anchor=\"start\" x=\"1022\" y=\"-1182.8\" font-family=\"Helvetica,sans-Serif\" font-size=\"14.00\" fill=\"#000000\">class = Dead (0)</text>\n</g>\n<!-- 0&#45;&gt;18 -->\n<g id=\"edge18\" class=\"edge\">\n<title>0&#45;&gt;18</title>\n<path fill=\"none\" stroke=\"#000000\" d=\"M979.4135,-1293.8796C991.0952,-1284.4229 1003.5975,-1274.302 1015.581,-1264.6011\"/>\n<polygon fill=\"#000000\" stroke=\"#000000\" points=\"1017.7968,-1267.3105 1023.3671,-1258.2981 1013.3924,-1261.8697 1017.7968,-1267.3105\"/>\n<text text-anchor=\"middle\" x=\"1020.75\" y=\"-1279.4607\" font-family=\"Helvetica,sans-Serif\" font-size=\"14.00\" fill=\"#000000\">False</text>\n</g>\n<!-- 2 -->\n<g id=\"node3\" class=\"node\">\n<title>2</title>\n<path fill=\"#45a3e7\" stroke=\"#000000\" d=\"M612,-1139C612,-1139 492,-1139 492,-1139 486,-1139 480,-1133 480,-1127 480,-1127 480,-1068 480,-1068 480,-1062 486,-1056 492,-1056 492,-1056 612,-1056 612,-1056 618,-1056 624,-1062 624,-1068 624,-1068 624,-1127 624,-1127 624,-1133 618,-1139 612,-1139\"/>\n<text text-anchor=\"start\" x=\"502.5\" y=\"-1123.8\" font-family=\"Helvetica,sans-Serif\" font-size=\"14.00\" fill=\"#000000\">Fare ≤ 149.035</text>\n<text text-anchor=\"start\" x=\"514\" y=\"-1108.8\" font-family=\"Helvetica,sans-Serif\" font-size=\"14.00\" fill=\"#000000\">gini = 0.108</text>\n<text text-anchor=\"start\" x=\"504\" y=\"-1093.8\" font-family=\"Helvetica,sans-Serif\" font-size=\"14.00\" fill=\"#000000\">samples = 122</text>\n<text text-anchor=\"start\" x=\"502\" y=\"-1078.8\" font-family=\"Helvetica,sans-Serif\" font-size=\"14.00\" fill=\"#000000\">value = [7, 115]</text>\n<text text-anchor=\"start\" x=\"488\" y=\"-1063.8\" font-family=\"Helvetica,sans-Serif\" font-size=\"14.00\" fill=\"#000000\">class = Survived (1)</text>\n</g>\n<!-- 1&#45;&gt;2 -->\n<g id=\"edge2\" class=\"edge\">\n<title>1&#45;&gt;2</title>\n<path fill=\"none\" stroke=\"#000000\" d=\"M710.8603,-1179.3371C686.3371,-1166.704 658.7631,-1152.4992 633.5564,-1139.5139\"/>\n<polygon fill=\"#000000\" stroke=\"#000000\" points=\"634.8794,-1136.2584 624.3868,-1134.7902 631.6737,-1142.4812 634.8794,-1136.2584\"/>\n</g>\n<!-- 11 -->\n<g id=\"node12\" class=\"node\">\n<title>11</title>\n<path fill=\"#fdf5ef\" stroke=\"#000000\" d=\"M832,-1139C832,-1139 734,-1139 734,-1139 728,-1139 722,-1133 722,-1127 722,-1127 722,-1068 722,-1068 722,-1062 728,-1056 734,-1056 734,-1056 832,-1056 832,-1056 838,-1056 844,-1062 844,-1068 844,-1068 844,-1127 844,-1127 844,-1133 838,-1139 832,-1139\"/>\n<text text-anchor=\"start\" x=\"737.5\" y=\"-1123.8\" font-family=\"Helvetica,sans-Serif\" font-size=\"14.00\" fill=\"#000000\">Fare ≤ 26.025</text>\n<text text-anchor=\"start\" x=\"745\" y=\"-1108.8\" font-family=\"Helvetica,sans-Serif\" font-size=\"14.00\" fill=\"#000000\">gini = 0.499</text>\n<text text-anchor=\"start\" x=\"739\" y=\"-1093.8\" font-family=\"Helvetica,sans-Serif\" font-size=\"14.00\" fill=\"#000000\">samples = 94</text>\n<text text-anchor=\"start\" x=\"733\" y=\"-1078.8\" font-family=\"Helvetica,sans-Serif\" font-size=\"14.00\" fill=\"#000000\">value = [49, 45]</text>\n<text text-anchor=\"start\" x=\"730\" y=\"-1063.8\" font-family=\"Helvetica,sans-Serif\" font-size=\"14.00\" fill=\"#000000\">class = Dead (0)</text>\n</g>\n<!-- 1&#45;&gt;11 -->\n<g id=\"edge11\" class=\"edge\">\n<title>1&#45;&gt;11</title>\n<path fill=\"none\" stroke=\"#000000\" d=\"M783,-1174.8796C783,-1166.6838 783,-1157.9891 783,-1149.5013\"/>\n<polygon fill=\"#000000\" stroke=\"#000000\" points=\"786.5001,-1149.298 783,-1139.2981 779.5001,-1149.2981 786.5001,-1149.298\"/>\n</g>\n<!-- 3 -->\n<g id=\"node4\" class=\"node\">\n<title>3</title>\n<path fill=\"#42a2e6\" stroke=\"#000000\" d=\"M450,-1020C450,-1020 330,-1020 330,-1020 324,-1020 318,-1014 318,-1008 318,-1008 318,-949 318,-949 318,-943 324,-937 330,-937 330,-937 450,-937 450,-937 456,-937 462,-943 462,-949 462,-949 462,-1008 462,-1008 462,-1014 456,-1020 450,-1020\"/>\n<text text-anchor=\"start\" x=\"344.5\" y=\"-1004.8\" font-family=\"Helvetica,sans-Serif\" font-size=\"14.00\" fill=\"#000000\">Fare ≤ 28.856</text>\n<text text-anchor=\"start\" x=\"352\" y=\"-989.8\" font-family=\"Helvetica,sans-Serif\" font-size=\"14.00\" fill=\"#000000\">gini = 0.087</text>\n<text text-anchor=\"start\" x=\"342\" y=\"-974.8\" font-family=\"Helvetica,sans-Serif\" font-size=\"14.00\" fill=\"#000000\">samples = 110</text>\n<text text-anchor=\"start\" x=\"340\" y=\"-959.8\" font-family=\"Helvetica,sans-Serif\" font-size=\"14.00\" fill=\"#000000\">value = [5, 105]</text>\n<text text-anchor=\"start\" x=\"326\" y=\"-944.8\" font-family=\"Helvetica,sans-Serif\" font-size=\"14.00\" fill=\"#000000\">class = Survived (1)</text>\n</g>\n<!-- 2&#45;&gt;3 -->\n<g id=\"edge3\" class=\"edge\">\n<title>2&#45;&gt;3</title>\n<path fill=\"none\" stroke=\"#000000\" d=\"M495.3403,-1055.8796C482.2684,-1046.2774 468.2641,-1035.9903 454.8727,-1026.1534\"/>\n<polygon fill=\"#000000\" stroke=\"#000000\" points=\"456.7591,-1023.1963 446.6277,-1020.0969 452.615,-1028.8378 456.7591,-1023.1963\"/>\n</g>\n<!-- 10 -->\n<g id=\"node11\" class=\"node\">\n<title>10</title>\n<path fill=\"#61b1ea\" stroke=\"#000000\" d=\"M612,-1012.5C612,-1012.5 492,-1012.5 492,-1012.5 486,-1012.5 480,-1006.5 480,-1000.5 480,-1000.5 480,-956.5 480,-956.5 480,-950.5 486,-944.5 492,-944.5 492,-944.5 612,-944.5 612,-944.5 618,-944.5 624,-950.5 624,-956.5 624,-956.5 624,-1000.5 624,-1000.5 624,-1006.5 618,-1012.5 612,-1012.5\"/>\n<text text-anchor=\"start\" x=\"514\" y=\"-997.3\" font-family=\"Helvetica,sans-Serif\" font-size=\"14.00\" fill=\"#000000\">gini = 0.278</text>\n<text text-anchor=\"start\" x=\"508\" y=\"-982.3\" font-family=\"Helvetica,sans-Serif\" font-size=\"14.00\" fill=\"#000000\">samples = 12</text>\n<text text-anchor=\"start\" x=\"506.5\" y=\"-967.3\" font-family=\"Helvetica,sans-Serif\" font-size=\"14.00\" fill=\"#000000\">value = [2, 10]</text>\n<text text-anchor=\"start\" x=\"488\" y=\"-952.3\" font-family=\"Helvetica,sans-Serif\" font-size=\"14.00\" fill=\"#000000\">class = Survived (1)</text>\n</g>\n<!-- 2&#45;&gt;10 -->\n<g id=\"edge10\" class=\"edge\">\n<title>2&#45;&gt;10</title>\n<path fill=\"none\" stroke=\"#000000\" d=\"M552,-1055.8796C552,-1045.2134 552,-1033.7021 552,-1022.9015\"/>\n<polygon fill=\"#000000\" stroke=\"#000000\" points=\"555.5001,-1022.8149 552,-1012.8149 548.5001,-1022.815 555.5001,-1022.8149\"/>\n</g>\n<!-- 4 -->\n<g id=\"node5\" class=\"node\">\n<title>4</title>\n<path fill=\"#4ca7e8\" stroke=\"#000000\" d=\"M288,-901C288,-901 168,-901 168,-901 162,-901 156,-895 156,-889 156,-889 156,-830 156,-830 156,-824 162,-818 168,-818 168,-818 288,-818 288,-818 294,-818 300,-824 300,-830 300,-830 300,-889 300,-889 300,-895 294,-901 288,-901\"/>\n<text text-anchor=\"start\" x=\"182.5\" y=\"-885.8\" font-family=\"Helvetica,sans-Serif\" font-size=\"14.00\" fill=\"#000000\">Fare ≤ 28.231</text>\n<text text-anchor=\"start\" x=\"190\" y=\"-870.8\" font-family=\"Helvetica,sans-Serif\" font-size=\"14.00\" fill=\"#000000\">gini = 0.163</text>\n<text text-anchor=\"start\" x=\"184\" y=\"-855.8\" font-family=\"Helvetica,sans-Serif\" font-size=\"14.00\" fill=\"#000000\">samples = 56</text>\n<text text-anchor=\"start\" x=\"182.5\" y=\"-840.8\" font-family=\"Helvetica,sans-Serif\" font-size=\"14.00\" fill=\"#000000\">value = [5, 51]</text>\n<text text-anchor=\"start\" x=\"164\" y=\"-825.8\" font-family=\"Helvetica,sans-Serif\" font-size=\"14.00\" fill=\"#000000\">class = Survived (1)</text>\n</g>\n<!-- 3&#45;&gt;4 -->\n<g id=\"edge4\" class=\"edge\">\n<title>3&#45;&gt;4</title>\n<path fill=\"none\" stroke=\"#000000\" d=\"M333.3403,-936.8796C320.2684,-927.2774 306.2641,-916.9903 292.8727,-907.1534\"/>\n<polygon fill=\"#000000\" stroke=\"#000000\" points=\"294.7591,-904.1963 284.6277,-901.0969 290.615,-909.8378 294.7591,-904.1963\"/>\n</g>\n<!-- 9 -->\n<g id=\"node10\" class=\"node\">\n<title>9</title>\n<path fill=\"#399de5\" stroke=\"#000000\" d=\"M450,-893.5C450,-893.5 330,-893.5 330,-893.5 324,-893.5 318,-887.5 318,-881.5 318,-881.5 318,-837.5 318,-837.5 318,-831.5 324,-825.5 330,-825.5 330,-825.5 450,-825.5 450,-825.5 456,-825.5 462,-831.5 462,-837.5 462,-837.5 462,-881.5 462,-881.5 462,-887.5 456,-893.5 450,-893.5\"/>\n<text text-anchor=\"start\" x=\"360.5\" y=\"-878.3\" font-family=\"Helvetica,sans-Serif\" font-size=\"14.00\" fill=\"#000000\">gini = 0.0</text>\n<text text-anchor=\"start\" x=\"346\" y=\"-863.3\" font-family=\"Helvetica,sans-Serif\" font-size=\"14.00\" fill=\"#000000\">samples = 54</text>\n<text text-anchor=\"start\" x=\"344.5\" y=\"-848.3\" font-family=\"Helvetica,sans-Serif\" font-size=\"14.00\" fill=\"#000000\">value = [0, 54]</text>\n<text text-anchor=\"start\" x=\"326\" y=\"-833.3\" font-family=\"Helvetica,sans-Serif\" font-size=\"14.00\" fill=\"#000000\">class = Survived (1)</text>\n</g>\n<!-- 3&#45;&gt;9 -->\n<g id=\"edge9\" class=\"edge\">\n<title>3&#45;&gt;9</title>\n<path fill=\"none\" stroke=\"#000000\" d=\"M390,-936.8796C390,-926.2134 390,-914.7021 390,-903.9015\"/>\n<polygon fill=\"#000000\" stroke=\"#000000\" points=\"393.5001,-903.8149 390,-893.8149 386.5001,-903.815 393.5001,-903.8149\"/>\n</g>\n<!-- 5 -->\n<g id=\"node6\" class=\"node\">\n<title>5</title>\n<path fill=\"#49a5e7\" stroke=\"#000000\" d=\"M213,-782C213,-782 93,-782 93,-782 87,-782 81,-776 81,-770 81,-770 81,-711 81,-711 81,-705 87,-699 93,-699 93,-699 213,-699 213,-699 219,-699 225,-705 225,-711 225,-711 225,-770 225,-770 225,-776 219,-782 213,-782\"/>\n<text text-anchor=\"start\" x=\"116\" y=\"-766.8\" font-family=\"Helvetica,sans-Serif\" font-size=\"14.00\" fill=\"#000000\">Parch ≤ 0.5</text>\n<text text-anchor=\"start\" x=\"115\" y=\"-751.8\" font-family=\"Helvetica,sans-Serif\" font-size=\"14.00\" fill=\"#000000\">gini = 0.135</text>\n<text text-anchor=\"start\" x=\"109\" y=\"-736.8\" font-family=\"Helvetica,sans-Serif\" font-size=\"14.00\" fill=\"#000000\">samples = 55</text>\n<text text-anchor=\"start\" x=\"107.5\" y=\"-721.8\" font-family=\"Helvetica,sans-Serif\" font-size=\"14.00\" fill=\"#000000\">value = [4, 51]</text>\n<text text-anchor=\"start\" x=\"89\" y=\"-706.8\" font-family=\"Helvetica,sans-Serif\" font-size=\"14.00\" fill=\"#000000\">class = Survived (1)</text>\n</g>\n<!-- 4&#45;&gt;5 -->\n<g id=\"edge5\" class=\"edge\">\n<title>4&#45;&gt;5</title>\n<path fill=\"none\" stroke=\"#000000\" d=\"M201.7686,-817.8796C196.2627,-809.1434 190.3994,-799.8404 184.7176,-790.8253\"/>\n<polygon fill=\"#000000\" stroke=\"#000000\" points=\"187.6363,-788.8919 179.3433,-782.2981 181.7143,-792.6242 187.6363,-788.8919\"/>\n</g>\n<!-- 8 -->\n<g id=\"node9\" class=\"node\">\n<title>8</title>\n<path fill=\"#e58139\" stroke=\"#000000\" d=\"M353,-774.5C353,-774.5 255,-774.5 255,-774.5 249,-774.5 243,-768.5 243,-762.5 243,-762.5 243,-718.5 243,-718.5 243,-712.5 249,-706.5 255,-706.5 255,-706.5 353,-706.5 353,-706.5 359,-706.5 365,-712.5 365,-718.5 365,-718.5 365,-762.5 365,-762.5 365,-768.5 359,-774.5 353,-774.5\"/>\n<text text-anchor=\"start\" x=\"274.5\" y=\"-759.3\" font-family=\"Helvetica,sans-Serif\" font-size=\"14.00\" fill=\"#000000\">gini = 0.0</text>\n<text text-anchor=\"start\" x=\"264.5\" y=\"-744.3\" font-family=\"Helvetica,sans-Serif\" font-size=\"14.00\" fill=\"#000000\">samples = 1</text>\n<text text-anchor=\"start\" x=\"262.5\" y=\"-729.3\" font-family=\"Helvetica,sans-Serif\" font-size=\"14.00\" fill=\"#000000\">value = [1, 0]</text>\n<text text-anchor=\"start\" x=\"251\" y=\"-714.3\" font-family=\"Helvetica,sans-Serif\" font-size=\"14.00\" fill=\"#000000\">class = Dead (0)</text>\n</g>\n<!-- 4&#45;&gt;8 -->\n<g id=\"edge8\" class=\"edge\">\n<title>4&#45;&gt;8</title>\n<path fill=\"none\" stroke=\"#000000\" d=\"M254.5811,-817.8796C261.674,-806.7735 269.3521,-794.7513 276.4937,-783.5691\"/>\n<polygon fill=\"#000000\" stroke=\"#000000\" points=\"279.6518,-785.1267 282.0846,-774.8149 273.7523,-781.3589 279.6518,-785.1267\"/>\n</g>\n<!-- 6 -->\n<g id=\"node7\" class=\"node\">\n<title>6</title>\n<path fill=\"#50a8e8\" stroke=\"#000000\" d=\"M132,-655.5C132,-655.5 12,-655.5 12,-655.5 6,-655.5 0,-649.5 0,-643.5 0,-643.5 0,-599.5 0,-599.5 0,-593.5 6,-587.5 12,-587.5 12,-587.5 132,-587.5 132,-587.5 138,-587.5 144,-593.5 144,-599.5 144,-599.5 144,-643.5 144,-643.5 144,-649.5 138,-655.5 132,-655.5\"/>\n<text text-anchor=\"start\" x=\"34\" y=\"-640.3\" font-family=\"Helvetica,sans-Serif\" font-size=\"14.00\" fill=\"#000000\">gini = 0.184</text>\n<text text-anchor=\"start\" x=\"28\" y=\"-625.3\" font-family=\"Helvetica,sans-Serif\" font-size=\"14.00\" fill=\"#000000\">samples = 39</text>\n<text text-anchor=\"start\" x=\"26.5\" y=\"-610.3\" font-family=\"Helvetica,sans-Serif\" font-size=\"14.00\" fill=\"#000000\">value = [4, 35]</text>\n<text text-anchor=\"start\" x=\"8\" y=\"-595.3\" font-family=\"Helvetica,sans-Serif\" font-size=\"14.00\" fill=\"#000000\">class = Survived (1)</text>\n</g>\n<!-- 5&#45;&gt;6 -->\n<g id=\"edge6\" class=\"edge\">\n<title>5&#45;&gt;6</title>\n<path fill=\"none\" stroke=\"#000000\" d=\"M124.6701,-698.8796C117.0357,-687.6636 108.7652,-675.5131 101.0901,-664.2372\"/>\n<polygon fill=\"#000000\" stroke=\"#000000\" points=\"103.8775,-662.1122 95.3572,-655.8149 98.0908,-666.0511 103.8775,-662.1122\"/>\n</g>\n<!-- 7 -->\n<g id=\"node8\" class=\"node\">\n<title>7</title>\n<path fill=\"#399de5\" stroke=\"#000000\" d=\"M294,-655.5C294,-655.5 174,-655.5 174,-655.5 168,-655.5 162,-649.5 162,-643.5 162,-643.5 162,-599.5 162,-599.5 162,-593.5 168,-587.5 174,-587.5 174,-587.5 294,-587.5 294,-587.5 300,-587.5 306,-593.5 306,-599.5 306,-599.5 306,-643.5 306,-643.5 306,-649.5 300,-655.5 294,-655.5\"/>\n<text text-anchor=\"start\" x=\"204.5\" y=\"-640.3\" font-family=\"Helvetica,sans-Serif\" font-size=\"14.00\" fill=\"#000000\">gini = 0.0</text>\n<text text-anchor=\"start\" x=\"190\" y=\"-625.3\" font-family=\"Helvetica,sans-Serif\" font-size=\"14.00\" fill=\"#000000\">samples = 16</text>\n<text text-anchor=\"start\" x=\"188.5\" y=\"-610.3\" font-family=\"Helvetica,sans-Serif\" font-size=\"14.00\" fill=\"#000000\">value = [0, 16]</text>\n<text text-anchor=\"start\" x=\"170\" y=\"-595.3\" font-family=\"Helvetica,sans-Serif\" font-size=\"14.00\" fill=\"#000000\">class = Survived (1)</text>\n</g>\n<!-- 5&#45;&gt;7 -->\n<g id=\"edge7\" class=\"edge\">\n<title>5&#45;&gt;7</title>\n<path fill=\"none\" stroke=\"#000000\" d=\"M181.3299,-698.8796C188.9643,-687.6636 197.2348,-675.5131 204.9099,-664.2372\"/>\n<polygon fill=\"#000000\" stroke=\"#000000\" points=\"207.9092,-666.0511 210.6428,-655.8149 202.1225,-662.1122 207.9092,-666.0511\"/>\n</g>\n<!-- 12 -->\n<g id=\"node13\" class=\"node\">\n<title>12</title>\n<path fill=\"#e0effb\" stroke=\"#000000\" d=\"M774,-1020C774,-1020 654,-1020 654,-1020 648,-1020 642,-1014 642,-1008 642,-1008 642,-949 642,-949 642,-943 648,-937 654,-937 654,-937 774,-937 774,-937 780,-937 786,-943 786,-949 786,-949 786,-1008 786,-1008 786,-1014 780,-1020 774,-1020\"/>\n<text text-anchor=\"start\" x=\"676.5\" y=\"-1004.8\" font-family=\"Helvetica,sans-Serif\" font-size=\"14.00\" fill=\"#000000\">SibSp ≤ 1.5</text>\n<text text-anchor=\"start\" x=\"676\" y=\"-989.8\" font-family=\"Helvetica,sans-Serif\" font-size=\"14.00\" fill=\"#000000\">gini = 0.496</text>\n<text text-anchor=\"start\" x=\"670\" y=\"-974.8\" font-family=\"Helvetica,sans-Serif\" font-size=\"14.00\" fill=\"#000000\">samples = 81</text>\n<text text-anchor=\"start\" x=\"664\" y=\"-959.8\" font-family=\"Helvetica,sans-Serif\" font-size=\"14.00\" fill=\"#000000\">value = [37, 44]</text>\n<text text-anchor=\"start\" x=\"650\" y=\"-944.8\" font-family=\"Helvetica,sans-Serif\" font-size=\"14.00\" fill=\"#000000\">class = Survived (1)</text>\n</g>\n<!-- 11&#45;&gt;12 -->\n<g id=\"edge12\" class=\"edge\">\n<title>11&#45;&gt;12</title>\n<path fill=\"none\" stroke=\"#000000\" d=\"M758.8671,-1055.8796C753.8539,-1047.2335 748.5187,-1038.0322 743.3419,-1029.1042\"/>\n<polygon fill=\"#000000\" stroke=\"#000000\" points=\"746.2798,-1027.1934 738.2359,-1020.2981 740.2242,-1030.7047 746.2798,-1027.1934\"/>\n</g>\n<!-- 17 -->\n<g id=\"node18\" class=\"node\">\n<title>17</title>\n<path fill=\"#e78c49\" stroke=\"#000000\" d=\"M914,-1012.5C914,-1012.5 816,-1012.5 816,-1012.5 810,-1012.5 804,-1006.5 804,-1000.5 804,-1000.5 804,-956.5 804,-956.5 804,-950.5 810,-944.5 816,-944.5 816,-944.5 914,-944.5 914,-944.5 920,-944.5 926,-950.5 926,-956.5 926,-956.5 926,-1000.5 926,-1000.5 926,-1006.5 920,-1012.5 914,-1012.5\"/>\n<text text-anchor=\"start\" x=\"827\" y=\"-997.3\" font-family=\"Helvetica,sans-Serif\" font-size=\"14.00\" fill=\"#000000\">gini = 0.142</text>\n<text text-anchor=\"start\" x=\"821\" y=\"-982.3\" font-family=\"Helvetica,sans-Serif\" font-size=\"14.00\" fill=\"#000000\">samples = 13</text>\n<text text-anchor=\"start\" x=\"819.5\" y=\"-967.3\" font-family=\"Helvetica,sans-Serif\" font-size=\"14.00\" fill=\"#000000\">value = [12, 1]</text>\n<text text-anchor=\"start\" x=\"812\" y=\"-952.3\" font-family=\"Helvetica,sans-Serif\" font-size=\"14.00\" fill=\"#000000\">class = Dead (0)</text>\n</g>\n<!-- 11&#45;&gt;17 -->\n<g id=\"edge17\" class=\"edge\">\n<title>11&#45;&gt;17</title>\n<path fill=\"none\" stroke=\"#000000\" d=\"M811.6796,-1055.8796C819.4083,-1044.6636 827.7809,-1032.5131 835.5508,-1021.2372\"/>\n<polygon fill=\"#000000\" stroke=\"#000000\" points=\"838.5623,-1023.0353 841.3544,-1012.8149 832.7982,-1019.0634 838.5623,-1023.0353\"/>\n</g>\n<!-- 13 -->\n<g id=\"node14\" class=\"node\">\n<title>13</title>\n<path fill=\"#ecf5fc\" stroke=\"#000000\" d=\"M612,-901C612,-901 492,-901 492,-901 486,-901 480,-895 480,-889 480,-889 480,-830 480,-830 480,-824 486,-818 492,-818 492,-818 612,-818 612,-818 618,-818 624,-824 624,-830 624,-830 624,-889 624,-889 624,-895 618,-901 612,-901\"/>\n<text text-anchor=\"start\" x=\"515\" y=\"-885.8\" font-family=\"Helvetica,sans-Serif\" font-size=\"14.00\" fill=\"#000000\">Fare ≤ 8.04</text>\n<text text-anchor=\"start\" x=\"514\" y=\"-870.8\" font-family=\"Helvetica,sans-Serif\" font-size=\"14.00\" fill=\"#000000\">gini = 0.499</text>\n<text text-anchor=\"start\" x=\"508\" y=\"-855.8\" font-family=\"Helvetica,sans-Serif\" font-size=\"14.00\" fill=\"#000000\">samples = 78</text>\n<text text-anchor=\"start\" x=\"502\" y=\"-840.8\" font-family=\"Helvetica,sans-Serif\" font-size=\"14.00\" fill=\"#000000\">value = [37, 41]</text>\n<text text-anchor=\"start\" x=\"488\" y=\"-825.8\" font-family=\"Helvetica,sans-Serif\" font-size=\"14.00\" fill=\"#000000\">class = Survived (1)</text>\n</g>\n<!-- 12&#45;&gt;13 -->\n<g id=\"edge13\" class=\"edge\">\n<title>12&#45;&gt;13</title>\n<path fill=\"none\" stroke=\"#000000\" d=\"M657.3403,-936.8796C644.2684,-927.2774 630.2641,-916.9903 616.8727,-907.1534\"/>\n<polygon fill=\"#000000\" stroke=\"#000000\" points=\"618.7591,-904.1963 608.6277,-901.0969 614.615,-909.8378 618.7591,-904.1963\"/>\n</g>\n<!-- 16 -->\n<g id=\"node17\" class=\"node\">\n<title>16</title>\n<path fill=\"#399de5\" stroke=\"#000000\" d=\"M774,-893.5C774,-893.5 654,-893.5 654,-893.5 648,-893.5 642,-887.5 642,-881.5 642,-881.5 642,-837.5 642,-837.5 642,-831.5 648,-825.5 654,-825.5 654,-825.5 774,-825.5 774,-825.5 780,-825.5 786,-831.5 786,-837.5 786,-837.5 786,-881.5 786,-881.5 786,-887.5 780,-893.5 774,-893.5\"/>\n<text text-anchor=\"start\" x=\"684.5\" y=\"-878.3\" font-family=\"Helvetica,sans-Serif\" font-size=\"14.00\" fill=\"#000000\">gini = 0.0</text>\n<text text-anchor=\"start\" x=\"674.5\" y=\"-863.3\" font-family=\"Helvetica,sans-Serif\" font-size=\"14.00\" fill=\"#000000\">samples = 3</text>\n<text text-anchor=\"start\" x=\"672.5\" y=\"-848.3\" font-family=\"Helvetica,sans-Serif\" font-size=\"14.00\" fill=\"#000000\">value = [0, 3]</text>\n<text text-anchor=\"start\" x=\"650\" y=\"-833.3\" font-family=\"Helvetica,sans-Serif\" font-size=\"14.00\" fill=\"#000000\">class = Survived (1)</text>\n</g>\n<!-- 12&#45;&gt;16 -->\n<g id=\"edge16\" class=\"edge\">\n<title>12&#45;&gt;16</title>\n<path fill=\"none\" stroke=\"#000000\" d=\"M714,-936.8796C714,-926.2134 714,-914.7021 714,-903.9015\"/>\n<polygon fill=\"#000000\" stroke=\"#000000\" points=\"717.5001,-903.8149 714,-893.8149 710.5001,-903.815 717.5001,-903.8149\"/>\n</g>\n<!-- 14 -->\n<g id=\"node15\" class=\"node\">\n<title>14</title>\n<path fill=\"#aed7f4\" stroke=\"#000000\" d=\"M564,-774.5C564,-774.5 444,-774.5 444,-774.5 438,-774.5 432,-768.5 432,-762.5 432,-762.5 432,-718.5 432,-718.5 432,-712.5 438,-706.5 444,-706.5 444,-706.5 564,-706.5 564,-706.5 570,-706.5 576,-712.5 576,-718.5 576,-718.5 576,-762.5 576,-762.5 576,-768.5 570,-774.5 564,-774.5\"/>\n<text text-anchor=\"start\" x=\"466\" y=\"-759.3\" font-family=\"Helvetica,sans-Serif\" font-size=\"14.00\" fill=\"#000000\">gini = 0.467</text>\n<text text-anchor=\"start\" x=\"460\" y=\"-744.3\" font-family=\"Helvetica,sans-Serif\" font-size=\"14.00\" fill=\"#000000\">samples = 35</text>\n<text text-anchor=\"start\" x=\"454\" y=\"-729.3\" font-family=\"Helvetica,sans-Serif\" font-size=\"14.00\" fill=\"#000000\">value = [13, 22]</text>\n<text text-anchor=\"start\" x=\"440\" y=\"-714.3\" font-family=\"Helvetica,sans-Serif\" font-size=\"14.00\" fill=\"#000000\">class = Survived (1)</text>\n</g>\n<!-- 13&#45;&gt;14 -->\n<g id=\"edge14\" class=\"edge\">\n<title>13&#45;&gt;14</title>\n<path fill=\"none\" stroke=\"#000000\" d=\"M535.2119,-817.8796C530.8209,-806.9935 526.0748,-795.227 521.6408,-784.2344\"/>\n<polygon fill=\"#000000\" stroke=\"#000000\" points=\"524.828,-782.7796 517.8413,-774.8149 518.3362,-785.3982 524.828,-782.7796\"/>\n</g>\n<!-- 15 -->\n<g id=\"node16\" class=\"node\">\n<title>15</title>\n<path fill=\"#fae5d6\" stroke=\"#000000\" d=\"M704,-774.5C704,-774.5 606,-774.5 606,-774.5 600,-774.5 594,-768.5 594,-762.5 594,-762.5 594,-718.5 594,-718.5 594,-712.5 600,-706.5 606,-706.5 606,-706.5 704,-706.5 704,-706.5 710,-706.5 716,-712.5 716,-718.5 716,-718.5 716,-762.5 716,-762.5 716,-768.5 710,-774.5 704,-774.5\"/>\n<text text-anchor=\"start\" x=\"617\" y=\"-759.3\" font-family=\"Helvetica,sans-Serif\" font-size=\"14.00\" fill=\"#000000\">gini = 0.493</text>\n<text text-anchor=\"start\" x=\"611\" y=\"-744.3\" font-family=\"Helvetica,sans-Serif\" font-size=\"14.00\" fill=\"#000000\">samples = 43</text>\n<text text-anchor=\"start\" x=\"605\" y=\"-729.3\" font-family=\"Helvetica,sans-Serif\" font-size=\"14.00\" fill=\"#000000\">value = [24, 19]</text>\n<text text-anchor=\"start\" x=\"602\" y=\"-714.3\" font-family=\"Helvetica,sans-Serif\" font-size=\"14.00\" fill=\"#000000\">class = Dead (0)</text>\n</g>\n<!-- 13&#45;&gt;15 -->\n<g id=\"edge15\" class=\"edge\">\n<title>13&#45;&gt;15</title>\n<path fill=\"none\" stroke=\"#000000\" d=\"M588.0244,-817.8796C597.9227,-806.4436 608.6619,-794.0363 618.5822,-782.575\"/>\n<polygon fill=\"#000000\" stroke=\"#000000\" points=\"621.4007,-784.6666 625.2988,-774.8149 616.1079,-780.0855 621.4007,-784.6666\"/>\n</g>\n<!-- 19 -->\n<g id=\"node20\" class=\"node\">\n<title>19</title>\n<path fill=\"#e89051\" stroke=\"#000000\" d=\"M1125,-1139C1125,-1139 1025,-1139 1025,-1139 1019,-1139 1013,-1133 1013,-1127 1013,-1127 1013,-1068 1013,-1068 1013,-1062 1019,-1056 1025,-1056 1025,-1056 1125,-1056 1125,-1056 1131,-1056 1137,-1062 1137,-1068 1137,-1068 1137,-1127 1137,-1127 1137,-1133 1131,-1139 1125,-1139\"/>\n<text text-anchor=\"start\" x=\"1034\" y=\"-1123.8\" font-family=\"Helvetica,sans-Serif\" font-size=\"14.00\" fill=\"#000000\">Fare ≤ 7.763</text>\n<text text-anchor=\"start\" x=\"1037\" y=\"-1108.8\" font-family=\"Helvetica,sans-Serif\" font-size=\"14.00\" fill=\"#000000\">gini = 0.195</text>\n<text text-anchor=\"start\" x=\"1027\" y=\"-1093.8\" font-family=\"Helvetica,sans-Serif\" font-size=\"14.00\" fill=\"#000000\">samples = 238</text>\n<text text-anchor=\"start\" x=\"1021\" y=\"-1078.8\" font-family=\"Helvetica,sans-Serif\" font-size=\"14.00\" fill=\"#000000\">value = [212, 26]</text>\n<text text-anchor=\"start\" x=\"1022\" y=\"-1063.8\" font-family=\"Helvetica,sans-Serif\" font-size=\"14.00\" fill=\"#000000\">class = Dead (0)</text>\n</g>\n<!-- 18&#45;&gt;19 -->\n<g id=\"edge19\" class=\"edge\">\n<title>18&#45;&gt;19</title>\n<path fill=\"none\" stroke=\"#000000\" d=\"M1075,-1174.8796C1075,-1166.6838 1075,-1157.9891 1075,-1149.5013\"/>\n<polygon fill=\"#000000\" stroke=\"#000000\" points=\"1078.5001,-1149.298 1075,-1139.2981 1071.5001,-1149.2981 1078.5001,-1149.298\"/>\n</g>\n<!-- 40 -->\n<g id=\"node41\" class=\"node\">\n<title>40</title>\n<path fill=\"#f0b68c\" stroke=\"#000000\" d=\"M1497.5,-1139C1497.5,-1139 1384.5,-1139 1384.5,-1139 1378.5,-1139 1372.5,-1133 1372.5,-1127 1372.5,-1127 1372.5,-1068 1372.5,-1068 1372.5,-1062 1378.5,-1056 1384.5,-1056 1384.5,-1056 1497.5,-1056 1497.5,-1056 1503.5,-1056 1509.5,-1062 1509.5,-1068 1509.5,-1068 1509.5,-1127 1509.5,-1127 1509.5,-1133 1503.5,-1139 1497.5,-1139\"/>\n<text text-anchor=\"start\" x=\"1380.5\" y=\"-1123.8\" font-family=\"Helvetica,sans-Serif\" font-size=\"14.00\" fill=\"#000000\">Embarked_C ≤ 0.5</text>\n<text text-anchor=\"start\" x=\"1403\" y=\"-1108.8\" font-family=\"Helvetica,sans-Serif\" font-size=\"14.00\" fill=\"#000000\">gini = 0.417</text>\n<text text-anchor=\"start\" x=\"1393\" y=\"-1093.8\" font-family=\"Helvetica,sans-Serif\" font-size=\"14.00\" fill=\"#000000\">samples = 142</text>\n<text text-anchor=\"start\" x=\"1387\" y=\"-1078.8\" font-family=\"Helvetica,sans-Serif\" font-size=\"14.00\" fill=\"#000000\">value = [100, 42]</text>\n<text text-anchor=\"start\" x=\"1388\" y=\"-1063.8\" font-family=\"Helvetica,sans-Serif\" font-size=\"14.00\" fill=\"#000000\">class = Dead (0)</text>\n</g>\n<!-- 18&#45;&gt;40 -->\n<g id=\"edge40\" class=\"edge\">\n<title>18&#45;&gt;40</title>\n<path fill=\"none\" stroke=\"#000000\" d=\"M1137.0869,-1196.3133C1199.2911,-1176.0884 1295.2321,-1144.8945 1362.6417,-1122.9771\"/>\n<polygon fill=\"#000000\" stroke=\"#000000\" points=\"1363.9453,-1126.2337 1372.373,-1119.8132 1361.7808,-1119.5768 1363.9453,-1126.2337\"/>\n</g>\n<!-- 20 -->\n<g id=\"node21\" class=\"node\">\n<title>20</title>\n<path fill=\"#e78b49\" stroke=\"#000000\" d=\"M1054,-1020C1054,-1020 956,-1020 956,-1020 950,-1020 944,-1014 944,-1008 944,-1008 944,-949 944,-949 944,-943 950,-937 956,-937 956,-937 1054,-937 1054,-937 1060,-937 1066,-943 1066,-949 1066,-949 1066,-1008 1066,-1008 1066,-1014 1060,-1020 1054,-1020\"/>\n<text text-anchor=\"start\" x=\"968\" y=\"-1004.8\" font-family=\"Helvetica,sans-Serif\" font-size=\"14.00\" fill=\"#000000\">Fare ≤ 7.24</text>\n<text text-anchor=\"start\" x=\"967\" y=\"-989.8\" font-family=\"Helvetica,sans-Serif\" font-size=\"14.00\" fill=\"#000000\">gini = 0.137</text>\n<text text-anchor=\"start\" x=\"961\" y=\"-974.8\" font-family=\"Helvetica,sans-Serif\" font-size=\"14.00\" fill=\"#000000\">samples = 81</text>\n<text text-anchor=\"start\" x=\"959.5\" y=\"-959.8\" font-family=\"Helvetica,sans-Serif\" font-size=\"14.00\" fill=\"#000000\">value = [75, 6]</text>\n<text text-anchor=\"start\" x=\"952\" y=\"-944.8\" font-family=\"Helvetica,sans-Serif\" font-size=\"14.00\" fill=\"#000000\">class = Dead (0)</text>\n</g>\n<!-- 19&#45;&gt;20 -->\n<g id=\"edge20\" class=\"edge\">\n<title>19&#45;&gt;20</title>\n<path fill=\"none\" stroke=\"#000000\" d=\"M1050.5174,-1055.8796C1045.4315,-1047.2335 1040.0189,-1038.0322 1034.7672,-1029.1042\"/>\n<polygon fill=\"#000000\" stroke=\"#000000\" points=\"1037.6741,-1027.1428 1029.5871,-1020.2981 1031.6406,-1030.692 1037.6741,-1027.1428\"/>\n</g>\n<!-- 23 -->\n<g id=\"node24\" class=\"node\">\n<title>23</title>\n<path fill=\"#e99356\" stroke=\"#000000\" d=\"M1196,-1020C1196,-1020 1096,-1020 1096,-1020 1090,-1020 1084,-1014 1084,-1008 1084,-1008 1084,-949 1084,-949 1084,-943 1090,-937 1096,-937 1096,-937 1196,-937 1196,-937 1202,-937 1208,-943 1208,-949 1208,-949 1208,-1008 1208,-1008 1208,-1014 1202,-1020 1196,-1020\"/>\n<text text-anchor=\"start\" x=\"1105\" y=\"-1004.8\" font-family=\"Helvetica,sans-Serif\" font-size=\"14.00\" fill=\"#000000\">Fare ≤ 7.798</text>\n<text text-anchor=\"start\" x=\"1108\" y=\"-989.8\" font-family=\"Helvetica,sans-Serif\" font-size=\"14.00\" fill=\"#000000\">gini = 0.222</text>\n<text text-anchor=\"start\" x=\"1098\" y=\"-974.8\" font-family=\"Helvetica,sans-Serif\" font-size=\"14.00\" fill=\"#000000\">samples = 157</text>\n<text text-anchor=\"start\" x=\"1092\" y=\"-959.8\" font-family=\"Helvetica,sans-Serif\" font-size=\"14.00\" fill=\"#000000\">value = [137, 20]</text>\n<text text-anchor=\"start\" x=\"1093\" y=\"-944.8\" font-family=\"Helvetica,sans-Serif\" font-size=\"14.00\" fill=\"#000000\">class = Dead (0)</text>\n</g>\n<!-- 19&#45;&gt;23 -->\n<g id=\"edge23\" class=\"edge\">\n<title>19&#45;&gt;23</title>\n<path fill=\"none\" stroke=\"#000000\" d=\"M1099.8324,-1055.8796C1104.9909,-1047.2335 1110.4808,-1038.0322 1115.8076,-1029.1042\"/>\n<polygon fill=\"#000000\" stroke=\"#000000\" points=\"1118.9436,-1030.679 1121.0617,-1020.2981 1112.9322,-1027.0924 1118.9436,-1030.679\"/>\n</g>\n<!-- 21 -->\n<g id=\"node22\" class=\"node\">\n<title>21</title>\n<path fill=\"#e89152\" stroke=\"#000000\" d=\"M914,-893.5C914,-893.5 816,-893.5 816,-893.5 810,-893.5 804,-887.5 804,-881.5 804,-881.5 804,-837.5 804,-837.5 804,-831.5 810,-825.5 816,-825.5 816,-825.5 914,-825.5 914,-825.5 920,-825.5 926,-831.5 926,-837.5 926,-837.5 926,-881.5 926,-881.5 926,-887.5 920,-893.5 914,-893.5\"/>\n<text text-anchor=\"start\" x=\"827\" y=\"-878.3\" font-family=\"Helvetica,sans-Serif\" font-size=\"14.00\" fill=\"#000000\">gini = 0.201</text>\n<text text-anchor=\"start\" x=\"821\" y=\"-863.3\" font-family=\"Helvetica,sans-Serif\" font-size=\"14.00\" fill=\"#000000\">samples = 44</text>\n<text text-anchor=\"start\" x=\"819.5\" y=\"-848.3\" font-family=\"Helvetica,sans-Serif\" font-size=\"14.00\" fill=\"#000000\">value = [39, 5]</text>\n<text text-anchor=\"start\" x=\"812\" y=\"-833.3\" font-family=\"Helvetica,sans-Serif\" font-size=\"14.00\" fill=\"#000000\">class = Dead (0)</text>\n</g>\n<!-- 20&#45;&gt;21 -->\n<g id=\"edge21\" class=\"edge\">\n<title>20&#45;&gt;21</title>\n<path fill=\"none\" stroke=\"#000000\" d=\"M956.0348,-936.8796C942.1927,-925.1138 927.1408,-912.3197 913.3359,-900.5855\"/>\n<polygon fill=\"#000000\" stroke=\"#000000\" points=\"915.2567,-897.6247 905.3705,-893.8149 910.7231,-902.9582 915.2567,-897.6247\"/>\n</g>\n<!-- 22 -->\n<g id=\"node23\" class=\"node\">\n<title>22</title>\n<path fill=\"#e6843e\" stroke=\"#000000\" d=\"M1054,-893.5C1054,-893.5 956,-893.5 956,-893.5 950,-893.5 944,-887.5 944,-881.5 944,-881.5 944,-837.5 944,-837.5 944,-831.5 950,-825.5 956,-825.5 956,-825.5 1054,-825.5 1054,-825.5 1060,-825.5 1066,-831.5 1066,-837.5 1066,-837.5 1066,-881.5 1066,-881.5 1066,-887.5 1060,-893.5 1054,-893.5\"/>\n<text text-anchor=\"start\" x=\"967\" y=\"-878.3\" font-family=\"Helvetica,sans-Serif\" font-size=\"14.00\" fill=\"#000000\">gini = 0.053</text>\n<text text-anchor=\"start\" x=\"961\" y=\"-863.3\" font-family=\"Helvetica,sans-Serif\" font-size=\"14.00\" fill=\"#000000\">samples = 37</text>\n<text text-anchor=\"start\" x=\"959.5\" y=\"-848.3\" font-family=\"Helvetica,sans-Serif\" font-size=\"14.00\" fill=\"#000000\">value = [36, 1]</text>\n<text text-anchor=\"start\" x=\"952\" y=\"-833.3\" font-family=\"Helvetica,sans-Serif\" font-size=\"14.00\" fill=\"#000000\">class = Dead (0)</text>\n</g>\n<!-- 20&#45;&gt;22 -->\n<g id=\"edge22\" class=\"edge\">\n<title>20&#45;&gt;22</title>\n<path fill=\"none\" stroke=\"#000000\" d=\"M1005,-936.8796C1005,-926.2134 1005,-914.7021 1005,-903.9015\"/>\n<polygon fill=\"#000000\" stroke=\"#000000\" points=\"1008.5001,-903.8149 1005,-893.8149 1001.5001,-903.815 1008.5001,-903.8149\"/>\n</g>\n<!-- 24 -->\n<g id=\"node25\" class=\"node\">\n<title>24</title>\n<path fill=\"#efb388\" stroke=\"#000000\" d=\"M1194,-893.5C1194,-893.5 1096,-893.5 1096,-893.5 1090,-893.5 1084,-887.5 1084,-881.5 1084,-881.5 1084,-837.5 1084,-837.5 1084,-831.5 1090,-825.5 1096,-825.5 1096,-825.5 1194,-825.5 1194,-825.5 1200,-825.5 1206,-831.5 1206,-837.5 1206,-837.5 1206,-881.5 1206,-881.5 1206,-887.5 1200,-893.5 1194,-893.5\"/>\n<text text-anchor=\"start\" x=\"1107\" y=\"-878.3\" font-family=\"Helvetica,sans-Serif\" font-size=\"14.00\" fill=\"#000000\">gini = 0.408</text>\n<text text-anchor=\"start\" x=\"1101\" y=\"-863.3\" font-family=\"Helvetica,sans-Serif\" font-size=\"14.00\" fill=\"#000000\">samples = 14</text>\n<text text-anchor=\"start\" x=\"1099.5\" y=\"-848.3\" font-family=\"Helvetica,sans-Serif\" font-size=\"14.00\" fill=\"#000000\">value = [10, 4]</text>\n<text text-anchor=\"start\" x=\"1092\" y=\"-833.3\" font-family=\"Helvetica,sans-Serif\" font-size=\"14.00\" fill=\"#000000\">class = Dead (0)</text>\n</g>\n<!-- 23&#45;&gt;24 -->\n<g id=\"edge24\" class=\"edge\">\n<title>23&#45;&gt;24</title>\n<path fill=\"none\" stroke=\"#000000\" d=\"M1145.6502,-936.8796C1145.5606,-926.2134 1145.4639,-914.7021 1145.3731,-903.9015\"/>\n<polygon fill=\"#000000\" stroke=\"#000000\" points=\"1148.8724,-903.7851 1145.2884,-893.8149 1141.8726,-903.844 1148.8724,-903.7851\"/>\n</g>\n<!-- 25 -->\n<g id=\"node26\" class=\"node\">\n<title>25</title>\n<path fill=\"#e89152\" stroke=\"#000000\" d=\"M1349.5,-901C1349.5,-901 1236.5,-901 1236.5,-901 1230.5,-901 1224.5,-895 1224.5,-889 1224.5,-889 1224.5,-830 1224.5,-830 1224.5,-824 1230.5,-818 1236.5,-818 1236.5,-818 1349.5,-818 1349.5,-818 1355.5,-818 1361.5,-824 1361.5,-830 1361.5,-830 1361.5,-889 1361.5,-889 1361.5,-895 1355.5,-901 1349.5,-901\"/>\n<text text-anchor=\"start\" x=\"1232.5\" y=\"-885.8\" font-family=\"Helvetica,sans-Serif\" font-size=\"14.00\" fill=\"#000000\">Embarked_C ≤ 0.5</text>\n<text text-anchor=\"start\" x=\"1255\" y=\"-870.8\" font-family=\"Helvetica,sans-Serif\" font-size=\"14.00\" fill=\"#000000\">gini = 0.199</text>\n<text text-anchor=\"start\" x=\"1245\" y=\"-855.8\" font-family=\"Helvetica,sans-Serif\" font-size=\"14.00\" fill=\"#000000\">samples = 143</text>\n<text text-anchor=\"start\" x=\"1239\" y=\"-840.8\" font-family=\"Helvetica,sans-Serif\" font-size=\"14.00\" fill=\"#000000\">value = [127, 16]</text>\n<text text-anchor=\"start\" x=\"1240\" y=\"-825.8\" font-family=\"Helvetica,sans-Serif\" font-size=\"14.00\" fill=\"#000000\">class = Dead (0)</text>\n</g>\n<!-- 23&#45;&gt;25 -->\n<g id=\"edge25\" class=\"edge\">\n<title>23&#45;&gt;25</title>\n<path fill=\"none\" stroke=\"#000000\" d=\"M1197.4135,-936.8796C1209.0952,-927.4229 1221.5975,-917.302 1233.581,-907.6011\"/>\n<polygon fill=\"#000000\" stroke=\"#000000\" points=\"1235.7968,-910.3105 1241.3671,-901.2981 1231.3924,-904.8697 1235.7968,-910.3105\"/>\n</g>\n<!-- 26 -->\n<g id=\"node27\" class=\"node\">\n<title>26</title>\n<path fill=\"#e88f4f\" stroke=\"#000000\" d=\"M1203,-782C1203,-782 1103,-782 1103,-782 1097,-782 1091,-776 1091,-770 1091,-770 1091,-711 1091,-711 1091,-705 1097,-699 1103,-699 1103,-699 1203,-699 1203,-699 1209,-699 1215,-705 1215,-711 1215,-711 1215,-770 1215,-770 1215,-776 1209,-782 1203,-782\"/>\n<text text-anchor=\"start\" x=\"1116\" y=\"-766.8\" font-family=\"Helvetica,sans-Serif\" font-size=\"14.00\" fill=\"#000000\">Fare ≤ 7.91</text>\n<text text-anchor=\"start\" x=\"1119.5\" y=\"-751.8\" font-family=\"Helvetica,sans-Serif\" font-size=\"14.00\" fill=\"#000000\">gini = 0.18</text>\n<text text-anchor=\"start\" x=\"1105\" y=\"-736.8\" font-family=\"Helvetica,sans-Serif\" font-size=\"14.00\" fill=\"#000000\">samples = 130</text>\n<text text-anchor=\"start\" x=\"1099\" y=\"-721.8\" font-family=\"Helvetica,sans-Serif\" font-size=\"14.00\" fill=\"#000000\">value = [117, 13]</text>\n<text text-anchor=\"start\" x=\"1100\" y=\"-706.8\" font-family=\"Helvetica,sans-Serif\" font-size=\"14.00\" fill=\"#000000\">class = Dead (0)</text>\n</g>\n<!-- 25&#45;&gt;26 -->\n<g id=\"edge26\" class=\"edge\">\n<title>25&#45;&gt;26</title>\n<path fill=\"none\" stroke=\"#000000\" d=\"M1244.0348,-817.8796C1233.0153,-808.513 1221.2291,-798.4948 1209.9158,-788.8784\"/>\n<polygon fill=\"#000000\" stroke=\"#000000\" points=\"1212.0604,-786.1078 1202.1742,-782.2981 1207.5268,-791.4414 1212.0604,-786.1078\"/>\n</g>\n<!-- 39 -->\n<g id=\"node40\" class=\"node\">\n<title>39</title>\n<path fill=\"#eda774\" stroke=\"#000000\" d=\"M1343,-774.5C1343,-774.5 1245,-774.5 1245,-774.5 1239,-774.5 1233,-768.5 1233,-762.5 1233,-762.5 1233,-718.5 1233,-718.5 1233,-712.5 1239,-706.5 1245,-706.5 1245,-706.5 1343,-706.5 1343,-706.5 1349,-706.5 1355,-712.5 1355,-718.5 1355,-718.5 1355,-762.5 1355,-762.5 1355,-768.5 1349,-774.5 1343,-774.5\"/>\n<text text-anchor=\"start\" x=\"1256\" y=\"-759.3\" font-family=\"Helvetica,sans-Serif\" font-size=\"14.00\" fill=\"#000000\">gini = 0.355</text>\n<text text-anchor=\"start\" x=\"1250\" y=\"-744.3\" font-family=\"Helvetica,sans-Serif\" font-size=\"14.00\" fill=\"#000000\">samples = 13</text>\n<text text-anchor=\"start\" x=\"1248.5\" y=\"-729.3\" font-family=\"Helvetica,sans-Serif\" font-size=\"14.00\" fill=\"#000000\">value = [10, 3]</text>\n<text text-anchor=\"start\" x=\"1241\" y=\"-714.3\" font-family=\"Helvetica,sans-Serif\" font-size=\"14.00\" fill=\"#000000\">class = Dead (0)</text>\n</g>\n<!-- 25&#45;&gt;39 -->\n<g id=\"edge39\" class=\"edge\">\n<title>25&#45;&gt;39</title>\n<path fill=\"none\" stroke=\"#000000\" d=\"M1293.3498,-817.8796C1293.4394,-807.2134 1293.5361,-795.7021 1293.6269,-784.9015\"/>\n<polygon fill=\"#000000\" stroke=\"#000000\" points=\"1297.1274,-784.844 1293.7116,-774.8149 1290.1276,-784.7851 1297.1274,-784.844\"/>\n</g>\n<!-- 27 -->\n<g id=\"node28\" class=\"node\">\n<title>27</title>\n<path fill=\"#e6853f\" stroke=\"#000000\" d=\"M1063,-655.5C1063,-655.5 965,-655.5 965,-655.5 959,-655.5 953,-649.5 953,-643.5 953,-643.5 953,-599.5 953,-599.5 953,-593.5 959,-587.5 965,-587.5 965,-587.5 1063,-587.5 1063,-587.5 1069,-587.5 1075,-593.5 1075,-599.5 1075,-599.5 1075,-643.5 1075,-643.5 1075,-649.5 1069,-655.5 1063,-655.5\"/>\n<text text-anchor=\"start\" x=\"976\" y=\"-640.3\" font-family=\"Helvetica,sans-Serif\" font-size=\"14.00\" fill=\"#000000\">gini = 0.061</text>\n<text text-anchor=\"start\" x=\"970\" y=\"-625.3\" font-family=\"Helvetica,sans-Serif\" font-size=\"14.00\" fill=\"#000000\">samples = 32</text>\n<text text-anchor=\"start\" x=\"968.5\" y=\"-610.3\" font-family=\"Helvetica,sans-Serif\" font-size=\"14.00\" fill=\"#000000\">value = [31, 1]</text>\n<text text-anchor=\"start\" x=\"961\" y=\"-595.3\" font-family=\"Helvetica,sans-Serif\" font-size=\"14.00\" fill=\"#000000\">class = Dead (0)</text>\n</g>\n<!-- 26&#45;&gt;27 -->\n<g id=\"edge27\" class=\"edge\">\n<title>26&#45;&gt;27</title>\n<path fill=\"none\" stroke=\"#000000\" d=\"M1104.3845,-698.8796C1090.6413,-687.1138 1075.6969,-674.3197 1061.9907,-662.5855\"/>\n<polygon fill=\"#000000\" stroke=\"#000000\" points=\"1063.9548,-659.6596 1054.0822,-655.8149 1059.4024,-664.9771 1063.9548,-659.6596\"/>\n</g>\n<!-- 28 -->\n<g id=\"node29\" class=\"node\">\n<title>28</title>\n<path fill=\"#e99355\" stroke=\"#000000\" d=\"M1203,-663C1203,-663 1105,-663 1105,-663 1099,-663 1093,-657 1093,-651 1093,-651 1093,-592 1093,-592 1093,-586 1099,-580 1105,-580 1105,-580 1203,-580 1203,-580 1209,-580 1215,-586 1215,-592 1215,-592 1215,-651 1215,-651 1215,-657 1209,-663 1203,-663\"/>\n<text text-anchor=\"start\" x=\"1113\" y=\"-647.8\" font-family=\"Helvetica,sans-Serif\" font-size=\"14.00\" fill=\"#000000\">Fare ≤ 7.988</text>\n<text text-anchor=\"start\" x=\"1116\" y=\"-632.8\" font-family=\"Helvetica,sans-Serif\" font-size=\"14.00\" fill=\"#000000\">gini = 0.215</text>\n<text text-anchor=\"start\" x=\"1110\" y=\"-617.8\" font-family=\"Helvetica,sans-Serif\" font-size=\"14.00\" fill=\"#000000\">samples = 98</text>\n<text text-anchor=\"start\" x=\"1104\" y=\"-602.8\" font-family=\"Helvetica,sans-Serif\" font-size=\"14.00\" fill=\"#000000\">value = [86, 12]</text>\n<text text-anchor=\"start\" x=\"1101\" y=\"-587.8\" font-family=\"Helvetica,sans-Serif\" font-size=\"14.00\" fill=\"#000000\">class = Dead (0)</text>\n</g>\n<!-- 26&#45;&gt;28 -->\n<g id=\"edge28\" class=\"edge\">\n<title>26&#45;&gt;28</title>\n<path fill=\"none\" stroke=\"#000000\" d=\"M1153.3498,-698.8796C1153.4186,-690.6838 1153.4917,-681.9891 1153.563,-673.5013\"/>\n<polygon fill=\"#000000\" stroke=\"#000000\" points=\"1157.0645,-673.3272 1153.6488,-663.2981 1150.0648,-673.2683 1157.0645,-673.3272\"/>\n</g>\n<!-- 29 -->\n<g id=\"node30\" class=\"node\">\n<title>29</title>\n<path fill=\"#f2c09c\" stroke=\"#000000\" d=\"M1098,-536.5C1098,-536.5 1000,-536.5 1000,-536.5 994,-536.5 988,-530.5 988,-524.5 988,-524.5 988,-480.5 988,-480.5 988,-474.5 994,-468.5 1000,-468.5 1000,-468.5 1098,-468.5 1098,-468.5 1104,-468.5 1110,-474.5 1110,-480.5 1110,-480.5 1110,-524.5 1110,-524.5 1110,-530.5 1104,-536.5 1098,-536.5\"/>\n<text text-anchor=\"start\" x=\"1011\" y=\"-521.3\" font-family=\"Helvetica,sans-Serif\" font-size=\"14.00\" fill=\"#000000\">gini = 0.444</text>\n<text text-anchor=\"start\" x=\"1009.5\" y=\"-506.3\" font-family=\"Helvetica,sans-Serif\" font-size=\"14.00\" fill=\"#000000\">samples = 6</text>\n<text text-anchor=\"start\" x=\"1007.5\" y=\"-491.3\" font-family=\"Helvetica,sans-Serif\" font-size=\"14.00\" fill=\"#000000\">value = [4, 2]</text>\n<text text-anchor=\"start\" x=\"996\" y=\"-476.3\" font-family=\"Helvetica,sans-Serif\" font-size=\"14.00\" fill=\"#000000\">class = Dead (0)</text>\n</g>\n<!-- 28&#45;&gt;29 -->\n<g id=\"edge29\" class=\"edge\">\n<title>28&#45;&gt;29</title>\n<path fill=\"none\" stroke=\"#000000\" d=\"M1117.2761,-579.8796C1107.1856,-568.4436 1096.2379,-556.0363 1086.125,-544.575\"/>\n<polygon fill=\"#000000\" stroke=\"#000000\" points=\"1088.5186,-541.9977 1079.2779,-536.8149 1083.2697,-546.629 1088.5186,-541.9977\"/>\n</g>\n<!-- 30 -->\n<g id=\"node31\" class=\"node\">\n<title>30</title>\n<path fill=\"#e89051\" stroke=\"#000000\" d=\"M1238,-544C1238,-544 1140,-544 1140,-544 1134,-544 1128,-538 1128,-532 1128,-532 1128,-473 1128,-473 1128,-467 1134,-461 1140,-461 1140,-461 1238,-461 1238,-461 1244,-461 1250,-467 1250,-473 1250,-473 1250,-532 1250,-532 1250,-538 1244,-544 1238,-544\"/>\n<text text-anchor=\"start\" x=\"1148\" y=\"-528.8\" font-family=\"Helvetica,sans-Serif\" font-size=\"14.00\" fill=\"#000000\">Fare ≤ 13.25</text>\n<text text-anchor=\"start\" x=\"1151\" y=\"-513.8\" font-family=\"Helvetica,sans-Serif\" font-size=\"14.00\" fill=\"#000000\">gini = 0.194</text>\n<text text-anchor=\"start\" x=\"1145\" y=\"-498.8\" font-family=\"Helvetica,sans-Serif\" font-size=\"14.00\" fill=\"#000000\">samples = 92</text>\n<text text-anchor=\"start\" x=\"1139\" y=\"-483.8\" font-family=\"Helvetica,sans-Serif\" font-size=\"14.00\" fill=\"#000000\">value = [82, 10]</text>\n<text text-anchor=\"start\" x=\"1136\" y=\"-468.8\" font-family=\"Helvetica,sans-Serif\" font-size=\"14.00\" fill=\"#000000\">class = Dead (0)</text>\n</g>\n<!-- 28&#45;&gt;30 -->\n<g id=\"edge30\" class=\"edge\">\n<title>28&#45;&gt;30</title>\n<path fill=\"none\" stroke=\"#000000\" d=\"M1166.2413,-579.8796C1168.7048,-571.5037 1171.3216,-562.6067 1173.87,-553.942\"/>\n<polygon fill=\"#000000\" stroke=\"#000000\" points=\"1177.2425,-554.8793 1176.7064,-544.2981 1170.5269,-552.9041 1177.2425,-554.8793\"/>\n</g>\n<!-- 31 -->\n<g id=\"node32\" class=\"node\">\n<title>31</title>\n<path fill=\"#e89253\" stroke=\"#000000\" d=\"M1098,-425C1098,-425 1000,-425 1000,-425 994,-425 988,-419 988,-413 988,-413 988,-354 988,-354 988,-348 994,-342 1000,-342 1000,-342 1098,-342 1098,-342 1104,-342 1110,-348 1110,-354 1110,-354 1110,-413 1110,-413 1110,-419 1104,-425 1098,-425\"/>\n<text text-anchor=\"start\" x=\"1008\" y=\"-409.8\" font-family=\"Helvetica,sans-Serif\" font-size=\"14.00\" fill=\"#000000\">Fare ≤ 8.081</text>\n<text text-anchor=\"start\" x=\"1011\" y=\"-394.8\" font-family=\"Helvetica,sans-Serif\" font-size=\"14.00\" fill=\"#000000\">gini = 0.208</text>\n<text text-anchor=\"start\" x=\"1005\" y=\"-379.8\" font-family=\"Helvetica,sans-Serif\" font-size=\"14.00\" fill=\"#000000\">samples = 85</text>\n<text text-anchor=\"start\" x=\"999\" y=\"-364.8\" font-family=\"Helvetica,sans-Serif\" font-size=\"14.00\" fill=\"#000000\">value = [75, 10]</text>\n<text text-anchor=\"start\" x=\"996\" y=\"-349.8\" font-family=\"Helvetica,sans-Serif\" font-size=\"14.00\" fill=\"#000000\">class = Dead (0)</text>\n</g>\n<!-- 30&#45;&gt;31 -->\n<g id=\"edge31\" class=\"edge\">\n<title>30&#45;&gt;31</title>\n<path fill=\"none\" stroke=\"#000000\" d=\"M1140.0348,-460.8796C1129.0153,-451.513 1117.2291,-441.4948 1105.9158,-431.8784\"/>\n<polygon fill=\"#000000\" stroke=\"#000000\" points=\"1108.0604,-429.1078 1098.1742,-425.2981 1103.5268,-434.4414 1108.0604,-429.1078\"/>\n</g>\n<!-- 38 -->\n<g id=\"node39\" class=\"node\">\n<title>38</title>\n<path fill=\"#e58139\" stroke=\"#000000\" d=\"M1238,-417.5C1238,-417.5 1140,-417.5 1140,-417.5 1134,-417.5 1128,-411.5 1128,-405.5 1128,-405.5 1128,-361.5 1128,-361.5 1128,-355.5 1134,-349.5 1140,-349.5 1140,-349.5 1238,-349.5 1238,-349.5 1244,-349.5 1250,-355.5 1250,-361.5 1250,-361.5 1250,-405.5 1250,-405.5 1250,-411.5 1244,-417.5 1238,-417.5\"/>\n<text text-anchor=\"start\" x=\"1159.5\" y=\"-402.3\" font-family=\"Helvetica,sans-Serif\" font-size=\"14.00\" fill=\"#000000\">gini = 0.0</text>\n<text text-anchor=\"start\" x=\"1149.5\" y=\"-387.3\" font-family=\"Helvetica,sans-Serif\" font-size=\"14.00\" fill=\"#000000\">samples = 7</text>\n<text text-anchor=\"start\" x=\"1147.5\" y=\"-372.3\" font-family=\"Helvetica,sans-Serif\" font-size=\"14.00\" fill=\"#000000\">value = [7, 0]</text>\n<text text-anchor=\"start\" x=\"1136\" y=\"-357.3\" font-family=\"Helvetica,sans-Serif\" font-size=\"14.00\" fill=\"#000000\">class = Dead (0)</text>\n</g>\n<!-- 30&#45;&gt;38 -->\n<g id=\"edge38\" class=\"edge\">\n<title>30&#45;&gt;38</title>\n<path fill=\"none\" stroke=\"#000000\" d=\"M1189,-460.8796C1189,-450.2134 1189,-438.7021 1189,-427.9015\"/>\n<polygon fill=\"#000000\" stroke=\"#000000\" points=\"1192.5001,-427.8149 1189,-417.8149 1185.5001,-427.815 1192.5001,-427.8149\"/>\n</g>\n<!-- 32 -->\n<g id=\"node33\" class=\"node\">\n<title>32</title>\n<path fill=\"#e78c49\" stroke=\"#000000\" d=\"M1028,-298.5C1028,-298.5 930,-298.5 930,-298.5 924,-298.5 918,-292.5 918,-286.5 918,-286.5 918,-242.5 918,-242.5 918,-236.5 924,-230.5 930,-230.5 930,-230.5 1028,-230.5 1028,-230.5 1034,-230.5 1040,-236.5 1040,-242.5 1040,-242.5 1040,-286.5 1040,-286.5 1040,-292.5 1034,-298.5 1028,-298.5\"/>\n<text text-anchor=\"start\" x=\"941\" y=\"-283.3\" font-family=\"Helvetica,sans-Serif\" font-size=\"14.00\" fill=\"#000000\">gini = 0.142</text>\n<text text-anchor=\"start\" x=\"935\" y=\"-268.3\" font-family=\"Helvetica,sans-Serif\" font-size=\"14.00\" fill=\"#000000\">samples = 26</text>\n<text text-anchor=\"start\" x=\"933.5\" y=\"-253.3\" font-family=\"Helvetica,sans-Serif\" font-size=\"14.00\" fill=\"#000000\">value = [24, 2]</text>\n<text text-anchor=\"start\" x=\"926\" y=\"-238.3\" font-family=\"Helvetica,sans-Serif\" font-size=\"14.00\" fill=\"#000000\">class = Dead (0)</text>\n</g>\n<!-- 31&#45;&gt;32 -->\n<g id=\"edge32\" class=\"edge\">\n<title>31&#45;&gt;32</title>\n<path fill=\"none\" stroke=\"#000000\" d=\"M1024.5174,-341.8796C1017.9844,-330.7735 1010.9125,-318.7513 1004.3348,-307.5691\"/>\n<polygon fill=\"#000000\" stroke=\"#000000\" points=\"1007.2723,-305.6597 999.1853,-298.8149 1001.2387,-309.2089 1007.2723,-305.6597\"/>\n</g>\n<!-- 33 -->\n<g id=\"node34\" class=\"node\">\n<title>33</title>\n<path fill=\"#e99558\" stroke=\"#000000\" d=\"M1168,-306C1168,-306 1070,-306 1070,-306 1064,-306 1058,-300 1058,-294 1058,-294 1058,-235 1058,-235 1058,-229 1064,-223 1070,-223 1070,-223 1168,-223 1168,-223 1174,-223 1180,-229 1180,-235 1180,-235 1180,-294 1180,-294 1180,-300 1174,-306 1168,-306\"/>\n<text text-anchor=\"start\" x=\"1078\" y=\"-290.8\" font-family=\"Helvetica,sans-Serif\" font-size=\"14.00\" fill=\"#000000\">Fare ≤ 8.135</text>\n<text text-anchor=\"start\" x=\"1081\" y=\"-275.8\" font-family=\"Helvetica,sans-Serif\" font-size=\"14.00\" fill=\"#000000\">gini = 0.234</text>\n<text text-anchor=\"start\" x=\"1075\" y=\"-260.8\" font-family=\"Helvetica,sans-Serif\" font-size=\"14.00\" fill=\"#000000\">samples = 59</text>\n<text text-anchor=\"start\" x=\"1073.5\" y=\"-245.8\" font-family=\"Helvetica,sans-Serif\" font-size=\"14.00\" fill=\"#000000\">value = [51, 8]</text>\n<text text-anchor=\"start\" x=\"1066\" y=\"-230.8\" font-family=\"Helvetica,sans-Serif\" font-size=\"14.00\" fill=\"#000000\">class = Dead (0)</text>\n</g>\n<!-- 31&#45;&gt;33 -->\n<g id=\"edge33\" class=\"edge\">\n<title>31&#45;&gt;33</title>\n<path fill=\"none\" stroke=\"#000000\" d=\"M1073.4826,-341.8796C1078.5685,-333.2335 1083.9811,-324.0322 1089.2328,-315.1042\"/>\n<polygon fill=\"#000000\" stroke=\"#000000\" points=\"1092.3594,-316.692 1094.4129,-306.2981 1086.3259,-313.1428 1092.3594,-316.692\"/>\n</g>\n<!-- 34 -->\n<g id=\"node35\" class=\"node\">\n<title>34</title>\n<path fill=\"#399de5\" stroke=\"#000000\" d=\"M1103,-179.5C1103,-179.5 983,-179.5 983,-179.5 977,-179.5 971,-173.5 971,-167.5 971,-167.5 971,-123.5 971,-123.5 971,-117.5 977,-111.5 983,-111.5 983,-111.5 1103,-111.5 1103,-111.5 1109,-111.5 1115,-117.5 1115,-123.5 1115,-123.5 1115,-167.5 1115,-167.5 1115,-173.5 1109,-179.5 1103,-179.5\"/>\n<text text-anchor=\"start\" x=\"1013.5\" y=\"-164.3\" font-family=\"Helvetica,sans-Serif\" font-size=\"14.00\" fill=\"#000000\">gini = 0.0</text>\n<text text-anchor=\"start\" x=\"1003.5\" y=\"-149.3\" font-family=\"Helvetica,sans-Serif\" font-size=\"14.00\" fill=\"#000000\">samples = 1</text>\n<text text-anchor=\"start\" x=\"1001.5\" y=\"-134.3\" font-family=\"Helvetica,sans-Serif\" font-size=\"14.00\" fill=\"#000000\">value = [0, 1]</text>\n<text text-anchor=\"start\" x=\"979\" y=\"-119.3\" font-family=\"Helvetica,sans-Serif\" font-size=\"14.00\" fill=\"#000000\">class = Survived (1)</text>\n</g>\n<!-- 33&#45;&gt;34 -->\n<g id=\"edge34\" class=\"edge\">\n<title>33&#45;&gt;34</title>\n<path fill=\"none\" stroke=\"#000000\" d=\"M1092.4189,-222.8796C1085.326,-211.7735 1077.6479,-199.7513 1070.5063,-188.5691\"/>\n<polygon fill=\"#000000\" stroke=\"#000000\" points=\"1073.2477,-186.3589 1064.9154,-179.8149 1067.3482,-190.1267 1073.2477,-186.3589\"/>\n</g>\n<!-- 35 -->\n<g id=\"node36\" class=\"node\">\n<title>35</title>\n<path fill=\"#e99254\" stroke=\"#000000\" d=\"M1243,-187C1243,-187 1145,-187 1145,-187 1139,-187 1133,-181 1133,-175 1133,-175 1133,-116 1133,-116 1133,-110 1139,-104 1145,-104 1145,-104 1243,-104 1243,-104 1249,-104 1255,-110 1255,-116 1255,-116 1255,-175 1255,-175 1255,-181 1249,-187 1243,-187\"/>\n<text text-anchor=\"start\" x=\"1153\" y=\"-171.8\" font-family=\"Helvetica,sans-Serif\" font-size=\"14.00\" fill=\"#000000\">Fare ≤ 8.658</text>\n<text text-anchor=\"start\" x=\"1156\" y=\"-156.8\" font-family=\"Helvetica,sans-Serif\" font-size=\"14.00\" fill=\"#000000\">gini = 0.212</text>\n<text text-anchor=\"start\" x=\"1150\" y=\"-141.8\" font-family=\"Helvetica,sans-Serif\" font-size=\"14.00\" fill=\"#000000\">samples = 58</text>\n<text text-anchor=\"start\" x=\"1148.5\" y=\"-126.8\" font-family=\"Helvetica,sans-Serif\" font-size=\"14.00\" fill=\"#000000\">value = [51, 7]</text>\n<text text-anchor=\"start\" x=\"1141\" y=\"-111.8\" font-family=\"Helvetica,sans-Serif\" font-size=\"14.00\" fill=\"#000000\">class = Dead (0)</text>\n</g>\n<!-- 33&#45;&gt;35 -->\n<g id=\"edge35\" class=\"edge\">\n<title>33&#45;&gt;35</title>\n<path fill=\"none\" stroke=\"#000000\" d=\"M1145.2314,-222.8796C1150.7373,-214.1434 1156.6006,-204.8404 1162.2824,-195.8253\"/>\n<polygon fill=\"#000000\" stroke=\"#000000\" points=\"1165.2857,-197.6242 1167.6567,-187.2981 1159.3637,-193.8919 1165.2857,-197.6242\"/>\n</g>\n<!-- 36 -->\n<g id=\"node37\" class=\"node\">\n<title>36</title>\n<path fill=\"#e58139\" stroke=\"#000000\" d=\"M1173,-68C1173,-68 1075,-68 1075,-68 1069,-68 1063,-62 1063,-56 1063,-56 1063,-12 1063,-12 1063,-6 1069,0 1075,0 1075,0 1173,0 1173,0 1179,0 1185,-6 1185,-12 1185,-12 1185,-56 1185,-56 1185,-62 1179,-68 1173,-68\"/>\n<text text-anchor=\"start\" x=\"1094.5\" y=\"-52.8\" font-family=\"Helvetica,sans-Serif\" font-size=\"14.00\" fill=\"#000000\">gini = 0.0</text>\n<text text-anchor=\"start\" x=\"1084.5\" y=\"-37.8\" font-family=\"Helvetica,sans-Serif\" font-size=\"14.00\" fill=\"#000000\">samples = 5</text>\n<text text-anchor=\"start\" x=\"1082.5\" y=\"-22.8\" font-family=\"Helvetica,sans-Serif\" font-size=\"14.00\" fill=\"#000000\">value = [5, 0]</text>\n<text text-anchor=\"start\" x=\"1071\" y=\"-7.8\" font-family=\"Helvetica,sans-Serif\" font-size=\"14.00\" fill=\"#000000\">class = Dead (0)</text>\n</g>\n<!-- 35&#45;&gt;36 -->\n<g id=\"edge36\" class=\"edge\">\n<title>35&#45;&gt;36</title>\n<path fill=\"none\" stroke=\"#000000\" d=\"M1167.9346,-103.9815C1162.3955,-95.1585 1156.5364,-85.8258 1150.9645,-76.9506\"/>\n<polygon fill=\"#000000\" stroke=\"#000000\" points=\"1153.7922,-74.872 1145.5108,-68.2637 1147.8637,-78.594 1153.7922,-74.872\"/>\n</g>\n<!-- 37 -->\n<g id=\"node38\" class=\"node\">\n<title>37</title>\n<path fill=\"#e99457\" stroke=\"#000000\" d=\"M1313,-68C1313,-68 1215,-68 1215,-68 1209,-68 1203,-62 1203,-56 1203,-56 1203,-12 1203,-12 1203,-6 1209,0 1215,0 1215,0 1313,0 1313,0 1319,0 1325,-6 1325,-12 1325,-12 1325,-56 1325,-56 1325,-62 1319,-68 1313,-68\"/>\n<text text-anchor=\"start\" x=\"1226\" y=\"-52.8\" font-family=\"Helvetica,sans-Serif\" font-size=\"14.00\" fill=\"#000000\">gini = 0.229</text>\n<text text-anchor=\"start\" x=\"1220\" y=\"-37.8\" font-family=\"Helvetica,sans-Serif\" font-size=\"14.00\" fill=\"#000000\">samples = 53</text>\n<text text-anchor=\"start\" x=\"1218.5\" y=\"-22.8\" font-family=\"Helvetica,sans-Serif\" font-size=\"14.00\" fill=\"#000000\">value = [46, 7]</text>\n<text text-anchor=\"start\" x=\"1211\" y=\"-7.8\" font-family=\"Helvetica,sans-Serif\" font-size=\"14.00\" fill=\"#000000\">class = Dead (0)</text>\n</g>\n<!-- 35&#45;&gt;37 -->\n<g id=\"edge37\" class=\"edge\">\n<title>35&#45;&gt;37</title>\n<path fill=\"none\" stroke=\"#000000\" d=\"M1220.0654,-103.9815C1225.6045,-95.1585 1231.4636,-85.8258 1237.0355,-76.9506\"/>\n<polygon fill=\"#000000\" stroke=\"#000000\" points=\"1240.1363,-78.594 1242.4892,-68.2637 1234.2078,-74.872 1240.1363,-78.594\"/>\n</g>\n<!-- 41 -->\n<g id=\"node42\" class=\"node\">\n<title>41</title>\n<path fill=\"#edaa79\" stroke=\"#000000\" d=\"M1490,-1020C1490,-1020 1392,-1020 1392,-1020 1386,-1020 1380,-1014 1380,-1008 1380,-1008 1380,-949 1380,-949 1380,-943 1386,-937 1392,-937 1392,-937 1490,-937 1490,-937 1496,-937 1502,-943 1502,-949 1502,-949 1502,-1008 1502,-1008 1502,-1014 1496,-1020 1490,-1020\"/>\n<text text-anchor=\"start\" x=\"1403.5\" y=\"-1004.8\" font-family=\"Helvetica,sans-Serif\" font-size=\"14.00\" fill=\"#000000\">SibSp ≤ 1.5</text>\n<text text-anchor=\"start\" x=\"1407.5\" y=\"-989.8\" font-family=\"Helvetica,sans-Serif\" font-size=\"14.00\" fill=\"#000000\">gini = 0.37</text>\n<text text-anchor=\"start\" x=\"1393\" y=\"-974.8\" font-family=\"Helvetica,sans-Serif\" font-size=\"14.00\" fill=\"#000000\">samples = 110</text>\n<text text-anchor=\"start\" x=\"1391\" y=\"-959.8\" font-family=\"Helvetica,sans-Serif\" font-size=\"14.00\" fill=\"#000000\">value = [83, 27]</text>\n<text text-anchor=\"start\" x=\"1388\" y=\"-944.8\" font-family=\"Helvetica,sans-Serif\" font-size=\"14.00\" fill=\"#000000\">class = Dead (0)</text>\n</g>\n<!-- 40&#45;&gt;41 -->\n<g id=\"edge41\" class=\"edge\">\n<title>40&#45;&gt;41</title>\n<path fill=\"none\" stroke=\"#000000\" d=\"M1441,-1055.8796C1441,-1047.6838 1441,-1038.9891 1441,-1030.5013\"/>\n<polygon fill=\"#000000\" stroke=\"#000000\" points=\"1444.5001,-1030.298 1441,-1020.2981 1437.5001,-1030.2981 1444.5001,-1030.298\"/>\n</g>\n<!-- 52 -->\n<g id=\"node53\" class=\"node\">\n<title>52</title>\n<path fill=\"#fcf0e8\" stroke=\"#000000\" d=\"M1630,-1012.5C1630,-1012.5 1532,-1012.5 1532,-1012.5 1526,-1012.5 1520,-1006.5 1520,-1000.5 1520,-1000.5 1520,-956.5 1520,-956.5 1520,-950.5 1526,-944.5 1532,-944.5 1532,-944.5 1630,-944.5 1630,-944.5 1636,-944.5 1642,-950.5 1642,-956.5 1642,-956.5 1642,-1000.5 1642,-1000.5 1642,-1006.5 1636,-1012.5 1630,-1012.5\"/>\n<text text-anchor=\"start\" x=\"1543\" y=\"-997.3\" font-family=\"Helvetica,sans-Serif\" font-size=\"14.00\" fill=\"#000000\">gini = 0.498</text>\n<text text-anchor=\"start\" x=\"1537\" y=\"-982.3\" font-family=\"Helvetica,sans-Serif\" font-size=\"14.00\" fill=\"#000000\">samples = 32</text>\n<text text-anchor=\"start\" x=\"1531\" y=\"-967.3\" font-family=\"Helvetica,sans-Serif\" font-size=\"14.00\" fill=\"#000000\">value = [17, 15]</text>\n<text text-anchor=\"start\" x=\"1528\" y=\"-952.3\" font-family=\"Helvetica,sans-Serif\" font-size=\"14.00\" fill=\"#000000\">class = Dead (0)</text>\n</g>\n<!-- 40&#45;&gt;52 -->\n<g id=\"edge52\" class=\"edge\">\n<title>40&#45;&gt;52</title>\n<path fill=\"none\" stroke=\"#000000\" d=\"M1489.9652,-1055.8796C1503.8073,-1044.1138 1518.8592,-1031.3197 1532.6641,-1019.5855\"/>\n<polygon fill=\"#000000\" stroke=\"#000000\" points=\"1535.2769,-1021.9582 1540.6295,-1012.8149 1530.7433,-1016.6247 1535.2769,-1021.9582\"/>\n</g>\n<!-- 42 -->\n<g id=\"node43\" class=\"node\">\n<title>42</title>\n<path fill=\"#efb387\" stroke=\"#000000\" d=\"M1490,-901C1490,-901 1392,-901 1392,-901 1386,-901 1380,-895 1380,-889 1380,-889 1380,-830 1380,-830 1380,-824 1386,-818 1392,-818 1392,-818 1490,-818 1490,-818 1496,-818 1502,-824 1502,-830 1502,-830 1502,-889 1502,-889 1502,-895 1496,-901 1490,-901\"/>\n<text text-anchor=\"start\" x=\"1395.5\" y=\"-885.8\" font-family=\"Helvetica,sans-Serif\" font-size=\"14.00\" fill=\"#000000\">Fare ≤ 52.277</text>\n<text text-anchor=\"start\" x=\"1403\" y=\"-870.8\" font-family=\"Helvetica,sans-Serif\" font-size=\"14.00\" fill=\"#000000\">gini = 0.405</text>\n<text text-anchor=\"start\" x=\"1397\" y=\"-855.8\" font-family=\"Helvetica,sans-Serif\" font-size=\"14.00\" fill=\"#000000\">samples = 92</text>\n<text text-anchor=\"start\" x=\"1391\" y=\"-840.8\" font-family=\"Helvetica,sans-Serif\" font-size=\"14.00\" fill=\"#000000\">value = [66, 26]</text>\n<text text-anchor=\"start\" x=\"1388\" y=\"-825.8\" font-family=\"Helvetica,sans-Serif\" font-size=\"14.00\" fill=\"#000000\">class = Dead (0)</text>\n</g>\n<!-- 41&#45;&gt;42 -->\n<g id=\"edge42\" class=\"edge\">\n<title>41&#45;&gt;42</title>\n<path fill=\"none\" stroke=\"#000000\" d=\"M1441,-936.8796C1441,-928.6838 1441,-919.9891 1441,-911.5013\"/>\n<polygon fill=\"#000000\" stroke=\"#000000\" points=\"1444.5001,-911.298 1441,-901.2981 1437.5001,-911.2981 1444.5001,-911.298\"/>\n</g>\n<!-- 51 -->\n<g id=\"node52\" class=\"node\">\n<title>51</title>\n<path fill=\"#e78845\" stroke=\"#000000\" d=\"M1630,-893.5C1630,-893.5 1532,-893.5 1532,-893.5 1526,-893.5 1520,-887.5 1520,-881.5 1520,-881.5 1520,-837.5 1520,-837.5 1520,-831.5 1526,-825.5 1532,-825.5 1532,-825.5 1630,-825.5 1630,-825.5 1636,-825.5 1642,-831.5 1642,-837.5 1642,-837.5 1642,-881.5 1642,-881.5 1642,-887.5 1636,-893.5 1630,-893.5\"/>\n<text text-anchor=\"start\" x=\"1543\" y=\"-878.3\" font-family=\"Helvetica,sans-Serif\" font-size=\"14.00\" fill=\"#000000\">gini = 0.105</text>\n<text text-anchor=\"start\" x=\"1537\" y=\"-863.3\" font-family=\"Helvetica,sans-Serif\" font-size=\"14.00\" fill=\"#000000\">samples = 18</text>\n<text text-anchor=\"start\" x=\"1535.5\" y=\"-848.3\" font-family=\"Helvetica,sans-Serif\" font-size=\"14.00\" fill=\"#000000\">value = [17, 1]</text>\n<text text-anchor=\"start\" x=\"1528\" y=\"-833.3\" font-family=\"Helvetica,sans-Serif\" font-size=\"14.00\" fill=\"#000000\">class = Dead (0)</text>\n</g>\n<!-- 41&#45;&gt;51 -->\n<g id=\"edge51\" class=\"edge\">\n<title>41&#45;&gt;51</title>\n<path fill=\"none\" stroke=\"#000000\" d=\"M1489.9652,-936.8796C1503.8073,-925.1138 1518.8592,-912.3197 1532.6641,-900.5855\"/>\n<polygon fill=\"#000000\" stroke=\"#000000\" points=\"1535.2769,-902.9582 1540.6295,-893.8149 1530.7433,-897.6247 1535.2769,-902.9582\"/>\n</g>\n<!-- 43 -->\n<g id=\"node44\" class=\"node\">\n<title>43</title>\n<path fill=\"#eca36f\" stroke=\"#000000\" d=\"M1488,-782C1488,-782 1390,-782 1390,-782 1384,-782 1378,-776 1378,-770 1378,-770 1378,-711 1378,-711 1378,-705 1384,-699 1390,-699 1390,-699 1488,-699 1488,-699 1494,-699 1500,-705 1500,-711 1500,-711 1500,-770 1500,-770 1500,-776 1494,-782 1488,-782\"/>\n<text text-anchor=\"start\" x=\"1398\" y=\"-766.8\" font-family=\"Helvetica,sans-Serif\" font-size=\"14.00\" fill=\"#000000\">Fare ≤ 30.75</text>\n<text text-anchor=\"start\" x=\"1401\" y=\"-751.8\" font-family=\"Helvetica,sans-Serif\" font-size=\"14.00\" fill=\"#000000\">gini = 0.337</text>\n<text text-anchor=\"start\" x=\"1395\" y=\"-736.8\" font-family=\"Helvetica,sans-Serif\" font-size=\"14.00\" fill=\"#000000\">samples = 70</text>\n<text text-anchor=\"start\" x=\"1389\" y=\"-721.8\" font-family=\"Helvetica,sans-Serif\" font-size=\"14.00\" fill=\"#000000\">value = [55, 15]</text>\n<text text-anchor=\"start\" x=\"1386\" y=\"-706.8\" font-family=\"Helvetica,sans-Serif\" font-size=\"14.00\" fill=\"#000000\">class = Dead (0)</text>\n</g>\n<!-- 42&#45;&gt;43 -->\n<g id=\"edge43\" class=\"edge\">\n<title>42&#45;&gt;43</title>\n<path fill=\"none\" stroke=\"#000000\" d=\"M1440.3005,-817.8796C1440.1628,-809.6838 1440.0166,-800.9891 1439.874,-792.5013\"/>\n<polygon fill=\"#000000\" stroke=\"#000000\" points=\"1443.3701,-792.2378 1439.7025,-782.2981 1436.3711,-792.3555 1443.3701,-792.2378\"/>\n</g>\n<!-- 50 -->\n<g id=\"node51\" class=\"node\">\n<title>50</title>\n<path fill=\"#ffffff\" stroke=\"#000000\" d=\"M1628,-774.5C1628,-774.5 1530,-774.5 1530,-774.5 1524,-774.5 1518,-768.5 1518,-762.5 1518,-762.5 1518,-718.5 1518,-718.5 1518,-712.5 1524,-706.5 1530,-706.5 1530,-706.5 1628,-706.5 1628,-706.5 1634,-706.5 1640,-712.5 1640,-718.5 1640,-718.5 1640,-762.5 1640,-762.5 1640,-768.5 1634,-774.5 1628,-774.5\"/>\n<text text-anchor=\"start\" x=\"1549.5\" y=\"-759.3\" font-family=\"Helvetica,sans-Serif\" font-size=\"14.00\" fill=\"#000000\">gini = 0.5</text>\n<text text-anchor=\"start\" x=\"1535\" y=\"-744.3\" font-family=\"Helvetica,sans-Serif\" font-size=\"14.00\" fill=\"#000000\">samples = 22</text>\n<text text-anchor=\"start\" x=\"1529\" y=\"-729.3\" font-family=\"Helvetica,sans-Serif\" font-size=\"14.00\" fill=\"#000000\">value = [11, 11]</text>\n<text text-anchor=\"start\" x=\"1526\" y=\"-714.3\" font-family=\"Helvetica,sans-Serif\" font-size=\"14.00\" fill=\"#000000\">class = Dead (0)</text>\n</g>\n<!-- 42&#45;&gt;50 -->\n<g id=\"edge50\" class=\"edge\">\n<title>42&#45;&gt;50</title>\n<path fill=\"none\" stroke=\"#000000\" d=\"M1489.2657,-817.8796C1502.9101,-806.1138 1517.7469,-793.3197 1531.3546,-781.5855\"/>\n<polygon fill=\"#000000\" stroke=\"#000000\" points=\"1533.9187,-783.9961 1539.2062,-774.8149 1529.3473,-778.6948 1533.9187,-783.9961\"/>\n</g>\n<!-- 44 -->\n<g id=\"node45\" class=\"node\">\n<title>44</title>\n<path fill=\"#eeac7d\" stroke=\"#000000\" d=\"M1417,-663C1417,-663 1319,-663 1319,-663 1313,-663 1307,-657 1307,-651 1307,-651 1307,-592 1307,-592 1307,-586 1313,-580 1319,-580 1319,-580 1417,-580 1417,-580 1423,-580 1429,-586 1429,-592 1429,-592 1429,-651 1429,-651 1429,-657 1423,-663 1417,-663\"/>\n<text text-anchor=\"start\" x=\"1327\" y=\"-647.8\" font-family=\"Helvetica,sans-Serif\" font-size=\"14.00\" fill=\"#000000\">Fare ≤ 30.25</text>\n<text text-anchor=\"start\" x=\"1334.5\" y=\"-632.8\" font-family=\"Helvetica,sans-Serif\" font-size=\"14.00\" fill=\"#000000\">gini = 0.38</text>\n<text text-anchor=\"start\" x=\"1324\" y=\"-617.8\" font-family=\"Helvetica,sans-Serif\" font-size=\"14.00\" fill=\"#000000\">samples = 55</text>\n<text text-anchor=\"start\" x=\"1318\" y=\"-602.8\" font-family=\"Helvetica,sans-Serif\" font-size=\"14.00\" fill=\"#000000\">value = [41, 14]</text>\n<text text-anchor=\"start\" x=\"1315\" y=\"-587.8\" font-family=\"Helvetica,sans-Serif\" font-size=\"14.00\" fill=\"#000000\">class = Dead (0)</text>\n</g>\n<!-- 43&#45;&gt;44 -->\n<g id=\"edge44\" class=\"edge\">\n<title>43&#45;&gt;44</title>\n<path fill=\"none\" stroke=\"#000000\" d=\"M1414.1676,-698.8796C1409.0091,-690.2335 1403.5192,-681.0322 1398.1924,-672.1042\"/>\n<polygon fill=\"#000000\" stroke=\"#000000\" points=\"1401.0678,-670.0924 1392.9383,-663.2981 1395.0564,-673.679 1401.0678,-670.0924\"/>\n</g>\n<!-- 49 -->\n<g id=\"node50\" class=\"node\">\n<title>49</title>\n<path fill=\"#e78a47\" stroke=\"#000000\" d=\"M1557,-655.5C1557,-655.5 1459,-655.5 1459,-655.5 1453,-655.5 1447,-649.5 1447,-643.5 1447,-643.5 1447,-599.5 1447,-599.5 1447,-593.5 1453,-587.5 1459,-587.5 1459,-587.5 1557,-587.5 1557,-587.5 1563,-587.5 1569,-593.5 1569,-599.5 1569,-599.5 1569,-643.5 1569,-643.5 1569,-649.5 1563,-655.5 1557,-655.5\"/>\n<text text-anchor=\"start\" x=\"1470\" y=\"-640.3\" font-family=\"Helvetica,sans-Serif\" font-size=\"14.00\" fill=\"#000000\">gini = 0.124</text>\n<text text-anchor=\"start\" x=\"1464\" y=\"-625.3\" font-family=\"Helvetica,sans-Serif\" font-size=\"14.00\" fill=\"#000000\">samples = 15</text>\n<text text-anchor=\"start\" x=\"1462.5\" y=\"-610.3\" font-family=\"Helvetica,sans-Serif\" font-size=\"14.00\" fill=\"#000000\">value = [14, 1]</text>\n<text text-anchor=\"start\" x=\"1455\" y=\"-595.3\" font-family=\"Helvetica,sans-Serif\" font-size=\"14.00\" fill=\"#000000\">class = Dead (0)</text>\n</g>\n<!-- 43&#45;&gt;49 -->\n<g id=\"edge49\" class=\"edge\">\n<title>43&#45;&gt;49</title>\n<path fill=\"none\" stroke=\"#000000\" d=\"M1463.1329,-698.8796C1469.5725,-687.7735 1476.5434,-675.7513 1483.0271,-664.5691\"/>\n<polygon fill=\"#000000\" stroke=\"#000000\" points=\"1486.1148,-666.2215 1488.1031,-655.8149 1480.0591,-662.7102 1486.1148,-666.2215\"/>\n</g>\n<!-- 45 -->\n<g id=\"node46\" class=\"node\">\n<title>45</title>\n<path fill=\"#eda673\" stroke=\"#000000\" d=\"M1417,-544C1417,-544 1319,-544 1319,-544 1313,-544 1307,-538 1307,-532 1307,-532 1307,-473 1307,-473 1307,-467 1313,-461 1319,-461 1319,-461 1417,-461 1417,-461 1423,-461 1429,-467 1429,-473 1429,-473 1429,-532 1429,-532 1429,-538 1423,-544 1417,-544\"/>\n<text text-anchor=\"start\" x=\"1331\" y=\"-528.8\" font-family=\"Helvetica,sans-Serif\" font-size=\"14.00\" fill=\"#000000\">Parch ≤ 0.5</text>\n<text text-anchor=\"start\" x=\"1334.5\" y=\"-513.8\" font-family=\"Helvetica,sans-Serif\" font-size=\"14.00\" fill=\"#000000\">gini = 0.35</text>\n<text text-anchor=\"start\" x=\"1324\" y=\"-498.8\" font-family=\"Helvetica,sans-Serif\" font-size=\"14.00\" fill=\"#000000\">samples = 53</text>\n<text text-anchor=\"start\" x=\"1318\" y=\"-483.8\" font-family=\"Helvetica,sans-Serif\" font-size=\"14.00\" fill=\"#000000\">value = [41, 12]</text>\n<text text-anchor=\"start\" x=\"1315\" y=\"-468.8\" font-family=\"Helvetica,sans-Serif\" font-size=\"14.00\" fill=\"#000000\">class = Dead (0)</text>\n</g>\n<!-- 44&#45;&gt;45 -->\n<g id=\"edge45\" class=\"edge\">\n<title>44&#45;&gt;45</title>\n<path fill=\"none\" stroke=\"#000000\" d=\"M1368,-579.8796C1368,-571.6838 1368,-562.9891 1368,-554.5013\"/>\n<polygon fill=\"#000000\" stroke=\"#000000\" points=\"1371.5001,-554.298 1368,-544.2981 1364.5001,-554.2981 1371.5001,-554.298\"/>\n</g>\n<!-- 48 -->\n<g id=\"node49\" class=\"node\">\n<title>48</title>\n<path fill=\"#399de5\" stroke=\"#000000\" d=\"M1579,-536.5C1579,-536.5 1459,-536.5 1459,-536.5 1453,-536.5 1447,-530.5 1447,-524.5 1447,-524.5 1447,-480.5 1447,-480.5 1447,-474.5 1453,-468.5 1459,-468.5 1459,-468.5 1579,-468.5 1579,-468.5 1585,-468.5 1591,-474.5 1591,-480.5 1591,-480.5 1591,-524.5 1591,-524.5 1591,-530.5 1585,-536.5 1579,-536.5\"/>\n<text text-anchor=\"start\" x=\"1489.5\" y=\"-521.3\" font-family=\"Helvetica,sans-Serif\" font-size=\"14.00\" fill=\"#000000\">gini = 0.0</text>\n<text text-anchor=\"start\" x=\"1479.5\" y=\"-506.3\" font-family=\"Helvetica,sans-Serif\" font-size=\"14.00\" fill=\"#000000\">samples = 2</text>\n<text text-anchor=\"start\" x=\"1477.5\" y=\"-491.3\" font-family=\"Helvetica,sans-Serif\" font-size=\"14.00\" fill=\"#000000\">value = [0, 2]</text>\n<text text-anchor=\"start\" x=\"1455\" y=\"-476.3\" font-family=\"Helvetica,sans-Serif\" font-size=\"14.00\" fill=\"#000000\">class = Survived (1)</text>\n</g>\n<!-- 44&#45;&gt;48 -->\n<g id=\"edge48\" class=\"edge\">\n<title>44&#45;&gt;48</title>\n<path fill=\"none\" stroke=\"#000000\" d=\"M1420.8125,-579.8796C1435.8817,-568.0038 1452.2803,-555.0804 1467.2834,-543.2568\"/>\n<polygon fill=\"#000000\" stroke=\"#000000\" points=\"1469.7698,-545.7536 1475.4575,-536.8149 1465.4369,-540.2557 1469.7698,-545.7536\"/>\n</g>\n<!-- 46 -->\n<g id=\"node47\" class=\"node\">\n<title>46</title>\n<path fill=\"#ea995e\" stroke=\"#000000\" d=\"M1382,-417.5C1382,-417.5 1284,-417.5 1284,-417.5 1278,-417.5 1272,-411.5 1272,-405.5 1272,-405.5 1272,-361.5 1272,-361.5 1272,-355.5 1278,-349.5 1284,-349.5 1284,-349.5 1382,-349.5 1382,-349.5 1388,-349.5 1394,-355.5 1394,-361.5 1394,-361.5 1394,-405.5 1394,-405.5 1394,-411.5 1388,-417.5 1382,-417.5\"/>\n<text text-anchor=\"start\" x=\"1295\" y=\"-402.3\" font-family=\"Helvetica,sans-Serif\" font-size=\"14.00\" fill=\"#000000\">gini = 0.266</text>\n<text text-anchor=\"start\" x=\"1289\" y=\"-387.3\" font-family=\"Helvetica,sans-Serif\" font-size=\"14.00\" fill=\"#000000\">samples = 38</text>\n<text text-anchor=\"start\" x=\"1287.5\" y=\"-372.3\" font-family=\"Helvetica,sans-Serif\" font-size=\"14.00\" fill=\"#000000\">value = [32, 6]</text>\n<text text-anchor=\"start\" x=\"1280\" y=\"-357.3\" font-family=\"Helvetica,sans-Serif\" font-size=\"14.00\" fill=\"#000000\">class = Dead (0)</text>\n</g>\n<!-- 45&#45;&gt;46 -->\n<g id=\"edge46\" class=\"edge\">\n<title>45&#45;&gt;46</title>\n<path fill=\"none\" stroke=\"#000000\" d=\"M1355.7587,-460.8796C1352.5892,-450.1034 1349.1661,-438.4647 1345.9611,-427.5677\"/>\n<polygon fill=\"#000000\" stroke=\"#000000\" points=\"1349.2721,-426.421 1343.0926,-417.8149 1342.5566,-428.3962 1349.2721,-426.421\"/>\n</g>\n<!-- 47 -->\n<g id=\"node48\" class=\"node\">\n<title>47</title>\n<path fill=\"#f6d5bd\" stroke=\"#000000\" d=\"M1522,-417.5C1522,-417.5 1424,-417.5 1424,-417.5 1418,-417.5 1412,-411.5 1412,-405.5 1412,-405.5 1412,-361.5 1412,-361.5 1412,-355.5 1418,-349.5 1424,-349.5 1424,-349.5 1522,-349.5 1522,-349.5 1528,-349.5 1534,-355.5 1534,-361.5 1534,-361.5 1534,-405.5 1534,-405.5 1534,-411.5 1528,-417.5 1522,-417.5\"/>\n<text text-anchor=\"start\" x=\"1439.5\" y=\"-402.3\" font-family=\"Helvetica,sans-Serif\" font-size=\"14.00\" fill=\"#000000\">gini = 0.48</text>\n<text text-anchor=\"start\" x=\"1429\" y=\"-387.3\" font-family=\"Helvetica,sans-Serif\" font-size=\"14.00\" fill=\"#000000\">samples = 15</text>\n<text text-anchor=\"start\" x=\"1431.5\" y=\"-372.3\" font-family=\"Helvetica,sans-Serif\" font-size=\"14.00\" fill=\"#000000\">value = [9, 6]</text>\n<text text-anchor=\"start\" x=\"1420\" y=\"-357.3\" font-family=\"Helvetica,sans-Serif\" font-size=\"14.00\" fill=\"#000000\">class = Dead (0)</text>\n</g>\n<!-- 45&#45;&gt;47 -->\n<g id=\"edge47\" class=\"edge\">\n<title>45&#45;&gt;47</title>\n<path fill=\"none\" stroke=\"#000000\" d=\"M1404.7239,-460.8796C1414.8144,-449.4436 1425.7621,-437.0363 1435.875,-425.575\"/>\n<polygon fill=\"#000000\" stroke=\"#000000\" points=\"1438.7303,-427.629 1442.7221,-417.8149 1433.4814,-422.9977 1438.7303,-427.629\"/>\n</g>\n</g>\n</svg>\n"
          },
          "metadata": {
            "tags": []
          },
          "execution_count": 21
        }
      ]
    },
    {
      "cell_type": "markdown",
      "metadata": {
        "id": "JTYc4_75TI4f"
      },
      "source": [
        "**Understanding Feature Importance**"
      ]
    },
    {
      "cell_type": "code",
      "metadata": {
        "trusted": true,
        "id": "itcXZnnyTI4f",
        "outputId": "4b53cf72-7962-4e1a-9402-610e88ee2cc2",
        "colab": {
          "base_uri": "https://localhost:8080/",
          "height": 298
        }
      },
      "source": [
        "importances = clf.feature_importances_\n",
        "indices = np.argsort(importances)\n",
        "\n",
        "plt.title('Feature Importances')\n",
        "plt.barh(range(len(indices)), importances[indices], color='b', align='center')\n",
        "plt.yticks(range(len(indices)), [feat_names[i] for i in indices])\n",
        "plt.xlabel('Relative Importance')\n",
        "plt.show()"
      ],
      "execution_count": 22,
      "outputs": [
        {
          "output_type": "display_data",
          "data": {
            "image/png": "[encoded data removed]",
            "text/plain": [
              "<Figure size 432x288 with 1 Axes>"
            ]
          },
          "metadata": {
            "tags": [],
            "needs_background": "light"
          }
        }
      ]
    },
    {
      "cell_type": "markdown",
      "metadata": {
        "id": "jtXTcHJ3TI4o"
      },
      "source": [
        "**Creating submission file**"
      ]
    },
    {
      "cell_type": "code",
      "metadata": {
        "trusted": true,
        "id": "xUIh8qSdTI4p",
        "outputId": "8d0a6bdb-afde-4948-dd0d-afca178b10d1",
        "colab": {
          "base_uri": "https://localhost:8080/",
          "height": 206
        }
      },
      "source": [
        "# Loading test dataset\n",
        "test = pd.read_csv('/content/test.csv')\n",
        "\n",
        "# Fit the model\n",
        "clf.fit(train_feature, train_class)\n",
        "\n",
        "# Replace missing Fare values with mean\n",
        "meanFare = dataset['Fare'].mean()\n",
        "test = test.fillna({\"Fare\": meanFare})\n",
        "# Categorical -> One hot encoding\n",
        "test = pd.get_dummies(test, columns=['Sex'])\n",
        "test = pd.get_dummies(test, columns=['Embarked'])\n",
        "\n",
        "#set ids as PassengerId and predict survival\n",
        "ids = test['PassengerId']\n",
        "test_feature = test[feat_names]\n",
        "predictions = clf.predict(test_feature)\n",
        "\n",
        "#set the output as a dataframe and convert to csv file named submission.csv\n",
        "output = pd.DataFrame({ 'PassengerId' : ids, 'Survived': predictions })\n",
        "output.head()"
      ],
      "execution_count": 25,
      "outputs": [
        {
          "output_type": "execute_result",
          "data": {
            "text/html": [
              "<div>\n",
              "<style scoped>\n",
              "    .dataframe tbody tr th:only-of-type {\n",
              "        vertical-align: middle;\n",
              "    }\n",
              "\n",
              "    .dataframe tbody tr th {\n",
              "        vertical-align: top;\n",
              "    }\n",
              "\n",
              "    .dataframe thead th {\n",
              "        text-align: right;\n",
              "    }\n",
              "</style>\n",
              "<table border=\"1\" class=\"dataframe\">\n",
              "  <thead>\n",
              "    <tr style=\"text-align: right;\">\n",
              "      <th></th>\n",
              "      <th>PassengerId</th>\n",
              "      <th>Survived</th>\n",
              "    </tr>\n",
              "  </thead>\n",
              "  <tbody>\n",
              "    <tr>\n",
              "      <th>0</th>\n",
              "      <td>892</td>\n",
              "      <td>0</td>\n",
              "    </tr>\n",
              "    <tr>\n",
              "      <th>1</th>\n",
              "      <td>893</td>\n",
              "      <td>0</td>\n",
              "    </tr>\n",
              "    <tr>\n",
              "      <th>2</th>\n",
              "      <td>894</td>\n",
              "      <td>0</td>\n",
              "    </tr>\n",
              "    <tr>\n",
              "      <th>3</th>\n",
              "      <td>895</td>\n",
              "      <td>0</td>\n",
              "    </tr>\n",
              "    <tr>\n",
              "      <th>4</th>\n",
              "      <td>896</td>\n",
              "      <td>1</td>\n",
              "    </tr>\n",
              "  </tbody>\n",
              "</table>\n",
              "</div>"
            ],
            "text/plain": [
              "   PassengerId  Survived\n",
              "0          892         0\n",
              "1          893         0\n",
              "2          894         0\n",
              "3          895         0\n",
              "4          896         1"
            ]
          },
          "metadata": {
            "tags": []
          },
          "execution_count": 25
        }
      ]
    },
    {
      "cell_type": "code",
      "metadata": {
        "trusted": true,
        "id": "YinDwqEITI4v"
      },
      "source": [
        "output.to_csv('submission.csv', index=False)"
      ],
      "execution_count": 26,
      "outputs": []
    }
  ]
}